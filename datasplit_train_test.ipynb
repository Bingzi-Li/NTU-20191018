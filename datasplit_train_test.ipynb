{
 "cells": [
  {
   "cell_type": "markdown",
   "metadata": {},
   "source": [
    "# Data pre-processing"
   ]
  },
  {
   "cell_type": "code",
   "execution_count": 1,
   "metadata": {},
   "outputs": [],
   "source": [
    "# Here to split raw data into two sets, training set & testing set (Holdout 1/3)"
   ]
  },
  {
   "cell_type": "code",
   "execution_count": 2,
   "metadata": {},
   "outputs": [],
   "source": [
    "import numpy as np\n",
    "import pandas as pd\n",
    "import matplotlib.pyplot as plt"
   ]
  },
  {
   "cell_type": "code",
   "execution_count": 3,
   "metadata": {},
   "outputs": [],
   "source": [
    "# Read in csv file of raw traffic record\n",
    "rec_df_raw = pd.read_csv(\"./data/tmdb_5000_features.csv\")\n",
    "buk_df_raw = pd.read_csv(\"./output/cast_bucket.csv\")"
   ]
  },
  {
   "cell_type": "code",
   "execution_count": 4,
   "metadata": {},
   "outputs": [
    {
     "data": {
      "text/html": [
       "<div>\n",
       "<style scoped>\n",
       "    .dataframe tbody tr th:only-of-type {\n",
       "        vertical-align: middle;\n",
       "    }\n",
       "\n",
       "    .dataframe tbody tr th {\n",
       "        vertical-align: top;\n",
       "    }\n",
       "\n",
       "    .dataframe thead th {\n",
       "        text-align: right;\n",
       "    }\n",
       "</style>\n",
       "<table border=\"1\" class=\"dataframe\">\n",
       "  <thead>\n",
       "    <tr style=\"text-align: right;\">\n",
       "      <th></th>\n",
       "      <th>cast_bucket</th>\n",
       "    </tr>\n",
       "  </thead>\n",
       "  <tbody>\n",
       "    <tr>\n",
       "      <td>0</td>\n",
       "      <td>3</td>\n",
       "    </tr>\n",
       "    <tr>\n",
       "      <td>1</td>\n",
       "      <td>1</td>\n",
       "    </tr>\n",
       "    <tr>\n",
       "      <td>2</td>\n",
       "      <td>3</td>\n",
       "    </tr>\n",
       "    <tr>\n",
       "      <td>3</td>\n",
       "      <td>3</td>\n",
       "    </tr>\n",
       "    <tr>\n",
       "      <td>4</td>\n",
       "      <td>1</td>\n",
       "    </tr>\n",
       "  </tbody>\n",
       "</table>\n",
       "</div>"
      ],
      "text/plain": [
       "   cast_bucket\n",
       "0            3\n",
       "1            1\n",
       "2            3\n",
       "3            3\n",
       "4            1"
      ]
     },
     "execution_count": 4,
     "metadata": {},
     "output_type": "execute_result"
    }
   ],
   "source": [
    "buk_df = buk_df_raw[['cast_bucket']]\n",
    "buk_df.head()"
   ]
  },
  {
   "cell_type": "code",
   "execution_count": 5,
   "metadata": {},
   "outputs": [
    {
     "data": {
      "text/html": [
       "<div>\n",
       "<style scoped>\n",
       "    .dataframe tbody tr th:only-of-type {\n",
       "        vertical-align: middle;\n",
       "    }\n",
       "\n",
       "    .dataframe tbody tr th {\n",
       "        vertical-align: top;\n",
       "    }\n",
       "\n",
       "    .dataframe thead th {\n",
       "        text-align: right;\n",
       "    }\n",
       "</style>\n",
       "<table border=\"1\" class=\"dataframe\">\n",
       "  <thead>\n",
       "    <tr style=\"text-align: right;\">\n",
       "      <th></th>\n",
       "      <th>language</th>\n",
       "      <th>cast_num</th>\n",
       "      <th>new_cast_num</th>\n",
       "      <th>cast_0</th>\n",
       "      <th>crew_num</th>\n",
       "      <th>director</th>\n",
       "      <th>genre_0</th>\n",
       "      <th>company_0</th>\n",
       "      <th>country</th>\n",
       "    </tr>\n",
       "  </thead>\n",
       "  <tbody>\n",
       "    <tr>\n",
       "      <td>0</td>\n",
       "      <td>en</td>\n",
       "      <td>83</td>\n",
       "      <td>3</td>\n",
       "      <td>Sam Worthington</td>\n",
       "      <td>153</td>\n",
       "      <td>James Cameron</td>\n",
       "      <td>Action</td>\n",
       "      <td>Ingenious Film Partners</td>\n",
       "      <td>US</td>\n",
       "    </tr>\n",
       "    <tr>\n",
       "      <td>1</td>\n",
       "      <td>en</td>\n",
       "      <td>34</td>\n",
       "      <td>1</td>\n",
       "      <td>Johnny Depp</td>\n",
       "      <td>32</td>\n",
       "      <td>Gore Verbinski</td>\n",
       "      <td>Adventure</td>\n",
       "      <td>Walt Disney Pictures</td>\n",
       "      <td>US</td>\n",
       "    </tr>\n",
       "    <tr>\n",
       "      <td>2</td>\n",
       "      <td>en</td>\n",
       "      <td>83</td>\n",
       "      <td>3</td>\n",
       "      <td>Daniel Craig</td>\n",
       "      <td>155</td>\n",
       "      <td>Sam Mendes</td>\n",
       "      <td>Action</td>\n",
       "      <td>Columbia Pictures</td>\n",
       "      <td>GB</td>\n",
       "    </tr>\n",
       "    <tr>\n",
       "      <td>3</td>\n",
       "      <td>en</td>\n",
       "      <td>158</td>\n",
       "      <td>3</td>\n",
       "      <td>Christian Bale</td>\n",
       "      <td>217</td>\n",
       "      <td>Christopher Nolan</td>\n",
       "      <td>Action</td>\n",
       "      <td>Legendary Pictures</td>\n",
       "      <td>US</td>\n",
       "    </tr>\n",
       "    <tr>\n",
       "      <td>4</td>\n",
       "      <td>en</td>\n",
       "      <td>27</td>\n",
       "      <td>1</td>\n",
       "      <td>Taylor Kitsch</td>\n",
       "      <td>132</td>\n",
       "      <td>Andrew Stanton</td>\n",
       "      <td>Action</td>\n",
       "      <td>Walt Disney Pictures</td>\n",
       "      <td>US</td>\n",
       "    </tr>\n",
       "  </tbody>\n",
       "</table>\n",
       "</div>"
      ],
      "text/plain": [
       "  language  cast_num  new_cast_num           cast_0  crew_num  \\\n",
       "0       en        83             3  Sam Worthington       153   \n",
       "1       en        34             1      Johnny Depp        32   \n",
       "2       en        83             3     Daniel Craig       155   \n",
       "3       en       158             3   Christian Bale       217   \n",
       "4       en        27             1    Taylor Kitsch       132   \n",
       "\n",
       "            director    genre_0                company_0 country  \n",
       "0      James Cameron     Action  Ingenious Film Partners      US  \n",
       "1     Gore Verbinski  Adventure     Walt Disney Pictures      US  \n",
       "2         Sam Mendes     Action        Columbia Pictures      GB  \n",
       "3  Christopher Nolan     Action       Legendary Pictures      US  \n",
       "4     Andrew Stanton     Action     Walt Disney Pictures      US  "
      ]
     },
     "execution_count": 5,
     "metadata": {},
     "output_type": "execute_result"
    }
   ],
   "source": [
    "# Delete unwanted features, features: language cast_num cast_0 crew_num director genre_0 campany_0 country\n",
    "rec_df =  rec_df_raw[['language', 'cast_num', 'cast_0', 'crew_num', 'director', 'genre_0', 'company_0', 'country']]\n",
    "rec_df.insert(2, 'new_cast_num', buk_df['cast_bucket'])\n",
    "rec_df.head()"
   ]
  },
  {
   "cell_type": "markdown",
   "metadata": {},
   "source": [
    "# Data Visualization"
   ]
  },
  {
   "cell_type": "code",
   "execution_count": 6,
   "metadata": {},
   "outputs": [
    {
     "data": {
      "text/html": [
       "<div>\n",
       "<style scoped>\n",
       "    .dataframe tbody tr th:only-of-type {\n",
       "        vertical-align: middle;\n",
       "    }\n",
       "\n",
       "    .dataframe tbody tr th {\n",
       "        vertical-align: top;\n",
       "    }\n",
       "\n",
       "    .dataframe thead th {\n",
       "        text-align: right;\n",
       "    }\n",
       "</style>\n",
       "<table border=\"1\" class=\"dataframe\">\n",
       "  <thead>\n",
       "    <tr style=\"text-align: right;\">\n",
       "      <th></th>\n",
       "      <th>crew_num</th>\n",
       "    </tr>\n",
       "  </thead>\n",
       "  <tbody>\n",
       "    <tr>\n",
       "      <td>0</td>\n",
       "      <td>153</td>\n",
       "    </tr>\n",
       "    <tr>\n",
       "      <td>1</td>\n",
       "      <td>32</td>\n",
       "    </tr>\n",
       "    <tr>\n",
       "      <td>2</td>\n",
       "      <td>155</td>\n",
       "    </tr>\n",
       "    <tr>\n",
       "      <td>3</td>\n",
       "      <td>217</td>\n",
       "    </tr>\n",
       "    <tr>\n",
       "      <td>4</td>\n",
       "      <td>132</td>\n",
       "    </tr>\n",
       "  </tbody>\n",
       "</table>\n",
       "</div>"
      ],
      "text/plain": [
       "   crew_num\n",
       "0       153\n",
       "1        32\n",
       "2       155\n",
       "3       217\n",
       "4       132"
      ]
     },
     "execution_count": 6,
     "metadata": {},
     "output_type": "execute_result"
    }
   ],
   "source": [
    "# Visualization for attribute crew_num\n",
    "crew_num = rec_df[['crew_num']]\n",
    "crew_ary = np.array(crew_num)\n",
    "crew_num.head()"
   ]
  },
  {
   "cell_type": "raw",
   "metadata": {},
   "source": [
    "Box Plot\n",
    "To evaluate the distribution of data, and decide how to transfer contineous attributes into categorical"
   ]
  },
  {
   "cell_type": "code",
   "execution_count": 7,
   "metadata": {},
   "outputs": [
    {
     "data": {
      "image/png": "[encoded data removed]",
      "text/plain": [
       "<Figure size 432x288 with 1 Axes>"
      ]
     },
     "metadata": {
      "needs_background": "light"
     },
     "output_type": "display_data"
    }
   ],
   "source": [
    "boxplot = crew_num.boxplot(column=['crew_num'])"
   ]
  },
  {
   "cell_type": "code",
   "execution_count": 8,
   "metadata": {},
   "outputs": [
    {
     "data": {
      "text/plain": [
       "8.0"
      ]
     },
     "execution_count": 8,
     "metadata": {},
     "output_type": "execute_result"
    }
   ],
   "source": [
    "# 25 percentile from 0 to 8 -> 0\n",
    "np.percentile(crew_ary, 25)"
   ]
  },
  {
   "cell_type": "code",
   "execution_count": 9,
   "metadata": {},
   "outputs": [
    {
     "data": {
      "text/plain": [
       "16.0"
      ]
     },
     "execution_count": 9,
     "metadata": {},
     "output_type": "execute_result"
    }
   ],
   "source": [
    "# 50 percentile from 9 to 16 -> 1\n",
    "np.median(crew_ary)"
   ]
  },
  {
   "cell_type": "code",
   "execution_count": 10,
   "metadata": {},
   "outputs": [
    {
     "data": {
      "text/plain": [
       "32.0"
      ]
     },
     "execution_count": 10,
     "metadata": {},
     "output_type": "execute_result"
    }
   ],
   "source": [
    "# 75 percentile from 17 to 32 -> 2\n",
    "np.percentile(crew_ary, 75)"
   ]
  },
  {
   "cell_type": "code",
   "execution_count": 11,
   "metadata": {},
   "outputs": [
    {
     "data": {
      "text/plain": [
       "435.0"
      ]
     },
     "execution_count": 11,
     "metadata": {},
     "output_type": "execute_result"
    }
   ],
   "source": [
    "# 100 percentile from 32 to 435 -> 3\n",
    "np.percentile(crew_ary, 100)"
   ]
  },
  {
   "cell_type": "code",
   "execution_count": 12,
   "metadata": {},
   "outputs": [],
   "source": [
    "for index, row in crew_num.iterrows():\n",
    "    num = row[\"crew_num\"]\n",
    "    if 0<=num and num<=8:\n",
    "        row['crew_num'] = 0\n",
    "    elif 8<num and num<=16:\n",
    "        row['crew_num'] = 1\n",
    "    elif 17<num and num<=32:\n",
    "        row['crew_num'] = 2\n",
    "    else:\n",
    "        row['crew_num'] = 3\n",
    "\n",
    "rec_df.insert(5, 'new_crew_num', crew_num['crew_num'])"
   ]
  },
  {
   "cell_type": "code",
   "execution_count": 13,
   "metadata": {},
   "outputs": [
    {
     "data": {
      "text/html": [
       "<div>\n",
       "<style scoped>\n",
       "    .dataframe tbody tr th:only-of-type {\n",
       "        vertical-align: middle;\n",
       "    }\n",
       "\n",
       "    .dataframe tbody tr th {\n",
       "        vertical-align: top;\n",
       "    }\n",
       "\n",
       "    .dataframe thead th {\n",
       "        text-align: right;\n",
       "    }\n",
       "</style>\n",
       "<table border=\"1\" class=\"dataframe\">\n",
       "  <thead>\n",
       "    <tr style=\"text-align: right;\">\n",
       "      <th></th>\n",
       "      <th>language</th>\n",
       "      <th>cast_num</th>\n",
       "      <th>new_cast_num</th>\n",
       "      <th>cast_0</th>\n",
       "      <th>crew_num</th>\n",
       "      <th>new_crew_num</th>\n",
       "      <th>director</th>\n",
       "      <th>genre_0</th>\n",
       "      <th>company_0</th>\n",
       "      <th>country</th>\n",
       "    </tr>\n",
       "  </thead>\n",
       "  <tbody>\n",
       "    <tr>\n",
       "      <td>0</td>\n",
       "      <td>en</td>\n",
       "      <td>83</td>\n",
       "      <td>3</td>\n",
       "      <td>Sam Worthington</td>\n",
       "      <td>153</td>\n",
       "      <td>3</td>\n",
       "      <td>James Cameron</td>\n",
       "      <td>Action</td>\n",
       "      <td>Ingenious Film Partners</td>\n",
       "      <td>US</td>\n",
       "    </tr>\n",
       "    <tr>\n",
       "      <td>1</td>\n",
       "      <td>en</td>\n",
       "      <td>34</td>\n",
       "      <td>1</td>\n",
       "      <td>Johnny Depp</td>\n",
       "      <td>32</td>\n",
       "      <td>2</td>\n",
       "      <td>Gore Verbinski</td>\n",
       "      <td>Adventure</td>\n",
       "      <td>Walt Disney Pictures</td>\n",
       "      <td>US</td>\n",
       "    </tr>\n",
       "    <tr>\n",
       "      <td>2</td>\n",
       "      <td>en</td>\n",
       "      <td>83</td>\n",
       "      <td>3</td>\n",
       "      <td>Daniel Craig</td>\n",
       "      <td>155</td>\n",
       "      <td>3</td>\n",
       "      <td>Sam Mendes</td>\n",
       "      <td>Action</td>\n",
       "      <td>Columbia Pictures</td>\n",
       "      <td>GB</td>\n",
       "    </tr>\n",
       "    <tr>\n",
       "      <td>3</td>\n",
       "      <td>en</td>\n",
       "      <td>158</td>\n",
       "      <td>3</td>\n",
       "      <td>Christian Bale</td>\n",
       "      <td>217</td>\n",
       "      <td>3</td>\n",
       "      <td>Christopher Nolan</td>\n",
       "      <td>Action</td>\n",
       "      <td>Legendary Pictures</td>\n",
       "      <td>US</td>\n",
       "    </tr>\n",
       "    <tr>\n",
       "      <td>4</td>\n",
       "      <td>en</td>\n",
       "      <td>27</td>\n",
       "      <td>1</td>\n",
       "      <td>Taylor Kitsch</td>\n",
       "      <td>132</td>\n",
       "      <td>3</td>\n",
       "      <td>Andrew Stanton</td>\n",
       "      <td>Action</td>\n",
       "      <td>Walt Disney Pictures</td>\n",
       "      <td>US</td>\n",
       "    </tr>\n",
       "  </tbody>\n",
       "</table>\n",
       "</div>"
      ],
      "text/plain": [
       "  language  cast_num  new_cast_num           cast_0  crew_num  new_crew_num  \\\n",
       "0       en        83             3  Sam Worthington       153             3   \n",
       "1       en        34             1      Johnny Depp        32             2   \n",
       "2       en        83             3     Daniel Craig       155             3   \n",
       "3       en       158             3   Christian Bale       217             3   \n",
       "4       en        27             1    Taylor Kitsch       132             3   \n",
       "\n",
       "            director    genre_0                company_0 country  \n",
       "0      James Cameron     Action  Ingenious Film Partners      US  \n",
       "1     Gore Verbinski  Adventure     Walt Disney Pictures      US  \n",
       "2         Sam Mendes     Action        Columbia Pictures      GB  \n",
       "3  Christopher Nolan     Action       Legendary Pictures      US  \n",
       "4     Andrew Stanton     Action     Walt Disney Pictures      US  "
      ]
     },
     "execution_count": 13,
     "metadata": {},
     "output_type": "execute_result"
    }
   ],
   "source": [
    "rec_df.head()"
   ]
  },
  {
   "cell_type": "code",
   "execution_count": 14,
   "metadata": {},
   "outputs": [],
   "source": [
    "# Raw 4790 movies, training 3194, testing 1596\n",
    "train_df = rec_df.head(3194)\n",
    "test_df = rec_df.head(1596)"
   ]
  },
  {
   "cell_type": "raw",
   "metadata": {},
   "source": [
    "train_df.to_csv('chp5_classifiers/train_set.csv', index=False)\n",
    "test_df.to_csv('chp5_classifiers/test_set.csv', index=False)\n",
    "rec_df.to_csv('chp5_classifiers/test_set.csv', index=False)"
   ]
  },
  {
   "cell_type": "markdown",
   "metadata": {},
   "source": [
    "# Categorical data vectorize"
   ]
  },
  {
   "cell_type": "code",
   "execution_count": 21,
   "metadata": {},
   "outputs": [
    {
     "data": {
      "text/html": [
       "<div>\n",
       "<style scoped>\n",
       "    .dataframe tbody tr th:only-of-type {\n",
       "        vertical-align: middle;\n",
       "    }\n",
       "\n",
       "    .dataframe tbody tr th {\n",
       "        vertical-align: top;\n",
       "    }\n",
       "\n",
       "    .dataframe thead th {\n",
       "        text-align: right;\n",
       "    }\n",
       "</style>\n",
       "<table border=\"1\" class=\"dataframe\">\n",
       "  <thead>\n",
       "    <tr style=\"text-align: right;\">\n",
       "      <th></th>\n",
       "      <th>language</th>\n",
       "      <th>cast_0</th>\n",
       "      <th>director</th>\n",
       "      <th>genre_0</th>\n",
       "      <th>company_0</th>\n",
       "      <th>country</th>\n",
       "      <th>cast_num</th>\n",
       "      <th>crew_num</th>\n",
       "    </tr>\n",
       "  </thead>\n",
       "  <tbody>\n",
       "    <tr>\n",
       "      <td>0</td>\n",
       "      <td>0</td>\n",
       "      <td>0</td>\n",
       "      <td>0</td>\n",
       "      <td>0</td>\n",
       "      <td>0</td>\n",
       "      <td>0</td>\n",
       "      <td>3</td>\n",
       "      <td>3</td>\n",
       "    </tr>\n",
       "    <tr>\n",
       "      <td>1</td>\n",
       "      <td>0</td>\n",
       "      <td>1</td>\n",
       "      <td>1</td>\n",
       "      <td>1</td>\n",
       "      <td>1</td>\n",
       "      <td>0</td>\n",
       "      <td>1</td>\n",
       "      <td>2</td>\n",
       "    </tr>\n",
       "    <tr>\n",
       "      <td>2</td>\n",
       "      <td>0</td>\n",
       "      <td>2</td>\n",
       "      <td>2</td>\n",
       "      <td>0</td>\n",
       "      <td>2</td>\n",
       "      <td>1</td>\n",
       "      <td>3</td>\n",
       "      <td>3</td>\n",
       "    </tr>\n",
       "    <tr>\n",
       "      <td>3</td>\n",
       "      <td>0</td>\n",
       "      <td>3</td>\n",
       "      <td>3</td>\n",
       "      <td>0</td>\n",
       "      <td>3</td>\n",
       "      <td>0</td>\n",
       "      <td>3</td>\n",
       "      <td>3</td>\n",
       "    </tr>\n",
       "    <tr>\n",
       "      <td>4</td>\n",
       "      <td>0</td>\n",
       "      <td>4</td>\n",
       "      <td>4</td>\n",
       "      <td>0</td>\n",
       "      <td>1</td>\n",
       "      <td>0</td>\n",
       "      <td>1</td>\n",
       "      <td>3</td>\n",
       "    </tr>\n",
       "  </tbody>\n",
       "</table>\n",
       "</div>"
      ],
      "text/plain": [
       "   language  cast_0  director  genre_0  company_0  country  cast_num  crew_num\n",
       "0         0       0         0        0          0        0         3         3\n",
       "1         0       1         1        1          1        0         1         2\n",
       "2         0       2         2        0          2        1         3         3\n",
       "3         0       3         3        0          3        0         3         3\n",
       "4         0       4         4        0          1        0         1         3"
      ]
     },
     "execution_count": 21,
     "metadata": {},
     "output_type": "execute_result"
    }
   ],
   "source": [
    "columns = ['language', 'cast_0', 'director', 'genre_0', 'company_0', 'country']\n",
    "\n",
    "vectors = {}\n",
    "# for each col\n",
    "for col in columns:\n",
    "    count = 0\n",
    "    dic = {}\n",
    "    result = []\n",
    "    for cell in rec_df[col]:\n",
    "        # find a match in dictionary\n",
    "        if cell not in dic.keys():\n",
    "            dic[cell] = count\n",
    "            result.append(count)\n",
    "            count += 1\n",
    "        else:\n",
    "            result.append(dic[cell])\n",
    "    # insert each column into dictionary (for new dataframe)\n",
    "    vectors[col] = result\n",
    "        \n",
    "# create a new dataframe\n",
    "vector_df = pd.DataFrame(vectors)\n",
    "# add the numeric columns\n",
    "vector_df['cast_num'] = rec_df['new_cast_num']\n",
    "vector_df['crew_num'] = rec_df['new_crew_num']\n",
    "vector_df.head()"
   ]
  },
  {
   "cell_type": "code",
   "execution_count": 22,
   "metadata": {},
   "outputs": [],
   "source": [
    "# export the vector data to csv\n",
    "vector_df.to_csv('chp5_classifiers/vector_data.csv', index=False)"
   ]
  },
  {
   "cell_type": "code",
   "execution_count": null,
   "metadata": {},
   "outputs": [],
   "source": []
  }
 ],
 "metadata": {
  "kernelspec": {
   "display_name": "Python 3",
   "language": "python",
   "name": "python3"
  },
  "language_info": {
   "codemirror_mode": {
    "name": "ipython",
    "version": 3
   },
   "file_extension": ".py",
   "mimetype": "text/x-python",
   "name": "python",
   "nbconvert_exporter": "python",
   "pygments_lexer": "ipython3",
   "version": "3.7.4"
  }
 },
 "nbformat": 4,
 "nbformat_minor": 2
}
