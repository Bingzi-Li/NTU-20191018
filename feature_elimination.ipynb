{
 "cells": [
  {
   "cell_type": "markdown",
   "metadata": {},
   "source": [
    "# Feature Elimination"
   ]
  },
  {
   "cell_type": "code",
   "execution_count": 1,
   "metadata": {
    "pycharm": {
     "is_executing": false
    }
   },
   "outputs": [],
   "source": [
    "import numpy as np\n",
    "import pandas as pd\n",
    "\n",
    "import matplotlib.pyplot as plt\n",
    "import seaborn as sns\n",
    "sns.set(style='white')\n",
    "\n",
    "import sklearn\n",
    "import nltk\n",
    "\n",
    "import json\n",
    "import ssl\n",
    "\n",
    "from collections import Counter\n",
    "from itertools import chain \n",
    "from nltk.tokenize import word_tokenize"
   ]
  },
  {
   "cell_type": "code",
   "execution_count": 2,
   "metadata": {
    "pycharm": {
     "is_executing": false
    }
   },
   "outputs": [
    {
     "name": "stderr",
     "text": [
      "[nltk_data] Downloading package punkt to /Users/wu_ziang/nltk_data...\n[nltk_data]   Package punkt is already up-to-date!\n"
     ],
     "output_type": "stream"
    },
    {
     "data": {
      "text/plain": "True"
     },
     "metadata": {},
     "output_type": "execute_result",
     "execution_count": 2
    }
   ],
   "source": [
    "try:\n",
    "    _create_unverified_https_context = ssl._create_unverified_context\n",
    "except AttributeError:\n",
    "    pass\n",
    "else:\n",
    "    ssl._create_default_https_context = _create_unverified_https_context\n",
    "    \n",
    "nltk.download('punkt')"
   ]
  },
  {
   "cell_type": "markdown",
   "metadata": {},
   "source": [
    "Load the selected data"
   ]
  },
  {
   "cell_type": "code",
   "execution_count": 3,
   "metadata": {
    "pycharm": {
     "is_executing": false
    }
   },
   "outputs": [
    {
     "data": {
      "text/plain": "       id                                     title original_language  \\\n0   19995                                    Avatar                en   \n1     285  Pirates of the Caribbean: At World's End                en   \n2  206647                                   Spectre                en   \n3   49026                     The Dark Knight Rises                en   \n4   49529                               John Carter                en   \n\n                                            overview  popularity release_date  \\\n0  In the 22nd century, a paraplegic Marine is di...  150.437577   2009-12-10   \n1  Captain Barbossa, long believed to be dead, ha...  139.082615   2007-05-19   \n2  A cryptic message from Bond’s past sends him o...  107.376788   2015-10-26   \n3  Following the death of District Attorney Harve...  112.312950   2012-07-16   \n4  John Carter is a war-weary, former military ca...   43.926995   2012-03-07   \n\n   runtime  vote_average  vote_count  cast_num  ...  production_company_0_id  \\\n0    162.0           7.2       11800        83  ...                    289.0   \n1    169.0           6.9        4500        34  ...                      2.0   \n2    148.0           6.3        4466        83  ...                      5.0   \n3    165.0           7.6        9106       158  ...                    923.0   \n4    132.0           6.1        2124        27  ...                      2.0   \n\n  production_company_0_name  production_company_1_id  \\\n0   Ingenious Film Partners                    306.0   \n1      Walt Disney Pictures                    130.0   \n2         Columbia Pictures                  10761.0   \n3        Legendary Pictures                   6194.0   \n4      Walt Disney Pictures                      NaN   \n\n                production_company_1_name production_countries_num  \\\n0  Twentieth Century Fox Film Corporation                        2   \n1                 Jerry Bruckheimer Films                        1   \n2                                  Danjaq                        2   \n3                            Warner Bros.                        1   \n4                                     NaN                        1   \n\n   production_country_code   production_country_name spoken_languages_num  \\\n0                       US  United States of America                    2   \n1                       US  United States of America                    1   \n2                       GB            United Kingdom                    5   \n3                       US  United States of America                    1   \n4                       US  United States of America                    1   \n\n   spoken_language_code  spoken_language_name  \n0                    en               English  \n1                    en               English  \n2                    fr              Français  \n3                    en               English  \n4                    en               English  \n\n[5 rows x 52 columns]",
      "text/html": "<div>\n<style scoped>\n    .dataframe tbody tr th:only-of-type {\n        vertical-align: middle;\n    }\n\n    .dataframe tbody tr th {\n        vertical-align: top;\n    }\n\n    .dataframe thead th {\n        text-align: right;\n    }\n</style>\n<table border=\"1\" class=\"dataframe\">\n  <thead>\n    <tr style=\"text-align: right;\">\n      <th></th>\n      <th>id</th>\n      <th>title</th>\n      <th>original_language</th>\n      <th>overview</th>\n      <th>popularity</th>\n      <th>release_date</th>\n      <th>runtime</th>\n      <th>vote_average</th>\n      <th>vote_count</th>\n      <th>cast_num</th>\n      <th>...</th>\n      <th>production_company_0_id</th>\n      <th>production_company_0_name</th>\n      <th>production_company_1_id</th>\n      <th>production_company_1_name</th>\n      <th>production_countries_num</th>\n      <th>production_country_code</th>\n      <th>production_country_name</th>\n      <th>spoken_languages_num</th>\n      <th>spoken_language_code</th>\n      <th>spoken_language_name</th>\n    </tr>\n  </thead>\n  <tbody>\n    <tr>\n      <td>0</td>\n      <td>19995</td>\n      <td>Avatar</td>\n      <td>en</td>\n      <td>In the 22nd century, a paraplegic Marine is di...</td>\n      <td>150.437577</td>\n      <td>2009-12-10</td>\n      <td>162.0</td>\n      <td>7.2</td>\n      <td>11800</td>\n      <td>83</td>\n      <td>...</td>\n      <td>289.0</td>\n      <td>Ingenious Film Partners</td>\n      <td>306.0</td>\n      <td>Twentieth Century Fox Film Corporation</td>\n      <td>2</td>\n      <td>US</td>\n      <td>United States of America</td>\n      <td>2</td>\n      <td>en</td>\n      <td>English</td>\n    </tr>\n    <tr>\n      <td>1</td>\n      <td>285</td>\n      <td>Pirates of the Caribbean: At World's End</td>\n      <td>en</td>\n      <td>Captain Barbossa, long believed to be dead, ha...</td>\n      <td>139.082615</td>\n      <td>2007-05-19</td>\n      <td>169.0</td>\n      <td>6.9</td>\n      <td>4500</td>\n      <td>34</td>\n      <td>...</td>\n      <td>2.0</td>\n      <td>Walt Disney Pictures</td>\n      <td>130.0</td>\n      <td>Jerry Bruckheimer Films</td>\n      <td>1</td>\n      <td>US</td>\n      <td>United States of America</td>\n      <td>1</td>\n      <td>en</td>\n      <td>English</td>\n    </tr>\n    <tr>\n      <td>2</td>\n      <td>206647</td>\n      <td>Spectre</td>\n      <td>en</td>\n      <td>A cryptic message from Bond’s past sends him o...</td>\n      <td>107.376788</td>\n      <td>2015-10-26</td>\n      <td>148.0</td>\n      <td>6.3</td>\n      <td>4466</td>\n      <td>83</td>\n      <td>...</td>\n      <td>5.0</td>\n      <td>Columbia Pictures</td>\n      <td>10761.0</td>\n      <td>Danjaq</td>\n      <td>2</td>\n      <td>GB</td>\n      <td>United Kingdom</td>\n      <td>5</td>\n      <td>fr</td>\n      <td>Français</td>\n    </tr>\n    <tr>\n      <td>3</td>\n      <td>49026</td>\n      <td>The Dark Knight Rises</td>\n      <td>en</td>\n      <td>Following the death of District Attorney Harve...</td>\n      <td>112.312950</td>\n      <td>2012-07-16</td>\n      <td>165.0</td>\n      <td>7.6</td>\n      <td>9106</td>\n      <td>158</td>\n      <td>...</td>\n      <td>923.0</td>\n      <td>Legendary Pictures</td>\n      <td>6194.0</td>\n      <td>Warner Bros.</td>\n      <td>1</td>\n      <td>US</td>\n      <td>United States of America</td>\n      <td>1</td>\n      <td>en</td>\n      <td>English</td>\n    </tr>\n    <tr>\n      <td>4</td>\n      <td>49529</td>\n      <td>John Carter</td>\n      <td>en</td>\n      <td>John Carter is a war-weary, former military ca...</td>\n      <td>43.926995</td>\n      <td>2012-03-07</td>\n      <td>132.0</td>\n      <td>6.1</td>\n      <td>2124</td>\n      <td>27</td>\n      <td>...</td>\n      <td>2.0</td>\n      <td>Walt Disney Pictures</td>\n      <td>NaN</td>\n      <td>NaN</td>\n      <td>1</td>\n      <td>US</td>\n      <td>United States of America</td>\n      <td>1</td>\n      <td>en</td>\n      <td>English</td>\n    </tr>\n  </tbody>\n</table>\n<p>5 rows × 52 columns</p>\n</div>"
     },
     "metadata": {},
     "output_type": "execute_result",
     "execution_count": 3
    }
   ],
   "source": [
    "tmdb_df = pd.read_csv('output/tmdb_5000_selected.csv')\n",
    "tmdb_df.head()"
   ]
  },
  {
   "cell_type": "code",
   "execution_count": 4,
   "metadata": {
    "scrolled": false,
    "pycharm": {
     "is_executing": false
    }
   },
   "outputs": [
    {
     "data": {
      "text/plain": "Index(['id', 'title', 'original_language', 'overview', 'popularity',\n       'release_date', 'runtime', 'vote_average', 'vote_count', 'cast_num',\n       'cast_0_id', 'cast_0_name', 'cast_0_gender', 'cast_1_id', 'cast_1_name',\n       'cast_1_gender', 'cast_2_id', 'cast_2_name', 'cast_2_gender',\n       'cast_gender_na', 'cast_gender_f', 'cast_gender_m', 'crew_num',\n       'director_id', 'director_name', 'genre_0_id', 'genre_0_name',\n       'genre_1_id', 'genre_1_name', 'genre_2_id', 'genre_2_name',\n       'keyword_0_id', 'keyword_0_name', 'keyword_1_id', 'keyword_1_name',\n       'keyword_2_id', 'keyword_2_name', 'keyword_3_id', 'keyword_3_name',\n       'keyword_4_id', 'keyword_4_name', 'production_companies_num',\n       'production_company_0_id', 'production_company_0_name',\n       'production_company_1_id', 'production_company_1_name',\n       'production_countries_num', 'production_country_code',\n       'production_country_name', 'spoken_languages_num',\n       'spoken_language_code', 'spoken_language_name'],\n      dtype='object')"
     },
     "metadata": {},
     "output_type": "execute_result",
     "execution_count": 4
    }
   ],
   "source": [
    "tmdb_df.columns"
   ]
  },
  {
   "cell_type": "code",
   "execution_count": 5,
   "metadata": {
    "pycharm": {
     "is_executing": false
    }
   },
   "outputs": [
    {
     "data": {
      "text/plain": "(4791, 52)"
     },
     "metadata": {},
     "output_type": "execute_result",
     "execution_count": 5
    }
   ],
   "source": [
    "tmdb_df.shape"
   ]
  },
  {
   "cell_type": "markdown",
   "metadata": {},
   "source": [
    "### 1.1 Uniqueness of Cast Names"
   ]
  },
  {
   "cell_type": "code",
   "execution_count": 6,
   "metadata": {
    "scrolled": false,
    "pycharm": {
     "is_executing": false
    }
   },
   "outputs": [
    {
     "data": {
      "text/plain": "          id                                     title  cast_0_id  \\\n0      19995                                    Avatar    65731.0   \n1        285  Pirates of the Caribbean: At World's End       85.0   \n2     206647                                   Spectre     8784.0   \n3      49026                     The Dark Knight Rises     3894.0   \n4      49529                               John Carter    60900.0   \n...      ...                                       ...        ...   \n4786    9367                               El Mariachi    20498.0   \n4787   72766                                 Newlyweds    12833.0   \n4788  231617                 Signed, Sealed, Delivered    11867.0   \n4789  126186                          Shanghai Calling    82093.0   \n4790   25975                         My Date with Drew    69597.0   \n\n          cast_0_name  cast_0_gender  cast_1_id       cast_1_name  \\\n0     Sam Worthington            2.0     8691.0       Zoe Saldana   \n1         Johnny Depp            2.0      114.0     Orlando Bloom   \n2        Daniel Craig            2.0    27319.0   Christoph Waltz   \n3      Christian Bale            2.0     3895.0     Michael Caine   \n4       Taylor Kitsch            2.0    21044.0      Lynn Collins   \n...               ...            ...        ...               ...   \n4786  Carlos Gallardo            2.0    57470.0    Jaime de Hoyos   \n4787     Edward Burns            2.0    58356.0       Kerry Bishé   \n4788      Eric Mabius            2.0    34915.0     Kristin Booth   \n4789    Daniel Henney            2.0   210050.0       Eliza Coupe   \n4790   Drew Barrymore            1.0    85563.0  Brian Herzlinger   \n\n      cast_1_gender  cast_2_id       cast_2_name  cast_2_gender  \n0               1.0    10205.0  Sigourney Weaver            1.0  \n1               2.0      116.0   Keira Knightley            1.0  \n2               2.0   121529.0       Léa Seydoux            1.0  \n3               2.0       64.0       Gary Oldman            2.0  \n4               1.0     2206.0   Samantha Morton            1.0  \n...             ...        ...               ...            ...  \n4786            0.0    57471.0   Peter Marquardt            2.0  \n4787            1.0    17188.0   Marsha Dietlein            1.0  \n4788            1.0    58393.0      Crystal Lowe            1.0  \n4789            1.0     2053.0       Bill Paxton            2.0  \n4790            2.0     3034.0     Corey Feldman            2.0  \n\n[4791 rows x 11 columns]",
      "text/html": "<div>\n<style scoped>\n    .dataframe tbody tr th:only-of-type {\n        vertical-align: middle;\n    }\n\n    .dataframe tbody tr th {\n        vertical-align: top;\n    }\n\n    .dataframe thead th {\n        text-align: right;\n    }\n</style>\n<table border=\"1\" class=\"dataframe\">\n  <thead>\n    <tr style=\"text-align: right;\">\n      <th></th>\n      <th>id</th>\n      <th>title</th>\n      <th>cast_0_id</th>\n      <th>cast_0_name</th>\n      <th>cast_0_gender</th>\n      <th>cast_1_id</th>\n      <th>cast_1_name</th>\n      <th>cast_1_gender</th>\n      <th>cast_2_id</th>\n      <th>cast_2_name</th>\n      <th>cast_2_gender</th>\n    </tr>\n  </thead>\n  <tbody>\n    <tr>\n      <td>0</td>\n      <td>19995</td>\n      <td>Avatar</td>\n      <td>65731.0</td>\n      <td>Sam Worthington</td>\n      <td>2.0</td>\n      <td>8691.0</td>\n      <td>Zoe Saldana</td>\n      <td>1.0</td>\n      <td>10205.0</td>\n      <td>Sigourney Weaver</td>\n      <td>1.0</td>\n    </tr>\n    <tr>\n      <td>1</td>\n      <td>285</td>\n      <td>Pirates of the Caribbean: At World's End</td>\n      <td>85.0</td>\n      <td>Johnny Depp</td>\n      <td>2.0</td>\n      <td>114.0</td>\n      <td>Orlando Bloom</td>\n      <td>2.0</td>\n      <td>116.0</td>\n      <td>Keira Knightley</td>\n      <td>1.0</td>\n    </tr>\n    <tr>\n      <td>2</td>\n      <td>206647</td>\n      <td>Spectre</td>\n      <td>8784.0</td>\n      <td>Daniel Craig</td>\n      <td>2.0</td>\n      <td>27319.0</td>\n      <td>Christoph Waltz</td>\n      <td>2.0</td>\n      <td>121529.0</td>\n      <td>Léa Seydoux</td>\n      <td>1.0</td>\n    </tr>\n    <tr>\n      <td>3</td>\n      <td>49026</td>\n      <td>The Dark Knight Rises</td>\n      <td>3894.0</td>\n      <td>Christian Bale</td>\n      <td>2.0</td>\n      <td>3895.0</td>\n      <td>Michael Caine</td>\n      <td>2.0</td>\n      <td>64.0</td>\n      <td>Gary Oldman</td>\n      <td>2.0</td>\n    </tr>\n    <tr>\n      <td>4</td>\n      <td>49529</td>\n      <td>John Carter</td>\n      <td>60900.0</td>\n      <td>Taylor Kitsch</td>\n      <td>2.0</td>\n      <td>21044.0</td>\n      <td>Lynn Collins</td>\n      <td>1.0</td>\n      <td>2206.0</td>\n      <td>Samantha Morton</td>\n      <td>1.0</td>\n    </tr>\n    <tr>\n      <td>...</td>\n      <td>...</td>\n      <td>...</td>\n      <td>...</td>\n      <td>...</td>\n      <td>...</td>\n      <td>...</td>\n      <td>...</td>\n      <td>...</td>\n      <td>...</td>\n      <td>...</td>\n      <td>...</td>\n    </tr>\n    <tr>\n      <td>4786</td>\n      <td>9367</td>\n      <td>El Mariachi</td>\n      <td>20498.0</td>\n      <td>Carlos Gallardo</td>\n      <td>2.0</td>\n      <td>57470.0</td>\n      <td>Jaime de Hoyos</td>\n      <td>0.0</td>\n      <td>57471.0</td>\n      <td>Peter Marquardt</td>\n      <td>2.0</td>\n    </tr>\n    <tr>\n      <td>4787</td>\n      <td>72766</td>\n      <td>Newlyweds</td>\n      <td>12833.0</td>\n      <td>Edward Burns</td>\n      <td>2.0</td>\n      <td>58356.0</td>\n      <td>Kerry Bishé</td>\n      <td>1.0</td>\n      <td>17188.0</td>\n      <td>Marsha Dietlein</td>\n      <td>1.0</td>\n    </tr>\n    <tr>\n      <td>4788</td>\n      <td>231617</td>\n      <td>Signed, Sealed, Delivered</td>\n      <td>11867.0</td>\n      <td>Eric Mabius</td>\n      <td>2.0</td>\n      <td>34915.0</td>\n      <td>Kristin Booth</td>\n      <td>1.0</td>\n      <td>58393.0</td>\n      <td>Crystal Lowe</td>\n      <td>1.0</td>\n    </tr>\n    <tr>\n      <td>4789</td>\n      <td>126186</td>\n      <td>Shanghai Calling</td>\n      <td>82093.0</td>\n      <td>Daniel Henney</td>\n      <td>2.0</td>\n      <td>210050.0</td>\n      <td>Eliza Coupe</td>\n      <td>1.0</td>\n      <td>2053.0</td>\n      <td>Bill Paxton</td>\n      <td>2.0</td>\n    </tr>\n    <tr>\n      <td>4790</td>\n      <td>25975</td>\n      <td>My Date with Drew</td>\n      <td>69597.0</td>\n      <td>Drew Barrymore</td>\n      <td>1.0</td>\n      <td>85563.0</td>\n      <td>Brian Herzlinger</td>\n      <td>2.0</td>\n      <td>3034.0</td>\n      <td>Corey Feldman</td>\n      <td>2.0</td>\n    </tr>\n  </tbody>\n</table>\n<p>4791 rows × 11 columns</p>\n</div>"
     },
     "metadata": {},
     "output_type": "execute_result",
     "execution_count": 6
    }
   ],
   "source": [
    "cast_columns = [['cast_'+str(i)+'_id', 'cast_'+str(i)+'_name', 'cast_'+str(i)+'_gender'] for i in range(3)]\n",
    "cast_columns = list(chain.from_iterable(cast_columns))\n",
    "\n",
    "tmdb_df_cast = tmdb_df[['id', 'title']+cast_columns].copy()\n",
    "tmdb_df_cast"
   ]
  },
  {
   "cell_type": "code",
   "execution_count": 7,
   "metadata": {
    "pycharm": {
     "is_executing": false
    }
   },
   "outputs": [
    {
     "data": {
      "text/plain": "   movie_id   title           cast                 0\n0     19995  Avatar      cast_0_id             65731\n1     19995  Avatar    cast_0_name   Sam Worthington\n2     19995  Avatar  cast_0_gender                 2\n3     19995  Avatar      cast_1_id              8691\n4     19995  Avatar    cast_1_name       Zoe Saldana\n5     19995  Avatar  cast_1_gender                 1\n6     19995  Avatar      cast_2_id             10205\n7     19995  Avatar    cast_2_name  Sigourney Weaver\n8     19995  Avatar  cast_2_gender                 1",
      "text/html": "<div>\n<style scoped>\n    .dataframe tbody tr th:only-of-type {\n        vertical-align: middle;\n    }\n\n    .dataframe tbody tr th {\n        vertical-align: top;\n    }\n\n    .dataframe thead th {\n        text-align: right;\n    }\n</style>\n<table border=\"1\" class=\"dataframe\">\n  <thead>\n    <tr style=\"text-align: right;\">\n      <th></th>\n      <th>movie_id</th>\n      <th>title</th>\n      <th>cast</th>\n      <th>0</th>\n    </tr>\n  </thead>\n  <tbody>\n    <tr>\n      <td>0</td>\n      <td>19995</td>\n      <td>Avatar</td>\n      <td>cast_0_id</td>\n      <td>65731</td>\n    </tr>\n    <tr>\n      <td>1</td>\n      <td>19995</td>\n      <td>Avatar</td>\n      <td>cast_0_name</td>\n      <td>Sam Worthington</td>\n    </tr>\n    <tr>\n      <td>2</td>\n      <td>19995</td>\n      <td>Avatar</td>\n      <td>cast_0_gender</td>\n      <td>2</td>\n    </tr>\n    <tr>\n      <td>3</td>\n      <td>19995</td>\n      <td>Avatar</td>\n      <td>cast_1_id</td>\n      <td>8691</td>\n    </tr>\n    <tr>\n      <td>4</td>\n      <td>19995</td>\n      <td>Avatar</td>\n      <td>cast_1_name</td>\n      <td>Zoe Saldana</td>\n    </tr>\n    <tr>\n      <td>5</td>\n      <td>19995</td>\n      <td>Avatar</td>\n      <td>cast_1_gender</td>\n      <td>1</td>\n    </tr>\n    <tr>\n      <td>6</td>\n      <td>19995</td>\n      <td>Avatar</td>\n      <td>cast_2_id</td>\n      <td>10205</td>\n    </tr>\n    <tr>\n      <td>7</td>\n      <td>19995</td>\n      <td>Avatar</td>\n      <td>cast_2_name</td>\n      <td>Sigourney Weaver</td>\n    </tr>\n    <tr>\n      <td>8</td>\n      <td>19995</td>\n      <td>Avatar</td>\n      <td>cast_2_gender</td>\n      <td>1</td>\n    </tr>\n  </tbody>\n</table>\n</div>"
     },
     "metadata": {},
     "output_type": "execute_result",
     "execution_count": 7
    }
   ],
   "source": [
    "tmdb_df_cast_stack = tmdb_df_cast.set_index(['id', 'title']).stack().reset_index().rename({'level_2': 'cast'}, axis=1)\n",
    "tmdb_df_cast_stack = tmdb_df_cast_stack.rename(columns={'id':'movie_id'})\n",
    "\n",
    "tmdb_df_cast_stack.head(9)"
   ]
  },
  {
   "cell_type": "code",
   "execution_count": 8,
   "metadata": {
    "pycharm": {
     "is_executing": false
    }
   },
   "outputs": [],
   "source": [
    "def merge_id_name_gender(df):\n",
    "    df_merge = []\n",
    "\n",
    "    for key in ['id', 'name', 'gender']:\n",
    "        df_key = df[df['cast'].str.contains(key)].copy()\n",
    "\n",
    "        df_key.rename({0: key}, axis=1, inplace=True)\n",
    "        df_key['cast']=df_key['cast'].str[5].astype(int)\n",
    "\n",
    "        df_merge.append(df_key)\n",
    "    \n",
    "    return pd.merge(pd.merge(df_merge[0], df_merge[1],  on=['movie_id', 'title', 'cast']), \n",
    "                    df_merge[2],  on=['movie_id', 'title', 'cast'])"
   ]
  },
  {
   "cell_type": "code",
   "execution_count": 9,
   "metadata": {
    "scrolled": false,
    "pycharm": {
     "is_executing": false
    }
   },
   "outputs": [
    {
     "data": {
      "text/plain": "    movie_id                                     title  cast      id  \\\n0      19995                                    Avatar     0   65731   \n1      19995                                    Avatar     1    8691   \n2      19995                                    Avatar     2   10205   \n3        285  Pirates of the Caribbean: At World's End     0      85   \n4        285  Pirates of the Caribbean: At World's End     1     114   \n5        285  Pirates of the Caribbean: At World's End     2     116   \n6     206647                                   Spectre     0    8784   \n7     206647                                   Spectre     1   27319   \n8     206647                                   Spectre     2  121529   \n9      49026                     The Dark Knight Rises     0    3894   \n10     49026                     The Dark Knight Rises     1    3895   \n11     49026                     The Dark Knight Rises     2      64   \n12     49529                               John Carter     0   60900   \n13     49529                               John Carter     1   21044   \n14     49529                               John Carter     2    2206   \n\n                name gender  \n0    Sam Worthington      2  \n1        Zoe Saldana      1  \n2   Sigourney Weaver      1  \n3        Johnny Depp      2  \n4      Orlando Bloom      2  \n5    Keira Knightley      1  \n6       Daniel Craig      2  \n7    Christoph Waltz      2  \n8        Léa Seydoux      1  \n9     Christian Bale      2  \n10     Michael Caine      2  \n11       Gary Oldman      2  \n12     Taylor Kitsch      2  \n13      Lynn Collins      1  \n14   Samantha Morton      1  ",
      "text/html": "<div>\n<style scoped>\n    .dataframe tbody tr th:only-of-type {\n        vertical-align: middle;\n    }\n\n    .dataframe tbody tr th {\n        vertical-align: top;\n    }\n\n    .dataframe thead th {\n        text-align: right;\n    }\n</style>\n<table border=\"1\" class=\"dataframe\">\n  <thead>\n    <tr style=\"text-align: right;\">\n      <th></th>\n      <th>movie_id</th>\n      <th>title</th>\n      <th>cast</th>\n      <th>id</th>\n      <th>name</th>\n      <th>gender</th>\n    </tr>\n  </thead>\n  <tbody>\n    <tr>\n      <td>0</td>\n      <td>19995</td>\n      <td>Avatar</td>\n      <td>0</td>\n      <td>65731</td>\n      <td>Sam Worthington</td>\n      <td>2</td>\n    </tr>\n    <tr>\n      <td>1</td>\n      <td>19995</td>\n      <td>Avatar</td>\n      <td>1</td>\n      <td>8691</td>\n      <td>Zoe Saldana</td>\n      <td>1</td>\n    </tr>\n    <tr>\n      <td>2</td>\n      <td>19995</td>\n      <td>Avatar</td>\n      <td>2</td>\n      <td>10205</td>\n      <td>Sigourney Weaver</td>\n      <td>1</td>\n    </tr>\n    <tr>\n      <td>3</td>\n      <td>285</td>\n      <td>Pirates of the Caribbean: At World's End</td>\n      <td>0</td>\n      <td>85</td>\n      <td>Johnny Depp</td>\n      <td>2</td>\n    </tr>\n    <tr>\n      <td>4</td>\n      <td>285</td>\n      <td>Pirates of the Caribbean: At World's End</td>\n      <td>1</td>\n      <td>114</td>\n      <td>Orlando Bloom</td>\n      <td>2</td>\n    </tr>\n    <tr>\n      <td>5</td>\n      <td>285</td>\n      <td>Pirates of the Caribbean: At World's End</td>\n      <td>2</td>\n      <td>116</td>\n      <td>Keira Knightley</td>\n      <td>1</td>\n    </tr>\n    <tr>\n      <td>6</td>\n      <td>206647</td>\n      <td>Spectre</td>\n      <td>0</td>\n      <td>8784</td>\n      <td>Daniel Craig</td>\n      <td>2</td>\n    </tr>\n    <tr>\n      <td>7</td>\n      <td>206647</td>\n      <td>Spectre</td>\n      <td>1</td>\n      <td>27319</td>\n      <td>Christoph Waltz</td>\n      <td>2</td>\n    </tr>\n    <tr>\n      <td>8</td>\n      <td>206647</td>\n      <td>Spectre</td>\n      <td>2</td>\n      <td>121529</td>\n      <td>Léa Seydoux</td>\n      <td>1</td>\n    </tr>\n    <tr>\n      <td>9</td>\n      <td>49026</td>\n      <td>The Dark Knight Rises</td>\n      <td>0</td>\n      <td>3894</td>\n      <td>Christian Bale</td>\n      <td>2</td>\n    </tr>\n    <tr>\n      <td>10</td>\n      <td>49026</td>\n      <td>The Dark Knight Rises</td>\n      <td>1</td>\n      <td>3895</td>\n      <td>Michael Caine</td>\n      <td>2</td>\n    </tr>\n    <tr>\n      <td>11</td>\n      <td>49026</td>\n      <td>The Dark Knight Rises</td>\n      <td>2</td>\n      <td>64</td>\n      <td>Gary Oldman</td>\n      <td>2</td>\n    </tr>\n    <tr>\n      <td>12</td>\n      <td>49529</td>\n      <td>John Carter</td>\n      <td>0</td>\n      <td>60900</td>\n      <td>Taylor Kitsch</td>\n      <td>2</td>\n    </tr>\n    <tr>\n      <td>13</td>\n      <td>49529</td>\n      <td>John Carter</td>\n      <td>1</td>\n      <td>21044</td>\n      <td>Lynn Collins</td>\n      <td>1</td>\n    </tr>\n    <tr>\n      <td>14</td>\n      <td>49529</td>\n      <td>John Carter</td>\n      <td>2</td>\n      <td>2206</td>\n      <td>Samantha Morton</td>\n      <td>1</td>\n    </tr>\n  </tbody>\n</table>\n</div>"
     },
     "metadata": {},
     "output_type": "execute_result",
     "execution_count": 9
    }
   ],
   "source": [
    "cast_df = merge_id_name_gender(tmdb_df_cast_stack)\n",
    "cast_df.head(15)"
   ]
  },
  {
   "cell_type": "code",
   "execution_count": 10,
   "metadata": {
    "pycharm": {
     "is_executing": false
    }
   },
   "outputs": [
    {
     "data": {
      "text/plain": "        id              name gender  movie_id  \\\n0    65731   Sam Worthington      2     19995   \n1     8691       Zoe Saldana      1     19995   \n2    10205  Sigourney Weaver      1     19995   \n3       85       Johnny Depp      2       285   \n4      114     Orlando Bloom      2       285   \n5      116   Keira Knightley      1       285   \n6     8784      Daniel Craig      2    206647   \n7    27319   Christoph Waltz      2    206647   \n8   121529       Léa Seydoux      1    206647   \n9     3894    Christian Bale      2     49026   \n10    3895     Michael Caine      2     49026   \n11      64       Gary Oldman      2     49026   \n12   60900     Taylor Kitsch      2     49529   \n13   21044      Lynn Collins      1     49529   \n14    2206   Samantha Morton      1     49529   \n\n                                       title  order  \n0                                     Avatar      0  \n1                                     Avatar      1  \n2                                     Avatar      2  \n3   Pirates of the Caribbean: At World's End      0  \n4   Pirates of the Caribbean: At World's End      1  \n5   Pirates of the Caribbean: At World's End      2  \n6                                    Spectre      0  \n7                                    Spectre      1  \n8                                    Spectre      2  \n9                      The Dark Knight Rises      0  \n10                     The Dark Knight Rises      1  \n11                     The Dark Knight Rises      2  \n12                               John Carter      0  \n13                               John Carter      1  \n14                               John Carter      2  ",
      "text/html": "<div>\n<style scoped>\n    .dataframe tbody tr th:only-of-type {\n        vertical-align: middle;\n    }\n\n    .dataframe tbody tr th {\n        vertical-align: top;\n    }\n\n    .dataframe thead th {\n        text-align: right;\n    }\n</style>\n<table border=\"1\" class=\"dataframe\">\n  <thead>\n    <tr style=\"text-align: right;\">\n      <th></th>\n      <th>id</th>\n      <th>name</th>\n      <th>gender</th>\n      <th>movie_id</th>\n      <th>title</th>\n      <th>order</th>\n    </tr>\n  </thead>\n  <tbody>\n    <tr>\n      <td>0</td>\n      <td>65731</td>\n      <td>Sam Worthington</td>\n      <td>2</td>\n      <td>19995</td>\n      <td>Avatar</td>\n      <td>0</td>\n    </tr>\n    <tr>\n      <td>1</td>\n      <td>8691</td>\n      <td>Zoe Saldana</td>\n      <td>1</td>\n      <td>19995</td>\n      <td>Avatar</td>\n      <td>1</td>\n    </tr>\n    <tr>\n      <td>2</td>\n      <td>10205</td>\n      <td>Sigourney Weaver</td>\n      <td>1</td>\n      <td>19995</td>\n      <td>Avatar</td>\n      <td>2</td>\n    </tr>\n    <tr>\n      <td>3</td>\n      <td>85</td>\n      <td>Johnny Depp</td>\n      <td>2</td>\n      <td>285</td>\n      <td>Pirates of the Caribbean: At World's End</td>\n      <td>0</td>\n    </tr>\n    <tr>\n      <td>4</td>\n      <td>114</td>\n      <td>Orlando Bloom</td>\n      <td>2</td>\n      <td>285</td>\n      <td>Pirates of the Caribbean: At World's End</td>\n      <td>1</td>\n    </tr>\n    <tr>\n      <td>5</td>\n      <td>116</td>\n      <td>Keira Knightley</td>\n      <td>1</td>\n      <td>285</td>\n      <td>Pirates of the Caribbean: At World's End</td>\n      <td>2</td>\n    </tr>\n    <tr>\n      <td>6</td>\n      <td>8784</td>\n      <td>Daniel Craig</td>\n      <td>2</td>\n      <td>206647</td>\n      <td>Spectre</td>\n      <td>0</td>\n    </tr>\n    <tr>\n      <td>7</td>\n      <td>27319</td>\n      <td>Christoph Waltz</td>\n      <td>2</td>\n      <td>206647</td>\n      <td>Spectre</td>\n      <td>1</td>\n    </tr>\n    <tr>\n      <td>8</td>\n      <td>121529</td>\n      <td>Léa Seydoux</td>\n      <td>1</td>\n      <td>206647</td>\n      <td>Spectre</td>\n      <td>2</td>\n    </tr>\n    <tr>\n      <td>9</td>\n      <td>3894</td>\n      <td>Christian Bale</td>\n      <td>2</td>\n      <td>49026</td>\n      <td>The Dark Knight Rises</td>\n      <td>0</td>\n    </tr>\n    <tr>\n      <td>10</td>\n      <td>3895</td>\n      <td>Michael Caine</td>\n      <td>2</td>\n      <td>49026</td>\n      <td>The Dark Knight Rises</td>\n      <td>1</td>\n    </tr>\n    <tr>\n      <td>11</td>\n      <td>64</td>\n      <td>Gary Oldman</td>\n      <td>2</td>\n      <td>49026</td>\n      <td>The Dark Knight Rises</td>\n      <td>2</td>\n    </tr>\n    <tr>\n      <td>12</td>\n      <td>60900</td>\n      <td>Taylor Kitsch</td>\n      <td>2</td>\n      <td>49529</td>\n      <td>John Carter</td>\n      <td>0</td>\n    </tr>\n    <tr>\n      <td>13</td>\n      <td>21044</td>\n      <td>Lynn Collins</td>\n      <td>1</td>\n      <td>49529</td>\n      <td>John Carter</td>\n      <td>1</td>\n    </tr>\n    <tr>\n      <td>14</td>\n      <td>2206</td>\n      <td>Samantha Morton</td>\n      <td>1</td>\n      <td>49529</td>\n      <td>John Carter</td>\n      <td>2</td>\n    </tr>\n  </tbody>\n</table>\n</div>"
     },
     "metadata": {},
     "output_type": "execute_result",
     "execution_count": 10
    }
   ],
   "source": [
    "cast_df = cast_df[['id', 'name', 'gender', 'movie_id', 'title', 'cast']]\n",
    "cast_df = cast_df.rename(columns={'cast':'order'})\n",
    "cast_df.head(15)"
   ]
  },
  {
   "cell_type": "code",
   "execution_count": 11,
   "metadata": {
    "pycharm": {
     "is_executing": false
    }
   },
   "outputs": [
    {
     "data": {
      "text/plain": "name\nSteve James            2\nЮлия Снигирь           1\nGinnifer Goodwin       1\nGina Carano            1\nGina Gershon           1\n                      ..\nMichael Davis          1\nMichael Des Barres     1\nMichael Douglas        1\nMichael Dudikoff       1\n\"Weird Al\" Yankovic    1\nName: id, Length: 5669, dtype: int64"
     },
     "metadata": {},
     "output_type": "execute_result",
     "execution_count": 11
    }
   ],
   "source": [
    "cast_df.groupby('name')['id'].nunique().sort_values(ascending=False)"
   ]
  },
  {
   "cell_type": "code",
   "execution_count": 12,
   "metadata": {
    "pycharm": {
     "is_executing": false
    }
   },
   "outputs": [
    {
     "data": {
      "text/plain": "           id         name gender  movie_id  \\\n13369  122449  Steve James      2     14275   \n13680   55271  Steve James      2     25678   \n\n                                     title  order  \n13369                          Hoop Dreams      2  \n13680  American Ninja 2: The Confrontation      1  ",
      "text/html": "<div>\n<style scoped>\n    .dataframe tbody tr th:only-of-type {\n        vertical-align: middle;\n    }\n\n    .dataframe tbody tr th {\n        vertical-align: top;\n    }\n\n    .dataframe thead th {\n        text-align: right;\n    }\n</style>\n<table border=\"1\" class=\"dataframe\">\n  <thead>\n    <tr style=\"text-align: right;\">\n      <th></th>\n      <th>id</th>\n      <th>name</th>\n      <th>gender</th>\n      <th>movie_id</th>\n      <th>title</th>\n      <th>order</th>\n    </tr>\n  </thead>\n  <tbody>\n    <tr>\n      <td>13369</td>\n      <td>122449</td>\n      <td>Steve James</td>\n      <td>2</td>\n      <td>14275</td>\n      <td>Hoop Dreams</td>\n      <td>2</td>\n    </tr>\n    <tr>\n      <td>13680</td>\n      <td>55271</td>\n      <td>Steve James</td>\n      <td>2</td>\n      <td>25678</td>\n      <td>American Ninja 2: The Confrontation</td>\n      <td>1</td>\n    </tr>\n  </tbody>\n</table>\n</div>"
     },
     "metadata": {},
     "output_type": "execute_result",
     "execution_count": 12
    }
   ],
   "source": [
    "cast_df[cast_df['name']=='Steve James']"
   ]
  },
  {
   "cell_type": "code",
   "execution_count": 13,
   "metadata": {
    "pycharm": {
     "is_executing": false
    }
   },
   "outputs": [],
   "source": [
    "cast_df.to_csv('output/cast.csv', index=False)"
   ]
  },
  {
   "cell_type": "markdown",
   "metadata": {},
   "source": [
    "### 1.2 Uniqueness of Director Names"
   ]
  },
  {
   "cell_type": "code",
   "execution_count": 14,
   "metadata": {
    "scrolled": false,
    "pycharm": {
     "is_executing": false
    }
   },
   "outputs": [
    {
     "data": {
      "text/plain": "          id                                     title  director_id  \\\n0      19995                                    Avatar       2710.0   \n1        285  Pirates of the Caribbean: At World's End       1704.0   \n2     206647                                   Spectre         39.0   \n3      49026                     The Dark Knight Rises        525.0   \n4      49529                               John Carter          7.0   \n...      ...                                       ...          ...   \n4786    9367                               El Mariachi       2294.0   \n4787   72766                                 Newlyweds      12833.0   \n4788  231617                 Signed, Sealed, Delivered    1219158.0   \n4789  126186                          Shanghai Calling     208138.0   \n4790   25975                         My Date with Drew      85563.0   \n\n          director_name  \n0         James Cameron  \n1        Gore Verbinski  \n2            Sam Mendes  \n3     Christopher Nolan  \n4        Andrew Stanton  \n...                 ...  \n4786   Robert Rodriguez  \n4787       Edward Burns  \n4788        Scott Smith  \n4789        Daniel Hsia  \n4790   Brian Herzlinger  \n\n[4791 rows x 4 columns]",
      "text/html": "<div>\n<style scoped>\n    .dataframe tbody tr th:only-of-type {\n        vertical-align: middle;\n    }\n\n    .dataframe tbody tr th {\n        vertical-align: top;\n    }\n\n    .dataframe thead th {\n        text-align: right;\n    }\n</style>\n<table border=\"1\" class=\"dataframe\">\n  <thead>\n    <tr style=\"text-align: right;\">\n      <th></th>\n      <th>id</th>\n      <th>title</th>\n      <th>director_id</th>\n      <th>director_name</th>\n    </tr>\n  </thead>\n  <tbody>\n    <tr>\n      <td>0</td>\n      <td>19995</td>\n      <td>Avatar</td>\n      <td>2710.0</td>\n      <td>James Cameron</td>\n    </tr>\n    <tr>\n      <td>1</td>\n      <td>285</td>\n      <td>Pirates of the Caribbean: At World's End</td>\n      <td>1704.0</td>\n      <td>Gore Verbinski</td>\n    </tr>\n    <tr>\n      <td>2</td>\n      <td>206647</td>\n      <td>Spectre</td>\n      <td>39.0</td>\n      <td>Sam Mendes</td>\n    </tr>\n    <tr>\n      <td>3</td>\n      <td>49026</td>\n      <td>The Dark Knight Rises</td>\n      <td>525.0</td>\n      <td>Christopher Nolan</td>\n    </tr>\n    <tr>\n      <td>4</td>\n      <td>49529</td>\n      <td>John Carter</td>\n      <td>7.0</td>\n      <td>Andrew Stanton</td>\n    </tr>\n    <tr>\n      <td>...</td>\n      <td>...</td>\n      <td>...</td>\n      <td>...</td>\n      <td>...</td>\n    </tr>\n    <tr>\n      <td>4786</td>\n      <td>9367</td>\n      <td>El Mariachi</td>\n      <td>2294.0</td>\n      <td>Robert Rodriguez</td>\n    </tr>\n    <tr>\n      <td>4787</td>\n      <td>72766</td>\n      <td>Newlyweds</td>\n      <td>12833.0</td>\n      <td>Edward Burns</td>\n    </tr>\n    <tr>\n      <td>4788</td>\n      <td>231617</td>\n      <td>Signed, Sealed, Delivered</td>\n      <td>1219158.0</td>\n      <td>Scott Smith</td>\n    </tr>\n    <tr>\n      <td>4789</td>\n      <td>126186</td>\n      <td>Shanghai Calling</td>\n      <td>208138.0</td>\n      <td>Daniel Hsia</td>\n    </tr>\n    <tr>\n      <td>4790</td>\n      <td>25975</td>\n      <td>My Date with Drew</td>\n      <td>85563.0</td>\n      <td>Brian Herzlinger</td>\n    </tr>\n  </tbody>\n</table>\n<p>4791 rows × 4 columns</p>\n</div>"
     },
     "metadata": {},
     "output_type": "execute_result",
     "execution_count": 14
    }
   ],
   "source": [
    "crew_columns = ['director_id', 'director_name']\n",
    "\n",
    "tmdb_df_crew = tmdb_df[['id', 'title']+crew_columns].copy()\n",
    "tmdb_df_crew"
   ]
  },
  {
   "cell_type": "code",
   "execution_count": 15,
   "metadata": {
    "scrolled": true,
    "pycharm": {
     "is_executing": false
    }
   },
   "outputs": [
    {
     "data": {
      "text/plain": "director_name\nAaron Hann            1\nAaron Schneider       1\nAbel Ferrara          1\nAdam Brooks           1\nAdam Carolla          1\n                     ..\nÀlex Pastor           1\nÁlex de la Iglesia    1\nÉmile Gaudreault      1\nÉric Tessier          1\nÉtienne Faure         1\nName: director_id, Length: 2340, dtype: int64"
     },
     "metadata": {},
     "output_type": "execute_result",
     "execution_count": 15
    }
   ],
   "source": [
    "tmdb_df_crew.groupby('director_name')['director_id'].nunique()"
   ]
  },
  {
   "cell_type": "code",
   "execution_count": 16,
   "metadata": {
    "scrolled": false,
    "pycharm": {
     "is_executing": false
    }
   },
   "outputs": [
    {
     "data": {
      "text/plain": "         id               name  movie_id  \\\n0    2710.0      James Cameron     19995   \n1    1704.0     Gore Verbinski       285   \n2      39.0         Sam Mendes    206647   \n3     525.0  Christopher Nolan     49026   \n4       7.0     Andrew Stanton     49529   \n5    7623.0          Sam Raimi       559   \n6   76595.0       Byron Howard     38757   \n7   12891.0        Joss Whedon     99861   \n8   11343.0        David Yates       767   \n9   15217.0        Zack Snyder    209112   \n10   9032.0       Bryan Singer      1452   \n11  12995.0       Marc Forster     10764   \n12   1704.0     Gore Verbinski        58   \n13   1704.0     Gore Verbinski     57201   \n14  15217.0        Zack Snyder     49521   \n\n                                         title  \n0                                       Avatar  \n1     Pirates of the Caribbean: At World's End  \n2                                      Spectre  \n3                        The Dark Knight Rises  \n4                                  John Carter  \n5                                 Spider-Man 3  \n6                                      Tangled  \n7                      Avengers: Age of Ultron  \n8       Harry Potter and the Half-Blood Prince  \n9           Batman v Superman: Dawn of Justice  \n10                            Superman Returns  \n11                           Quantum of Solace  \n12  Pirates of the Caribbean: Dead Man's Chest  \n13                             The Lone Ranger  \n14                                Man of Steel  ",
      "text/html": "<div>\n<style scoped>\n    .dataframe tbody tr th:only-of-type {\n        vertical-align: middle;\n    }\n\n    .dataframe tbody tr th {\n        vertical-align: top;\n    }\n\n    .dataframe thead th {\n        text-align: right;\n    }\n</style>\n<table border=\"1\" class=\"dataframe\">\n  <thead>\n    <tr style=\"text-align: right;\">\n      <th></th>\n      <th>id</th>\n      <th>name</th>\n      <th>movie_id</th>\n      <th>title</th>\n    </tr>\n  </thead>\n  <tbody>\n    <tr>\n      <td>0</td>\n      <td>2710.0</td>\n      <td>James Cameron</td>\n      <td>19995</td>\n      <td>Avatar</td>\n    </tr>\n    <tr>\n      <td>1</td>\n      <td>1704.0</td>\n      <td>Gore Verbinski</td>\n      <td>285</td>\n      <td>Pirates of the Caribbean: At World's End</td>\n    </tr>\n    <tr>\n      <td>2</td>\n      <td>39.0</td>\n      <td>Sam Mendes</td>\n      <td>206647</td>\n      <td>Spectre</td>\n    </tr>\n    <tr>\n      <td>3</td>\n      <td>525.0</td>\n      <td>Christopher Nolan</td>\n      <td>49026</td>\n      <td>The Dark Knight Rises</td>\n    </tr>\n    <tr>\n      <td>4</td>\n      <td>7.0</td>\n      <td>Andrew Stanton</td>\n      <td>49529</td>\n      <td>John Carter</td>\n    </tr>\n    <tr>\n      <td>5</td>\n      <td>7623.0</td>\n      <td>Sam Raimi</td>\n      <td>559</td>\n      <td>Spider-Man 3</td>\n    </tr>\n    <tr>\n      <td>6</td>\n      <td>76595.0</td>\n      <td>Byron Howard</td>\n      <td>38757</td>\n      <td>Tangled</td>\n    </tr>\n    <tr>\n      <td>7</td>\n      <td>12891.0</td>\n      <td>Joss Whedon</td>\n      <td>99861</td>\n      <td>Avengers: Age of Ultron</td>\n    </tr>\n    <tr>\n      <td>8</td>\n      <td>11343.0</td>\n      <td>David Yates</td>\n      <td>767</td>\n      <td>Harry Potter and the Half-Blood Prince</td>\n    </tr>\n    <tr>\n      <td>9</td>\n      <td>15217.0</td>\n      <td>Zack Snyder</td>\n      <td>209112</td>\n      <td>Batman v Superman: Dawn of Justice</td>\n    </tr>\n    <tr>\n      <td>10</td>\n      <td>9032.0</td>\n      <td>Bryan Singer</td>\n      <td>1452</td>\n      <td>Superman Returns</td>\n    </tr>\n    <tr>\n      <td>11</td>\n      <td>12995.0</td>\n      <td>Marc Forster</td>\n      <td>10764</td>\n      <td>Quantum of Solace</td>\n    </tr>\n    <tr>\n      <td>12</td>\n      <td>1704.0</td>\n      <td>Gore Verbinski</td>\n      <td>58</td>\n      <td>Pirates of the Caribbean: Dead Man's Chest</td>\n    </tr>\n    <tr>\n      <td>13</td>\n      <td>1704.0</td>\n      <td>Gore Verbinski</td>\n      <td>57201</td>\n      <td>The Lone Ranger</td>\n    </tr>\n    <tr>\n      <td>14</td>\n      <td>15217.0</td>\n      <td>Zack Snyder</td>\n      <td>49521</td>\n      <td>Man of Steel</td>\n    </tr>\n  </tbody>\n</table>\n</div>"
     },
     "metadata": {},
     "output_type": "execute_result",
     "execution_count": 16
    }
   ],
   "source": [
    "director_df = tmdb_df_crew[['director_id', 'director_name', 'id', 'title']]\n",
    "director_df = director_df.rename(columns={'director_id':'id', 'director_name':'name', 'id':'movie_id'})\n",
    "director_df.head(15)"
   ]
  },
  {
   "cell_type": "code",
   "execution_count": 17,
   "metadata": {
    "pycharm": {
     "is_executing": false
    }
   },
   "outputs": [],
   "source": [
    "director_df.to_csv('output/director.csv', index=False)"
   ]
  },
  {
   "cell_type": "code",
   "execution_count": 18,
   "metadata": {
    "pycharm": {
     "is_executing": false
    }
   },
   "outputs": [],
   "source": [
    "tmdb_df.drop(['director_id'], axis=1, inplace=True)"
   ]
  },
  {
   "cell_type": "markdown",
   "metadata": {},
   "source": [
    "### 1.3 Uniqueness of Genres"
   ]
  },
  {
   "cell_type": "code",
   "execution_count": 19,
   "metadata": {
    "scrolled": false,
    "pycharm": {
     "is_executing": false
    }
   },
   "outputs": [
    {
     "data": {
      "text/plain": "          id                                     title  genre_0_id  \\\n0      19995                                    Avatar        28.0   \n1        285  Pirates of the Caribbean: At World's End        12.0   \n2     206647                                   Spectre        28.0   \n3      49026                     The Dark Knight Rises        28.0   \n4      49529                               John Carter        28.0   \n...      ...                                       ...         ...   \n4786    9367                               El Mariachi        28.0   \n4787   72766                                 Newlyweds        35.0   \n4788  231617                 Signed, Sealed, Delivered        35.0   \n4789  126186                          Shanghai Calling         NaN   \n4790   25975                         My Date with Drew        99.0   \n\n     genre_0_name  genre_1_id genre_1_name  genre_2_id     genre_2_name  \n0          Action        12.0    Adventure        14.0          Fantasy  \n1       Adventure        14.0      Fantasy        28.0           Action  \n2          Action        12.0    Adventure        80.0            Crime  \n3          Action        80.0        Crime        18.0            Drama  \n4          Action        12.0    Adventure       878.0  Science Fiction  \n...           ...         ...          ...         ...              ...  \n4786       Action        80.0        Crime        53.0         Thriller  \n4787       Comedy     10749.0      Romance         NaN              NaN  \n4788       Comedy        18.0        Drama     10749.0          Romance  \n4789          NaN         NaN          NaN         NaN              NaN  \n4790  Documentary         NaN          NaN         NaN              NaN  \n\n[4791 rows x 8 columns]",
      "text/html": "<div>\n<style scoped>\n    .dataframe tbody tr th:only-of-type {\n        vertical-align: middle;\n    }\n\n    .dataframe tbody tr th {\n        vertical-align: top;\n    }\n\n    .dataframe thead th {\n        text-align: right;\n    }\n</style>\n<table border=\"1\" class=\"dataframe\">\n  <thead>\n    <tr style=\"text-align: right;\">\n      <th></th>\n      <th>id</th>\n      <th>title</th>\n      <th>genre_0_id</th>\n      <th>genre_0_name</th>\n      <th>genre_1_id</th>\n      <th>genre_1_name</th>\n      <th>genre_2_id</th>\n      <th>genre_2_name</th>\n    </tr>\n  </thead>\n  <tbody>\n    <tr>\n      <td>0</td>\n      <td>19995</td>\n      <td>Avatar</td>\n      <td>28.0</td>\n      <td>Action</td>\n      <td>12.0</td>\n      <td>Adventure</td>\n      <td>14.0</td>\n      <td>Fantasy</td>\n    </tr>\n    <tr>\n      <td>1</td>\n      <td>285</td>\n      <td>Pirates of the Caribbean: At World's End</td>\n      <td>12.0</td>\n      <td>Adventure</td>\n      <td>14.0</td>\n      <td>Fantasy</td>\n      <td>28.0</td>\n      <td>Action</td>\n    </tr>\n    <tr>\n      <td>2</td>\n      <td>206647</td>\n      <td>Spectre</td>\n      <td>28.0</td>\n      <td>Action</td>\n      <td>12.0</td>\n      <td>Adventure</td>\n      <td>80.0</td>\n      <td>Crime</td>\n    </tr>\n    <tr>\n      <td>3</td>\n      <td>49026</td>\n      <td>The Dark Knight Rises</td>\n      <td>28.0</td>\n      <td>Action</td>\n      <td>80.0</td>\n      <td>Crime</td>\n      <td>18.0</td>\n      <td>Drama</td>\n    </tr>\n    <tr>\n      <td>4</td>\n      <td>49529</td>\n      <td>John Carter</td>\n      <td>28.0</td>\n      <td>Action</td>\n      <td>12.0</td>\n      <td>Adventure</td>\n      <td>878.0</td>\n      <td>Science Fiction</td>\n    </tr>\n    <tr>\n      <td>...</td>\n      <td>...</td>\n      <td>...</td>\n      <td>...</td>\n      <td>...</td>\n      <td>...</td>\n      <td>...</td>\n      <td>...</td>\n      <td>...</td>\n    </tr>\n    <tr>\n      <td>4786</td>\n      <td>9367</td>\n      <td>El Mariachi</td>\n      <td>28.0</td>\n      <td>Action</td>\n      <td>80.0</td>\n      <td>Crime</td>\n      <td>53.0</td>\n      <td>Thriller</td>\n    </tr>\n    <tr>\n      <td>4787</td>\n      <td>72766</td>\n      <td>Newlyweds</td>\n      <td>35.0</td>\n      <td>Comedy</td>\n      <td>10749.0</td>\n      <td>Romance</td>\n      <td>NaN</td>\n      <td>NaN</td>\n    </tr>\n    <tr>\n      <td>4788</td>\n      <td>231617</td>\n      <td>Signed, Sealed, Delivered</td>\n      <td>35.0</td>\n      <td>Comedy</td>\n      <td>18.0</td>\n      <td>Drama</td>\n      <td>10749.0</td>\n      <td>Romance</td>\n    </tr>\n    <tr>\n      <td>4789</td>\n      <td>126186</td>\n      <td>Shanghai Calling</td>\n      <td>NaN</td>\n      <td>NaN</td>\n      <td>NaN</td>\n      <td>NaN</td>\n      <td>NaN</td>\n      <td>NaN</td>\n    </tr>\n    <tr>\n      <td>4790</td>\n      <td>25975</td>\n      <td>My Date with Drew</td>\n      <td>99.0</td>\n      <td>Documentary</td>\n      <td>NaN</td>\n      <td>NaN</td>\n      <td>NaN</td>\n      <td>NaN</td>\n    </tr>\n  </tbody>\n</table>\n<p>4791 rows × 8 columns</p>\n</div>"
     },
     "metadata": {},
     "output_type": "execute_result",
     "execution_count": 19
    }
   ],
   "source": [
    "genres_columns = [['genre_'+str(i)+'_id', 'genre_'+str(i)+'_name'] for i in range(3)]\n",
    "genres_columns = list(chain.from_iterable(genres_columns))\n",
    "\n",
    "tmdb_df_genres = tmdb_df[['id', 'title']+genres_columns].copy()\n",
    "tmdb_df_genres"
   ]
  },
  {
   "cell_type": "code",
   "execution_count": 20,
   "metadata": {
    "pycharm": {
     "is_executing": false
    }
   },
   "outputs": [
    {
     "data": {
      "text/plain": "   movie_id   title         genre          0\n0     19995  Avatar    genre_0_id         28\n1     19995  Avatar  genre_0_name     Action\n2     19995  Avatar    genre_1_id         12\n3     19995  Avatar  genre_1_name  Adventure\n4     19995  Avatar    genre_2_id         14\n5     19995  Avatar  genre_2_name    Fantasy",
      "text/html": "<div>\n<style scoped>\n    .dataframe tbody tr th:only-of-type {\n        vertical-align: middle;\n    }\n\n    .dataframe tbody tr th {\n        vertical-align: top;\n    }\n\n    .dataframe thead th {\n        text-align: right;\n    }\n</style>\n<table border=\"1\" class=\"dataframe\">\n  <thead>\n    <tr style=\"text-align: right;\">\n      <th></th>\n      <th>movie_id</th>\n      <th>title</th>\n      <th>genre</th>\n      <th>0</th>\n    </tr>\n  </thead>\n  <tbody>\n    <tr>\n      <td>0</td>\n      <td>19995</td>\n      <td>Avatar</td>\n      <td>genre_0_id</td>\n      <td>28</td>\n    </tr>\n    <tr>\n      <td>1</td>\n      <td>19995</td>\n      <td>Avatar</td>\n      <td>genre_0_name</td>\n      <td>Action</td>\n    </tr>\n    <tr>\n      <td>2</td>\n      <td>19995</td>\n      <td>Avatar</td>\n      <td>genre_1_id</td>\n      <td>12</td>\n    </tr>\n    <tr>\n      <td>3</td>\n      <td>19995</td>\n      <td>Avatar</td>\n      <td>genre_1_name</td>\n      <td>Adventure</td>\n    </tr>\n    <tr>\n      <td>4</td>\n      <td>19995</td>\n      <td>Avatar</td>\n      <td>genre_2_id</td>\n      <td>14</td>\n    </tr>\n    <tr>\n      <td>5</td>\n      <td>19995</td>\n      <td>Avatar</td>\n      <td>genre_2_name</td>\n      <td>Fantasy</td>\n    </tr>\n  </tbody>\n</table>\n</div>"
     },
     "metadata": {},
     "output_type": "execute_result",
     "execution_count": 20
    }
   ],
   "source": [
    "tmdb_df_genres_stack = tmdb_df_genres.set_index(['id', 'title']).stack().reset_index().rename({'level_2': 'genre'}, axis=1)\n",
    "tmdb_df_genres_stack = tmdb_df_genres_stack.rename(columns={'id':'movie_id'})\n",
    "\n",
    "tmdb_df_genres_stack.head(6)"
   ]
  },
  {
   "cell_type": "code",
   "execution_count": 21,
   "metadata": {
    "pycharm": {
     "is_executing": false
    }
   },
   "outputs": [],
   "source": [
    "def merge_id_name(df, column):\n",
    "    df_merge = []\n",
    "\n",
    "    for key in ['id', 'name']:\n",
    "        df_key = df[df[column].str.contains(key)].copy()\n",
    "\n",
    "        df_key.rename({0: key}, axis=1, inplace=True)\n",
    "        df_key[column]=df_key[column].str[len(column)+1].astype(int)\n",
    "\n",
    "        df_merge.append(df_key)\n",
    "    \n",
    "    return pd.merge(df_merge[0], df_merge[1],  on=['movie_id', 'title', column])"
   ]
  },
  {
   "cell_type": "code",
   "execution_count": 22,
   "metadata": {
    "scrolled": false,
    "pycharm": {
     "is_executing": false
    }
   },
   "outputs": [
    {
     "data": {
      "text/plain": "    movie_id                                     title  genre   id  \\\n0      19995                                    Avatar      0   28   \n1      19995                                    Avatar      1   12   \n2      19995                                    Avatar      2   14   \n3        285  Pirates of the Caribbean: At World's End      0   12   \n4        285  Pirates of the Caribbean: At World's End      1   14   \n5        285  Pirates of the Caribbean: At World's End      2   28   \n6     206647                                   Spectre      0   28   \n7     206647                                   Spectre      1   12   \n8     206647                                   Spectre      2   80   \n9      49026                     The Dark Knight Rises      0   28   \n10     49026                     The Dark Knight Rises      1   80   \n11     49026                     The Dark Knight Rises      2   18   \n12     49529                               John Carter      0   28   \n13     49529                               John Carter      1   12   \n14     49529                               John Carter      2  878   \n\n               name  \n0            Action  \n1         Adventure  \n2           Fantasy  \n3         Adventure  \n4           Fantasy  \n5            Action  \n6            Action  \n7         Adventure  \n8             Crime  \n9            Action  \n10            Crime  \n11            Drama  \n12           Action  \n13        Adventure  \n14  Science Fiction  ",
      "text/html": "<div>\n<style scoped>\n    .dataframe tbody tr th:only-of-type {\n        vertical-align: middle;\n    }\n\n    .dataframe tbody tr th {\n        vertical-align: top;\n    }\n\n    .dataframe thead th {\n        text-align: right;\n    }\n</style>\n<table border=\"1\" class=\"dataframe\">\n  <thead>\n    <tr style=\"text-align: right;\">\n      <th></th>\n      <th>movie_id</th>\n      <th>title</th>\n      <th>genre</th>\n      <th>id</th>\n      <th>name</th>\n    </tr>\n  </thead>\n  <tbody>\n    <tr>\n      <td>0</td>\n      <td>19995</td>\n      <td>Avatar</td>\n      <td>0</td>\n      <td>28</td>\n      <td>Action</td>\n    </tr>\n    <tr>\n      <td>1</td>\n      <td>19995</td>\n      <td>Avatar</td>\n      <td>1</td>\n      <td>12</td>\n      <td>Adventure</td>\n    </tr>\n    <tr>\n      <td>2</td>\n      <td>19995</td>\n      <td>Avatar</td>\n      <td>2</td>\n      <td>14</td>\n      <td>Fantasy</td>\n    </tr>\n    <tr>\n      <td>3</td>\n      <td>285</td>\n      <td>Pirates of the Caribbean: At World's End</td>\n      <td>0</td>\n      <td>12</td>\n      <td>Adventure</td>\n    </tr>\n    <tr>\n      <td>4</td>\n      <td>285</td>\n      <td>Pirates of the Caribbean: At World's End</td>\n      <td>1</td>\n      <td>14</td>\n      <td>Fantasy</td>\n    </tr>\n    <tr>\n      <td>5</td>\n      <td>285</td>\n      <td>Pirates of the Caribbean: At World's End</td>\n      <td>2</td>\n      <td>28</td>\n      <td>Action</td>\n    </tr>\n    <tr>\n      <td>6</td>\n      <td>206647</td>\n      <td>Spectre</td>\n      <td>0</td>\n      <td>28</td>\n      <td>Action</td>\n    </tr>\n    <tr>\n      <td>7</td>\n      <td>206647</td>\n      <td>Spectre</td>\n      <td>1</td>\n      <td>12</td>\n      <td>Adventure</td>\n    </tr>\n    <tr>\n      <td>8</td>\n      <td>206647</td>\n      <td>Spectre</td>\n      <td>2</td>\n      <td>80</td>\n      <td>Crime</td>\n    </tr>\n    <tr>\n      <td>9</td>\n      <td>49026</td>\n      <td>The Dark Knight Rises</td>\n      <td>0</td>\n      <td>28</td>\n      <td>Action</td>\n    </tr>\n    <tr>\n      <td>10</td>\n      <td>49026</td>\n      <td>The Dark Knight Rises</td>\n      <td>1</td>\n      <td>80</td>\n      <td>Crime</td>\n    </tr>\n    <tr>\n      <td>11</td>\n      <td>49026</td>\n      <td>The Dark Knight Rises</td>\n      <td>2</td>\n      <td>18</td>\n      <td>Drama</td>\n    </tr>\n    <tr>\n      <td>12</td>\n      <td>49529</td>\n      <td>John Carter</td>\n      <td>0</td>\n      <td>28</td>\n      <td>Action</td>\n    </tr>\n    <tr>\n      <td>13</td>\n      <td>49529</td>\n      <td>John Carter</td>\n      <td>1</td>\n      <td>12</td>\n      <td>Adventure</td>\n    </tr>\n    <tr>\n      <td>14</td>\n      <td>49529</td>\n      <td>John Carter</td>\n      <td>2</td>\n      <td>878</td>\n      <td>Science Fiction</td>\n    </tr>\n  </tbody>\n</table>\n</div>"
     },
     "metadata": {},
     "output_type": "execute_result",
     "execution_count": 22
    }
   ],
   "source": [
    "genre_df = merge_id_name(tmdb_df_genres_stack, 'genre')\n",
    "genre_df.head(15)"
   ]
  },
  {
   "cell_type": "code",
   "execution_count": 23,
   "metadata": {
    "pycharm": {
     "is_executing": false
    }
   },
   "outputs": [
    {
     "data": {
      "text/plain": "     id             name  movie_id                                     title  \\\n0    28           Action     19995                                    Avatar   \n1    12        Adventure     19995                                    Avatar   \n2    14          Fantasy     19995                                    Avatar   \n3    12        Adventure       285  Pirates of the Caribbean: At World's End   \n4    14          Fantasy       285  Pirates of the Caribbean: At World's End   \n5    28           Action       285  Pirates of the Caribbean: At World's End   \n6    28           Action    206647                                   Spectre   \n7    12        Adventure    206647                                   Spectre   \n8    80            Crime    206647                                   Spectre   \n9    28           Action     49026                     The Dark Knight Rises   \n10   80            Crime     49026                     The Dark Knight Rises   \n11   18            Drama     49026                     The Dark Knight Rises   \n12   28           Action     49529                               John Carter   \n13   12        Adventure     49529                               John Carter   \n14  878  Science Fiction     49529                               John Carter   \n\n    genre  \n0       0  \n1       1  \n2       2  \n3       0  \n4       1  \n5       2  \n6       0  \n7       1  \n8       2  \n9       0  \n10      1  \n11      2  \n12      0  \n13      1  \n14      2  ",
      "text/html": "<div>\n<style scoped>\n    .dataframe tbody tr th:only-of-type {\n        vertical-align: middle;\n    }\n\n    .dataframe tbody tr th {\n        vertical-align: top;\n    }\n\n    .dataframe thead th {\n        text-align: right;\n    }\n</style>\n<table border=\"1\" class=\"dataframe\">\n  <thead>\n    <tr style=\"text-align: right;\">\n      <th></th>\n      <th>id</th>\n      <th>name</th>\n      <th>movie_id</th>\n      <th>title</th>\n      <th>genre</th>\n    </tr>\n  </thead>\n  <tbody>\n    <tr>\n      <td>0</td>\n      <td>28</td>\n      <td>Action</td>\n      <td>19995</td>\n      <td>Avatar</td>\n      <td>0</td>\n    </tr>\n    <tr>\n      <td>1</td>\n      <td>12</td>\n      <td>Adventure</td>\n      <td>19995</td>\n      <td>Avatar</td>\n      <td>1</td>\n    </tr>\n    <tr>\n      <td>2</td>\n      <td>14</td>\n      <td>Fantasy</td>\n      <td>19995</td>\n      <td>Avatar</td>\n      <td>2</td>\n    </tr>\n    <tr>\n      <td>3</td>\n      <td>12</td>\n      <td>Adventure</td>\n      <td>285</td>\n      <td>Pirates of the Caribbean: At World's End</td>\n      <td>0</td>\n    </tr>\n    <tr>\n      <td>4</td>\n      <td>14</td>\n      <td>Fantasy</td>\n      <td>285</td>\n      <td>Pirates of the Caribbean: At World's End</td>\n      <td>1</td>\n    </tr>\n    <tr>\n      <td>5</td>\n      <td>28</td>\n      <td>Action</td>\n      <td>285</td>\n      <td>Pirates of the Caribbean: At World's End</td>\n      <td>2</td>\n    </tr>\n    <tr>\n      <td>6</td>\n      <td>28</td>\n      <td>Action</td>\n      <td>206647</td>\n      <td>Spectre</td>\n      <td>0</td>\n    </tr>\n    <tr>\n      <td>7</td>\n      <td>12</td>\n      <td>Adventure</td>\n      <td>206647</td>\n      <td>Spectre</td>\n      <td>1</td>\n    </tr>\n    <tr>\n      <td>8</td>\n      <td>80</td>\n      <td>Crime</td>\n      <td>206647</td>\n      <td>Spectre</td>\n      <td>2</td>\n    </tr>\n    <tr>\n      <td>9</td>\n      <td>28</td>\n      <td>Action</td>\n      <td>49026</td>\n      <td>The Dark Knight Rises</td>\n      <td>0</td>\n    </tr>\n    <tr>\n      <td>10</td>\n      <td>80</td>\n      <td>Crime</td>\n      <td>49026</td>\n      <td>The Dark Knight Rises</td>\n      <td>1</td>\n    </tr>\n    <tr>\n      <td>11</td>\n      <td>18</td>\n      <td>Drama</td>\n      <td>49026</td>\n      <td>The Dark Knight Rises</td>\n      <td>2</td>\n    </tr>\n    <tr>\n      <td>12</td>\n      <td>28</td>\n      <td>Action</td>\n      <td>49529</td>\n      <td>John Carter</td>\n      <td>0</td>\n    </tr>\n    <tr>\n      <td>13</td>\n      <td>12</td>\n      <td>Adventure</td>\n      <td>49529</td>\n      <td>John Carter</td>\n      <td>1</td>\n    </tr>\n    <tr>\n      <td>14</td>\n      <td>878</td>\n      <td>Science Fiction</td>\n      <td>49529</td>\n      <td>John Carter</td>\n      <td>2</td>\n    </tr>\n  </tbody>\n</table>\n</div>"
     },
     "metadata": {},
     "output_type": "execute_result",
     "execution_count": 23
    }
   ],
   "source": [
    "genre_df = genre_df[['id', 'name', 'movie_id', 'title', 'genre']]\n",
    "genre_df.head(15)"
   ]
  },
  {
   "cell_type": "code",
   "execution_count": 24,
   "metadata": {
    "pycharm": {
     "is_executing": false
    }
   },
   "outputs": [
    {
     "data": {
      "text/plain": "name\nWestern            1\nWar                1\nAdventure          1\nAnimation          1\nComedy             1\nCrime              1\nDocumentary        1\nDrama              1\nFamily             1\nFantasy            1\nForeign            1\nHistory            1\nHorror             1\nMusic              1\nMystery            1\nRomance            1\nScience Fiction    1\nTV Movie           1\nThriller           1\nAction             1\nName: id, dtype: int64"
     },
     "metadata": {},
     "output_type": "execute_result",
     "execution_count": 24
    }
   ],
   "source": [
    "genre_df.groupby('name')['id'].nunique().sort_values(ascending=False)"
   ]
  },
  {
   "cell_type": "code",
   "execution_count": 25,
   "metadata": {
    "pycharm": {
     "is_executing": false
    }
   },
   "outputs": [],
   "source": [
    "genre_df.to_csv('output/genre.csv', index=False)"
   ]
  },
  {
   "cell_type": "code",
   "execution_count": 26,
   "metadata": {
    "pycharm": {
     "is_executing": false
    }
   },
   "outputs": [],
   "source": [
    "tmdb_df.drop(['genre_'+str(i)+'_id' for i in range(3)], axis=1, inplace=True)"
   ]
  },
  {
   "cell_type": "markdown",
   "metadata": {},
   "source": [
    "### 1.4 Uniqueness of Keywords"
   ]
  },
  {
   "cell_type": "code",
   "execution_count": 27,
   "metadata": {
    "scrolled": false,
    "pycharm": {
     "is_executing": false
    }
   },
   "outputs": [
    {
     "data": {
      "text/plain": "          id                                     title  keyword_0_id  \\\n0      19995                                    Avatar        1463.0   \n1        285  Pirates of the Caribbean: At World's End         270.0   \n2     206647                                   Spectre         470.0   \n3      49026                     The Dark Knight Rises         849.0   \n4      49529                               John Carter         818.0   \n...      ...                                       ...           ...   \n4786    9367                               El Mariachi        5616.0   \n4787   72766                                 Newlyweds           NaN   \n4788  231617                 Signed, Sealed, Delivered         248.0   \n4789  126186                          Shanghai Calling           NaN   \n4790   25975                         My Date with Drew        1523.0   \n\n                    keyword_0_name  keyword_1_id       keyword_1_name  \\\n0                    culture clash        2964.0               future   \n1                            ocean         726.0           drug abuse   \n2                              spy         818.0       based on novel   \n3                        dc comics         853.0        crime fighter   \n4                   based on novel         839.0                 mars   \n...                            ...           ...                  ...   \n4786  united states–mexico barrier       33649.0                 legs   \n4787                           NaN           NaN                  NaN   \n4788                          date         699.0  love at first sight   \n4789                           NaN           NaN                  NaN   \n4790                     obsession        2249.0            camcorder   \n\n      keyword_2_id keyword_2_name  keyword_3_id              keyword_3_name  \\\n0           3386.0      space war        3388.0                space colony   \n1            911.0  exotic island        1319.0  east india trading company   \n2           4289.0   secret agent        9663.0                      sequel   \n3            949.0      terrorist        1308.0             secret identity   \n4           1456.0      medallion        3801.0                space travel   \n...            ...            ...           ...                         ...   \n4786      162740.0           arms      187891.0                 paper knife   \n4787           NaN            NaN           NaN                         NaN   \n4788        2398.0      narration        5340.0               investigation   \n4789           NaN            NaN           NaN                         NaN   \n4790        9986.0          crush       11223.0                  dream girl   \n\n      keyword_4_id      keyword_4_name  \n0           3679.0             society  \n1           2038.0  love of one's life  \n2          14555.0                 mi6  \n3           1437.0             burglar  \n4           7376.0            princess  \n...            ...                 ...  \n4786      206558.0         guitar case  \n4787           NaN                 NaN  \n4788       34051.0                team  \n4789           NaN                 NaN  \n4790           NaN                 NaN  \n\n[4791 rows x 12 columns]",
      "text/html": "<div>\n<style scoped>\n    .dataframe tbody tr th:only-of-type {\n        vertical-align: middle;\n    }\n\n    .dataframe tbody tr th {\n        vertical-align: top;\n    }\n\n    .dataframe thead th {\n        text-align: right;\n    }\n</style>\n<table border=\"1\" class=\"dataframe\">\n  <thead>\n    <tr style=\"text-align: right;\">\n      <th></th>\n      <th>id</th>\n      <th>title</th>\n      <th>keyword_0_id</th>\n      <th>keyword_0_name</th>\n      <th>keyword_1_id</th>\n      <th>keyword_1_name</th>\n      <th>keyword_2_id</th>\n      <th>keyword_2_name</th>\n      <th>keyword_3_id</th>\n      <th>keyword_3_name</th>\n      <th>keyword_4_id</th>\n      <th>keyword_4_name</th>\n    </tr>\n  </thead>\n  <tbody>\n    <tr>\n      <td>0</td>\n      <td>19995</td>\n      <td>Avatar</td>\n      <td>1463.0</td>\n      <td>culture clash</td>\n      <td>2964.0</td>\n      <td>future</td>\n      <td>3386.0</td>\n      <td>space war</td>\n      <td>3388.0</td>\n      <td>space colony</td>\n      <td>3679.0</td>\n      <td>society</td>\n    </tr>\n    <tr>\n      <td>1</td>\n      <td>285</td>\n      <td>Pirates of the Caribbean: At World's End</td>\n      <td>270.0</td>\n      <td>ocean</td>\n      <td>726.0</td>\n      <td>drug abuse</td>\n      <td>911.0</td>\n      <td>exotic island</td>\n      <td>1319.0</td>\n      <td>east india trading company</td>\n      <td>2038.0</td>\n      <td>love of one's life</td>\n    </tr>\n    <tr>\n      <td>2</td>\n      <td>206647</td>\n      <td>Spectre</td>\n      <td>470.0</td>\n      <td>spy</td>\n      <td>818.0</td>\n      <td>based on novel</td>\n      <td>4289.0</td>\n      <td>secret agent</td>\n      <td>9663.0</td>\n      <td>sequel</td>\n      <td>14555.0</td>\n      <td>mi6</td>\n    </tr>\n    <tr>\n      <td>3</td>\n      <td>49026</td>\n      <td>The Dark Knight Rises</td>\n      <td>849.0</td>\n      <td>dc comics</td>\n      <td>853.0</td>\n      <td>crime fighter</td>\n      <td>949.0</td>\n      <td>terrorist</td>\n      <td>1308.0</td>\n      <td>secret identity</td>\n      <td>1437.0</td>\n      <td>burglar</td>\n    </tr>\n    <tr>\n      <td>4</td>\n      <td>49529</td>\n      <td>John Carter</td>\n      <td>818.0</td>\n      <td>based on novel</td>\n      <td>839.0</td>\n      <td>mars</td>\n      <td>1456.0</td>\n      <td>medallion</td>\n      <td>3801.0</td>\n      <td>space travel</td>\n      <td>7376.0</td>\n      <td>princess</td>\n    </tr>\n    <tr>\n      <td>...</td>\n      <td>...</td>\n      <td>...</td>\n      <td>...</td>\n      <td>...</td>\n      <td>...</td>\n      <td>...</td>\n      <td>...</td>\n      <td>...</td>\n      <td>...</td>\n      <td>...</td>\n      <td>...</td>\n      <td>...</td>\n    </tr>\n    <tr>\n      <td>4786</td>\n      <td>9367</td>\n      <td>El Mariachi</td>\n      <td>5616.0</td>\n      <td>united states–mexico barrier</td>\n      <td>33649.0</td>\n      <td>legs</td>\n      <td>162740.0</td>\n      <td>arms</td>\n      <td>187891.0</td>\n      <td>paper knife</td>\n      <td>206558.0</td>\n      <td>guitar case</td>\n    </tr>\n    <tr>\n      <td>4787</td>\n      <td>72766</td>\n      <td>Newlyweds</td>\n      <td>NaN</td>\n      <td>NaN</td>\n      <td>NaN</td>\n      <td>NaN</td>\n      <td>NaN</td>\n      <td>NaN</td>\n      <td>NaN</td>\n      <td>NaN</td>\n      <td>NaN</td>\n      <td>NaN</td>\n    </tr>\n    <tr>\n      <td>4788</td>\n      <td>231617</td>\n      <td>Signed, Sealed, Delivered</td>\n      <td>248.0</td>\n      <td>date</td>\n      <td>699.0</td>\n      <td>love at first sight</td>\n      <td>2398.0</td>\n      <td>narration</td>\n      <td>5340.0</td>\n      <td>investigation</td>\n      <td>34051.0</td>\n      <td>team</td>\n    </tr>\n    <tr>\n      <td>4789</td>\n      <td>126186</td>\n      <td>Shanghai Calling</td>\n      <td>NaN</td>\n      <td>NaN</td>\n      <td>NaN</td>\n      <td>NaN</td>\n      <td>NaN</td>\n      <td>NaN</td>\n      <td>NaN</td>\n      <td>NaN</td>\n      <td>NaN</td>\n      <td>NaN</td>\n    </tr>\n    <tr>\n      <td>4790</td>\n      <td>25975</td>\n      <td>My Date with Drew</td>\n      <td>1523.0</td>\n      <td>obsession</td>\n      <td>2249.0</td>\n      <td>camcorder</td>\n      <td>9986.0</td>\n      <td>crush</td>\n      <td>11223.0</td>\n      <td>dream girl</td>\n      <td>NaN</td>\n      <td>NaN</td>\n    </tr>\n  </tbody>\n</table>\n<p>4791 rows × 12 columns</p>\n</div>"
     },
     "metadata": {},
     "output_type": "execute_result",
     "execution_count": 27
    }
   ],
   "source": [
    "keywords_columns = [['keyword_'+str(i)+'_id', 'keyword_'+str(i)+'_name'] for i in range(5)]\n",
    "keywords_columns = list(chain.from_iterable(keywords_columns))\n",
    "\n",
    "tmdb_df_keywords = tmdb_df[['id', 'title']+keywords_columns].copy()\n",
    "tmdb_df_keywords"
   ]
  },
  {
   "cell_type": "code",
   "execution_count": 28,
   "metadata": {
    "pycharm": {
     "is_executing": false
    }
   },
   "outputs": [
    {
     "data": {
      "text/plain": "   movie_id   title         keyword              0\n0     19995  Avatar    keyword_0_id           1463\n1     19995  Avatar  keyword_0_name  culture clash\n2     19995  Avatar    keyword_1_id           2964\n3     19995  Avatar  keyword_1_name         future\n4     19995  Avatar    keyword_2_id           3386\n5     19995  Avatar  keyword_2_name      space war\n6     19995  Avatar    keyword_3_id           3388\n7     19995  Avatar  keyword_3_name   space colony\n8     19995  Avatar    keyword_4_id           3679",
      "text/html": "<div>\n<style scoped>\n    .dataframe tbody tr th:only-of-type {\n        vertical-align: middle;\n    }\n\n    .dataframe tbody tr th {\n        vertical-align: top;\n    }\n\n    .dataframe thead th {\n        text-align: right;\n    }\n</style>\n<table border=\"1\" class=\"dataframe\">\n  <thead>\n    <tr style=\"text-align: right;\">\n      <th></th>\n      <th>movie_id</th>\n      <th>title</th>\n      <th>keyword</th>\n      <th>0</th>\n    </tr>\n  </thead>\n  <tbody>\n    <tr>\n      <td>0</td>\n      <td>19995</td>\n      <td>Avatar</td>\n      <td>keyword_0_id</td>\n      <td>1463</td>\n    </tr>\n    <tr>\n      <td>1</td>\n      <td>19995</td>\n      <td>Avatar</td>\n      <td>keyword_0_name</td>\n      <td>culture clash</td>\n    </tr>\n    <tr>\n      <td>2</td>\n      <td>19995</td>\n      <td>Avatar</td>\n      <td>keyword_1_id</td>\n      <td>2964</td>\n    </tr>\n    <tr>\n      <td>3</td>\n      <td>19995</td>\n      <td>Avatar</td>\n      <td>keyword_1_name</td>\n      <td>future</td>\n    </tr>\n    <tr>\n      <td>4</td>\n      <td>19995</td>\n      <td>Avatar</td>\n      <td>keyword_2_id</td>\n      <td>3386</td>\n    </tr>\n    <tr>\n      <td>5</td>\n      <td>19995</td>\n      <td>Avatar</td>\n      <td>keyword_2_name</td>\n      <td>space war</td>\n    </tr>\n    <tr>\n      <td>6</td>\n      <td>19995</td>\n      <td>Avatar</td>\n      <td>keyword_3_id</td>\n      <td>3388</td>\n    </tr>\n    <tr>\n      <td>7</td>\n      <td>19995</td>\n      <td>Avatar</td>\n      <td>keyword_3_name</td>\n      <td>space colony</td>\n    </tr>\n    <tr>\n      <td>8</td>\n      <td>19995</td>\n      <td>Avatar</td>\n      <td>keyword_4_id</td>\n      <td>3679</td>\n    </tr>\n  </tbody>\n</table>\n</div>"
     },
     "metadata": {},
     "output_type": "execute_result",
     "execution_count": 28
    }
   ],
   "source": [
    "tmdb_df_keywords_stack = tmdb_df_keywords.set_index(['id', 'title']).stack().reset_index().rename({'level_2': 'keyword'}, axis=1)\n",
    "tmdb_df_keywords_stack = tmdb_df_keywords_stack.rename(columns={'id':'movie_id'})\n",
    "\n",
    "tmdb_df_keywords_stack.head(9)"
   ]
  },
  {
   "cell_type": "code",
   "execution_count": 29,
   "metadata": {
    "scrolled": false,
    "pycharm": {
     "is_executing": false
    }
   },
   "outputs": [
    {
     "data": {
      "text/plain": "    movie_id                                     title  keyword     id  \\\n0      19995                                    Avatar        0   1463   \n1      19995                                    Avatar        1   2964   \n2      19995                                    Avatar        2   3386   \n3      19995                                    Avatar        3   3388   \n4      19995                                    Avatar        4   3679   \n5        285  Pirates of the Caribbean: At World's End        0    270   \n6        285  Pirates of the Caribbean: At World's End        1    726   \n7        285  Pirates of the Caribbean: At World's End        2    911   \n8        285  Pirates of the Caribbean: At World's End        3   1319   \n9        285  Pirates of the Caribbean: At World's End        4   2038   \n10    206647                                   Spectre        0    470   \n11    206647                                   Spectre        1    818   \n12    206647                                   Spectre        2   4289   \n13    206647                                   Spectre        3   9663   \n14    206647                                   Spectre        4  14555   \n\n                          name  \n0                culture clash  \n1                       future  \n2                    space war  \n3                 space colony  \n4                      society  \n5                        ocean  \n6                   drug abuse  \n7                exotic island  \n8   east india trading company  \n9           love of one's life  \n10                         spy  \n11              based on novel  \n12                secret agent  \n13                      sequel  \n14                         mi6  ",
      "text/html": "<div>\n<style scoped>\n    .dataframe tbody tr th:only-of-type {\n        vertical-align: middle;\n    }\n\n    .dataframe tbody tr th {\n        vertical-align: top;\n    }\n\n    .dataframe thead th {\n        text-align: right;\n    }\n</style>\n<table border=\"1\" class=\"dataframe\">\n  <thead>\n    <tr style=\"text-align: right;\">\n      <th></th>\n      <th>movie_id</th>\n      <th>title</th>\n      <th>keyword</th>\n      <th>id</th>\n      <th>name</th>\n    </tr>\n  </thead>\n  <tbody>\n    <tr>\n      <td>0</td>\n      <td>19995</td>\n      <td>Avatar</td>\n      <td>0</td>\n      <td>1463</td>\n      <td>culture clash</td>\n    </tr>\n    <tr>\n      <td>1</td>\n      <td>19995</td>\n      <td>Avatar</td>\n      <td>1</td>\n      <td>2964</td>\n      <td>future</td>\n    </tr>\n    <tr>\n      <td>2</td>\n      <td>19995</td>\n      <td>Avatar</td>\n      <td>2</td>\n      <td>3386</td>\n      <td>space war</td>\n    </tr>\n    <tr>\n      <td>3</td>\n      <td>19995</td>\n      <td>Avatar</td>\n      <td>3</td>\n      <td>3388</td>\n      <td>space colony</td>\n    </tr>\n    <tr>\n      <td>4</td>\n      <td>19995</td>\n      <td>Avatar</td>\n      <td>4</td>\n      <td>3679</td>\n      <td>society</td>\n    </tr>\n    <tr>\n      <td>5</td>\n      <td>285</td>\n      <td>Pirates of the Caribbean: At World's End</td>\n      <td>0</td>\n      <td>270</td>\n      <td>ocean</td>\n    </tr>\n    <tr>\n      <td>6</td>\n      <td>285</td>\n      <td>Pirates of the Caribbean: At World's End</td>\n      <td>1</td>\n      <td>726</td>\n      <td>drug abuse</td>\n    </tr>\n    <tr>\n      <td>7</td>\n      <td>285</td>\n      <td>Pirates of the Caribbean: At World's End</td>\n      <td>2</td>\n      <td>911</td>\n      <td>exotic island</td>\n    </tr>\n    <tr>\n      <td>8</td>\n      <td>285</td>\n      <td>Pirates of the Caribbean: At World's End</td>\n      <td>3</td>\n      <td>1319</td>\n      <td>east india trading company</td>\n    </tr>\n    <tr>\n      <td>9</td>\n      <td>285</td>\n      <td>Pirates of the Caribbean: At World's End</td>\n      <td>4</td>\n      <td>2038</td>\n      <td>love of one's life</td>\n    </tr>\n    <tr>\n      <td>10</td>\n      <td>206647</td>\n      <td>Spectre</td>\n      <td>0</td>\n      <td>470</td>\n      <td>spy</td>\n    </tr>\n    <tr>\n      <td>11</td>\n      <td>206647</td>\n      <td>Spectre</td>\n      <td>1</td>\n      <td>818</td>\n      <td>based on novel</td>\n    </tr>\n    <tr>\n      <td>12</td>\n      <td>206647</td>\n      <td>Spectre</td>\n      <td>2</td>\n      <td>4289</td>\n      <td>secret agent</td>\n    </tr>\n    <tr>\n      <td>13</td>\n      <td>206647</td>\n      <td>Spectre</td>\n      <td>3</td>\n      <td>9663</td>\n      <td>sequel</td>\n    </tr>\n    <tr>\n      <td>14</td>\n      <td>206647</td>\n      <td>Spectre</td>\n      <td>4</td>\n      <td>14555</td>\n      <td>mi6</td>\n    </tr>\n  </tbody>\n</table>\n</div>"
     },
     "metadata": {},
     "output_type": "execute_result",
     "execution_count": 29
    }
   ],
   "source": [
    "keyword_df = merge_id_name(tmdb_df_keywords_stack, 'keyword')\n",
    "keyword_df.head(15)"
   ]
  },
  {
   "cell_type": "code",
   "execution_count": 30,
   "metadata": {
    "pycharm": {
     "is_executing": false
    }
   },
   "outputs": [
    {
     "data": {
      "text/plain": "       id                        name  movie_id  \\\n0    1463               culture clash     19995   \n1    2964                      future     19995   \n2    3386                   space war     19995   \n3    3388                space colony     19995   \n4    3679                     society     19995   \n5     270                       ocean       285   \n6     726                  drug abuse       285   \n7     911               exotic island       285   \n8    1319  east india trading company       285   \n9    2038          love of one's life       285   \n10    470                         spy    206647   \n11    818              based on novel    206647   \n12   4289                secret agent    206647   \n13   9663                      sequel    206647   \n14  14555                         mi6    206647   \n\n                                       title  keyword  \n0                                     Avatar        0  \n1                                     Avatar        1  \n2                                     Avatar        2  \n3                                     Avatar        3  \n4                                     Avatar        4  \n5   Pirates of the Caribbean: At World's End        0  \n6   Pirates of the Caribbean: At World's End        1  \n7   Pirates of the Caribbean: At World's End        2  \n8   Pirates of the Caribbean: At World's End        3  \n9   Pirates of the Caribbean: At World's End        4  \n10                                   Spectre        0  \n11                                   Spectre        1  \n12                                   Spectre        2  \n13                                   Spectre        3  \n14                                   Spectre        4  ",
      "text/html": "<div>\n<style scoped>\n    .dataframe tbody tr th:only-of-type {\n        vertical-align: middle;\n    }\n\n    .dataframe tbody tr th {\n        vertical-align: top;\n    }\n\n    .dataframe thead th {\n        text-align: right;\n    }\n</style>\n<table border=\"1\" class=\"dataframe\">\n  <thead>\n    <tr style=\"text-align: right;\">\n      <th></th>\n      <th>id</th>\n      <th>name</th>\n      <th>movie_id</th>\n      <th>title</th>\n      <th>keyword</th>\n    </tr>\n  </thead>\n  <tbody>\n    <tr>\n      <td>0</td>\n      <td>1463</td>\n      <td>culture clash</td>\n      <td>19995</td>\n      <td>Avatar</td>\n      <td>0</td>\n    </tr>\n    <tr>\n      <td>1</td>\n      <td>2964</td>\n      <td>future</td>\n      <td>19995</td>\n      <td>Avatar</td>\n      <td>1</td>\n    </tr>\n    <tr>\n      <td>2</td>\n      <td>3386</td>\n      <td>space war</td>\n      <td>19995</td>\n      <td>Avatar</td>\n      <td>2</td>\n    </tr>\n    <tr>\n      <td>3</td>\n      <td>3388</td>\n      <td>space colony</td>\n      <td>19995</td>\n      <td>Avatar</td>\n      <td>3</td>\n    </tr>\n    <tr>\n      <td>4</td>\n      <td>3679</td>\n      <td>society</td>\n      <td>19995</td>\n      <td>Avatar</td>\n      <td>4</td>\n    </tr>\n    <tr>\n      <td>5</td>\n      <td>270</td>\n      <td>ocean</td>\n      <td>285</td>\n      <td>Pirates of the Caribbean: At World's End</td>\n      <td>0</td>\n    </tr>\n    <tr>\n      <td>6</td>\n      <td>726</td>\n      <td>drug abuse</td>\n      <td>285</td>\n      <td>Pirates of the Caribbean: At World's End</td>\n      <td>1</td>\n    </tr>\n    <tr>\n      <td>7</td>\n      <td>911</td>\n      <td>exotic island</td>\n      <td>285</td>\n      <td>Pirates of the Caribbean: At World's End</td>\n      <td>2</td>\n    </tr>\n    <tr>\n      <td>8</td>\n      <td>1319</td>\n      <td>east india trading company</td>\n      <td>285</td>\n      <td>Pirates of the Caribbean: At World's End</td>\n      <td>3</td>\n    </tr>\n    <tr>\n      <td>9</td>\n      <td>2038</td>\n      <td>love of one's life</td>\n      <td>285</td>\n      <td>Pirates of the Caribbean: At World's End</td>\n      <td>4</td>\n    </tr>\n    <tr>\n      <td>10</td>\n      <td>470</td>\n      <td>spy</td>\n      <td>206647</td>\n      <td>Spectre</td>\n      <td>0</td>\n    </tr>\n    <tr>\n      <td>11</td>\n      <td>818</td>\n      <td>based on novel</td>\n      <td>206647</td>\n      <td>Spectre</td>\n      <td>1</td>\n    </tr>\n    <tr>\n      <td>12</td>\n      <td>4289</td>\n      <td>secret agent</td>\n      <td>206647</td>\n      <td>Spectre</td>\n      <td>2</td>\n    </tr>\n    <tr>\n      <td>13</td>\n      <td>9663</td>\n      <td>sequel</td>\n      <td>206647</td>\n      <td>Spectre</td>\n      <td>3</td>\n    </tr>\n    <tr>\n      <td>14</td>\n      <td>14555</td>\n      <td>mi6</td>\n      <td>206647</td>\n      <td>Spectre</td>\n      <td>4</td>\n    </tr>\n  </tbody>\n</table>\n</div>"
     },
     "metadata": {},
     "output_type": "execute_result",
     "execution_count": 30
    }
   ],
   "source": [
    "keyword_df = keyword_df[['id', 'name', 'movie_id', 'title', 'keyword']]\n",
    "keyword_df.head(15)"
   ]
  },
  {
   "cell_type": "code",
   "execution_count": 31,
   "metadata": {
    "pycharm": {
     "is_executing": false
    }
   },
   "outputs": [
    {
     "data": {
      "text/plain": "name\n超级妈妈                       1\nfamily clan                1\nfilm history               1\nfilm in a film             1\nfilm industry              1\n                          ..\nplanet                     1\nplanetarium                1\nplanetary configuration    1\nplanned murder             1\n15th century               1\nName: id, Length: 5133, dtype: int64"
     },
     "metadata": {},
     "output_type": "execute_result",
     "execution_count": 31
    }
   ],
   "source": [
    "keyword_df.groupby('name')['id'].nunique().sort_values(ascending=False)"
   ]
  },
  {
   "cell_type": "code",
   "execution_count": 32,
   "metadata": {
    "pycharm": {
     "is_executing": false
    }
   },
   "outputs": [],
   "source": [
    "keyword_df.to_csv('output/keyword.csv', index=False)"
   ]
  },
  {
   "cell_type": "code",
   "execution_count": 33,
   "metadata": {
    "pycharm": {
     "is_executing": false
    }
   },
   "outputs": [],
   "source": [
    "tmdb_df.drop(['keyword_'+str(i)+'_id' for i in range(5)], axis=1, inplace=True)"
   ]
  },
  {
   "cell_type": "markdown",
   "metadata": {},
   "source": [
    "### 1.5 Uniqueness of Production Companies"
   ]
  },
  {
   "cell_type": "code",
   "execution_count": 34,
   "metadata": {
    "scrolled": false,
    "pycharm": {
     "is_executing": false
    }
   },
   "outputs": [
    {
     "data": {
      "text/plain": "          id                                     title  \\\n0      19995                                    Avatar   \n1        285  Pirates of the Caribbean: At World's End   \n2     206647                                   Spectre   \n3      49026                     The Dark Knight Rises   \n4      49529                               John Carter   \n...      ...                                       ...   \n4786    9367                               El Mariachi   \n4787   72766                                 Newlyweds   \n4788  231617                 Signed, Sealed, Delivered   \n4789  126186                          Shanghai Calling   \n4790   25975                         My Date with Drew   \n\n      production_company_0_id production_company_0_name  \\\n0                       289.0   Ingenious Film Partners   \n1                         2.0      Walt Disney Pictures   \n2                         5.0         Columbia Pictures   \n3                       923.0        Legendary Pictures   \n4                         2.0      Walt Disney Pictures   \n...                       ...                       ...   \n4786                      5.0         Columbia Pictures   \n4787                      NaN                       NaN   \n4788                   3958.0     Front Street Pictures   \n4789                      NaN                       NaN   \n4790                  87986.0  rusty bear entertainment   \n\n      production_company_1_id               production_company_1_name  \n0                       306.0  Twentieth Century Fox Film Corporation  \n1                       130.0                 Jerry Bruckheimer Films  \n2                     10761.0                                  Danjaq  \n3                      6194.0                            Warner Bros.  \n4                         NaN                                     NaN  \n...                       ...                                     ...  \n4786                      NaN                                     NaN  \n4787                      NaN                                     NaN  \n4788                   6438.0          Muse Entertainment Enterprises  \n4789                      NaN                                     NaN  \n4790                  87987.0                        lucky crow films  \n\n[4791 rows x 6 columns]",
      "text/html": "<div>\n<style scoped>\n    .dataframe tbody tr th:only-of-type {\n        vertical-align: middle;\n    }\n\n    .dataframe tbody tr th {\n        vertical-align: top;\n    }\n\n    .dataframe thead th {\n        text-align: right;\n    }\n</style>\n<table border=\"1\" class=\"dataframe\">\n  <thead>\n    <tr style=\"text-align: right;\">\n      <th></th>\n      <th>id</th>\n      <th>title</th>\n      <th>production_company_0_id</th>\n      <th>production_company_0_name</th>\n      <th>production_company_1_id</th>\n      <th>production_company_1_name</th>\n    </tr>\n  </thead>\n  <tbody>\n    <tr>\n      <td>0</td>\n      <td>19995</td>\n      <td>Avatar</td>\n      <td>289.0</td>\n      <td>Ingenious Film Partners</td>\n      <td>306.0</td>\n      <td>Twentieth Century Fox Film Corporation</td>\n    </tr>\n    <tr>\n      <td>1</td>\n      <td>285</td>\n      <td>Pirates of the Caribbean: At World's End</td>\n      <td>2.0</td>\n      <td>Walt Disney Pictures</td>\n      <td>130.0</td>\n      <td>Jerry Bruckheimer Films</td>\n    </tr>\n    <tr>\n      <td>2</td>\n      <td>206647</td>\n      <td>Spectre</td>\n      <td>5.0</td>\n      <td>Columbia Pictures</td>\n      <td>10761.0</td>\n      <td>Danjaq</td>\n    </tr>\n    <tr>\n      <td>3</td>\n      <td>49026</td>\n      <td>The Dark Knight Rises</td>\n      <td>923.0</td>\n      <td>Legendary Pictures</td>\n      <td>6194.0</td>\n      <td>Warner Bros.</td>\n    </tr>\n    <tr>\n      <td>4</td>\n      <td>49529</td>\n      <td>John Carter</td>\n      <td>2.0</td>\n      <td>Walt Disney Pictures</td>\n      <td>NaN</td>\n      <td>NaN</td>\n    </tr>\n    <tr>\n      <td>...</td>\n      <td>...</td>\n      <td>...</td>\n      <td>...</td>\n      <td>...</td>\n      <td>...</td>\n      <td>...</td>\n    </tr>\n    <tr>\n      <td>4786</td>\n      <td>9367</td>\n      <td>El Mariachi</td>\n      <td>5.0</td>\n      <td>Columbia Pictures</td>\n      <td>NaN</td>\n      <td>NaN</td>\n    </tr>\n    <tr>\n      <td>4787</td>\n      <td>72766</td>\n      <td>Newlyweds</td>\n      <td>NaN</td>\n      <td>NaN</td>\n      <td>NaN</td>\n      <td>NaN</td>\n    </tr>\n    <tr>\n      <td>4788</td>\n      <td>231617</td>\n      <td>Signed, Sealed, Delivered</td>\n      <td>3958.0</td>\n      <td>Front Street Pictures</td>\n      <td>6438.0</td>\n      <td>Muse Entertainment Enterprises</td>\n    </tr>\n    <tr>\n      <td>4789</td>\n      <td>126186</td>\n      <td>Shanghai Calling</td>\n      <td>NaN</td>\n      <td>NaN</td>\n      <td>NaN</td>\n      <td>NaN</td>\n    </tr>\n    <tr>\n      <td>4790</td>\n      <td>25975</td>\n      <td>My Date with Drew</td>\n      <td>87986.0</td>\n      <td>rusty bear entertainment</td>\n      <td>87987.0</td>\n      <td>lucky crow films</td>\n    </tr>\n  </tbody>\n</table>\n<p>4791 rows × 6 columns</p>\n</div>"
     },
     "metadata": {},
     "output_type": "execute_result",
     "execution_count": 34
    }
   ],
   "source": [
    "pro_com_columns = [['production_company_'+str(i)+'_id', 'production_company_'+str(i)+'_name'] for i in range(2)]\n",
    "pro_com_columns = list(chain.from_iterable(pro_com_columns))\n",
    "\n",
    "tmdb_df_pro_com = tmdb_df[['id', 'title']+pro_com_columns].copy()\n",
    "tmdb_df_pro_com"
   ]
  },
  {
   "cell_type": "code",
   "execution_count": 35,
   "metadata": {
    "pycharm": {
     "is_executing": false
    }
   },
   "outputs": [
    {
     "data": {
      "text/plain": "   movie_id                                     title  \\\n0     19995                                    Avatar   \n1     19995                                    Avatar   \n2     19995                                    Avatar   \n3     19995                                    Avatar   \n4       285  Pirates of the Caribbean: At World's End   \n5       285  Pirates of the Caribbean: At World's End   \n6       285  Pirates of the Caribbean: At World's End   \n7       285  Pirates of the Caribbean: At World's End   \n\n          production_company                                       0  \n0    production_company_0_id                                     289  \n1  production_company_0_name                 Ingenious Film Partners  \n2    production_company_1_id                                     306  \n3  production_company_1_name  Twentieth Century Fox Film Corporation  \n4    production_company_0_id                                       2  \n5  production_company_0_name                    Walt Disney Pictures  \n6    production_company_1_id                                     130  \n7  production_company_1_name                 Jerry Bruckheimer Films  ",
      "text/html": "<div>\n<style scoped>\n    .dataframe tbody tr th:only-of-type {\n        vertical-align: middle;\n    }\n\n    .dataframe tbody tr th {\n        vertical-align: top;\n    }\n\n    .dataframe thead th {\n        text-align: right;\n    }\n</style>\n<table border=\"1\" class=\"dataframe\">\n  <thead>\n    <tr style=\"text-align: right;\">\n      <th></th>\n      <th>movie_id</th>\n      <th>title</th>\n      <th>production_company</th>\n      <th>0</th>\n    </tr>\n  </thead>\n  <tbody>\n    <tr>\n      <td>0</td>\n      <td>19995</td>\n      <td>Avatar</td>\n      <td>production_company_0_id</td>\n      <td>289</td>\n    </tr>\n    <tr>\n      <td>1</td>\n      <td>19995</td>\n      <td>Avatar</td>\n      <td>production_company_0_name</td>\n      <td>Ingenious Film Partners</td>\n    </tr>\n    <tr>\n      <td>2</td>\n      <td>19995</td>\n      <td>Avatar</td>\n      <td>production_company_1_id</td>\n      <td>306</td>\n    </tr>\n    <tr>\n      <td>3</td>\n      <td>19995</td>\n      <td>Avatar</td>\n      <td>production_company_1_name</td>\n      <td>Twentieth Century Fox Film Corporation</td>\n    </tr>\n    <tr>\n      <td>4</td>\n      <td>285</td>\n      <td>Pirates of the Caribbean: At World's End</td>\n      <td>production_company_0_id</td>\n      <td>2</td>\n    </tr>\n    <tr>\n      <td>5</td>\n      <td>285</td>\n      <td>Pirates of the Caribbean: At World's End</td>\n      <td>production_company_0_name</td>\n      <td>Walt Disney Pictures</td>\n    </tr>\n    <tr>\n      <td>6</td>\n      <td>285</td>\n      <td>Pirates of the Caribbean: At World's End</td>\n      <td>production_company_1_id</td>\n      <td>130</td>\n    </tr>\n    <tr>\n      <td>7</td>\n      <td>285</td>\n      <td>Pirates of the Caribbean: At World's End</td>\n      <td>production_company_1_name</td>\n      <td>Jerry Bruckheimer Films</td>\n    </tr>\n  </tbody>\n</table>\n</div>"
     },
     "metadata": {},
     "output_type": "execute_result",
     "execution_count": 35
    }
   ],
   "source": [
    "tmdb_df_pro_com_stack = tmdb_df_pro_com.set_index(['id', 'title']).stack().reset_index().rename({'level_2': 'production_company'}, axis=1)\n",
    "tmdb_df_pro_com_stack = tmdb_df_pro_com_stack.rename(columns={'id':'movie_id'})\n",
    "\n",
    "tmdb_df_pro_com_stack.head(8)"
   ]
  },
  {
   "cell_type": "code",
   "execution_count": 36,
   "metadata": {
    "scrolled": false,
    "pycharm": {
     "is_executing": false
    }
   },
   "outputs": [
    {
     "data": {
      "text/plain": "    movie_id                                     title  production_company  \\\n0      19995                                    Avatar                   0   \n1      19995                                    Avatar                   1   \n2        285  Pirates of the Caribbean: At World's End                   0   \n3        285  Pirates of the Caribbean: At World's End                   1   \n4     206647                                   Spectre                   0   \n5     206647                                   Spectre                   1   \n6      49026                     The Dark Knight Rises                   0   \n7      49026                     The Dark Knight Rises                   1   \n8      49529                               John Carter                   0   \n9        559                              Spider-Man 3                   0   \n10       559                              Spider-Man 3                   1   \n11     38757                                   Tangled                   0   \n12     38757                                   Tangled                   1   \n13     99861                   Avengers: Age of Ultron                   0   \n14     99861                   Avengers: Age of Ultron                   1   \n\n       id                                    name  \n0     289                 Ingenious Film Partners  \n1     306  Twentieth Century Fox Film Corporation  \n2       2                    Walt Disney Pictures  \n3     130                 Jerry Bruckheimer Films  \n4       5                       Columbia Pictures  \n5   10761                                  Danjaq  \n6     923                      Legendary Pictures  \n7    6194                            Warner Bros.  \n8       2                    Walt Disney Pictures  \n9       5                       Columbia Pictures  \n10    326                Laura Ziskin Productions  \n11      2                    Walt Disney Pictures  \n12   6125           Walt Disney Animation Studios  \n13    420                          Marvel Studios  \n14  15357                             Prime Focus  ",
      "text/html": "<div>\n<style scoped>\n    .dataframe tbody tr th:only-of-type {\n        vertical-align: middle;\n    }\n\n    .dataframe tbody tr th {\n        vertical-align: top;\n    }\n\n    .dataframe thead th {\n        text-align: right;\n    }\n</style>\n<table border=\"1\" class=\"dataframe\">\n  <thead>\n    <tr style=\"text-align: right;\">\n      <th></th>\n      <th>movie_id</th>\n      <th>title</th>\n      <th>production_company</th>\n      <th>id</th>\n      <th>name</th>\n    </tr>\n  </thead>\n  <tbody>\n    <tr>\n      <td>0</td>\n      <td>19995</td>\n      <td>Avatar</td>\n      <td>0</td>\n      <td>289</td>\n      <td>Ingenious Film Partners</td>\n    </tr>\n    <tr>\n      <td>1</td>\n      <td>19995</td>\n      <td>Avatar</td>\n      <td>1</td>\n      <td>306</td>\n      <td>Twentieth Century Fox Film Corporation</td>\n    </tr>\n    <tr>\n      <td>2</td>\n      <td>285</td>\n      <td>Pirates of the Caribbean: At World's End</td>\n      <td>0</td>\n      <td>2</td>\n      <td>Walt Disney Pictures</td>\n    </tr>\n    <tr>\n      <td>3</td>\n      <td>285</td>\n      <td>Pirates of the Caribbean: At World's End</td>\n      <td>1</td>\n      <td>130</td>\n      <td>Jerry Bruckheimer Films</td>\n    </tr>\n    <tr>\n      <td>4</td>\n      <td>206647</td>\n      <td>Spectre</td>\n      <td>0</td>\n      <td>5</td>\n      <td>Columbia Pictures</td>\n    </tr>\n    <tr>\n      <td>5</td>\n      <td>206647</td>\n      <td>Spectre</td>\n      <td>1</td>\n      <td>10761</td>\n      <td>Danjaq</td>\n    </tr>\n    <tr>\n      <td>6</td>\n      <td>49026</td>\n      <td>The Dark Knight Rises</td>\n      <td>0</td>\n      <td>923</td>\n      <td>Legendary Pictures</td>\n    </tr>\n    <tr>\n      <td>7</td>\n      <td>49026</td>\n      <td>The Dark Knight Rises</td>\n      <td>1</td>\n      <td>6194</td>\n      <td>Warner Bros.</td>\n    </tr>\n    <tr>\n      <td>8</td>\n      <td>49529</td>\n      <td>John Carter</td>\n      <td>0</td>\n      <td>2</td>\n      <td>Walt Disney Pictures</td>\n    </tr>\n    <tr>\n      <td>9</td>\n      <td>559</td>\n      <td>Spider-Man 3</td>\n      <td>0</td>\n      <td>5</td>\n      <td>Columbia Pictures</td>\n    </tr>\n    <tr>\n      <td>10</td>\n      <td>559</td>\n      <td>Spider-Man 3</td>\n      <td>1</td>\n      <td>326</td>\n      <td>Laura Ziskin Productions</td>\n    </tr>\n    <tr>\n      <td>11</td>\n      <td>38757</td>\n      <td>Tangled</td>\n      <td>0</td>\n      <td>2</td>\n      <td>Walt Disney Pictures</td>\n    </tr>\n    <tr>\n      <td>12</td>\n      <td>38757</td>\n      <td>Tangled</td>\n      <td>1</td>\n      <td>6125</td>\n      <td>Walt Disney Animation Studios</td>\n    </tr>\n    <tr>\n      <td>13</td>\n      <td>99861</td>\n      <td>Avengers: Age of Ultron</td>\n      <td>0</td>\n      <td>420</td>\n      <td>Marvel Studios</td>\n    </tr>\n    <tr>\n      <td>14</td>\n      <td>99861</td>\n      <td>Avengers: Age of Ultron</td>\n      <td>1</td>\n      <td>15357</td>\n      <td>Prime Focus</td>\n    </tr>\n  </tbody>\n</table>\n</div>"
     },
     "metadata": {},
     "output_type": "execute_result",
     "execution_count": 36
    }
   ],
   "source": [
    "pro_com_df = merge_id_name(tmdb_df_pro_com_stack, 'production_company')\n",
    "pro_com_df.head(15)"
   ]
  },
  {
   "cell_type": "code",
   "execution_count": 37,
   "metadata": {
    "pycharm": {
     "is_executing": false
    }
   },
   "outputs": [
    {
     "data": {
      "text/plain": "       id                                    name  movie_id  \\\n0     289                 Ingenious Film Partners     19995   \n1     306  Twentieth Century Fox Film Corporation     19995   \n2       2                    Walt Disney Pictures       285   \n3     130                 Jerry Bruckheimer Films       285   \n4       5                       Columbia Pictures    206647   \n5   10761                                  Danjaq    206647   \n6     923                      Legendary Pictures     49026   \n7    6194                            Warner Bros.     49026   \n8       2                    Walt Disney Pictures     49529   \n9       5                       Columbia Pictures       559   \n10    326                Laura Ziskin Productions       559   \n11      2                    Walt Disney Pictures     38757   \n12   6125           Walt Disney Animation Studios     38757   \n13    420                          Marvel Studios     99861   \n14  15357                             Prime Focus     99861   \n\n                                       title  production_company  \n0                                     Avatar                   0  \n1                                     Avatar                   1  \n2   Pirates of the Caribbean: At World's End                   0  \n3   Pirates of the Caribbean: At World's End                   1  \n4                                    Spectre                   0  \n5                                    Spectre                   1  \n6                      The Dark Knight Rises                   0  \n7                      The Dark Knight Rises                   1  \n8                                John Carter                   0  \n9                               Spider-Man 3                   0  \n10                              Spider-Man 3                   1  \n11                                   Tangled                   0  \n12                                   Tangled                   1  \n13                   Avengers: Age of Ultron                   0  \n14                   Avengers: Age of Ultron                   1  ",
      "text/html": "<div>\n<style scoped>\n    .dataframe tbody tr th:only-of-type {\n        vertical-align: middle;\n    }\n\n    .dataframe tbody tr th {\n        vertical-align: top;\n    }\n\n    .dataframe thead th {\n        text-align: right;\n    }\n</style>\n<table border=\"1\" class=\"dataframe\">\n  <thead>\n    <tr style=\"text-align: right;\">\n      <th></th>\n      <th>id</th>\n      <th>name</th>\n      <th>movie_id</th>\n      <th>title</th>\n      <th>production_company</th>\n    </tr>\n  </thead>\n  <tbody>\n    <tr>\n      <td>0</td>\n      <td>289</td>\n      <td>Ingenious Film Partners</td>\n      <td>19995</td>\n      <td>Avatar</td>\n      <td>0</td>\n    </tr>\n    <tr>\n      <td>1</td>\n      <td>306</td>\n      <td>Twentieth Century Fox Film Corporation</td>\n      <td>19995</td>\n      <td>Avatar</td>\n      <td>1</td>\n    </tr>\n    <tr>\n      <td>2</td>\n      <td>2</td>\n      <td>Walt Disney Pictures</td>\n      <td>285</td>\n      <td>Pirates of the Caribbean: At World's End</td>\n      <td>0</td>\n    </tr>\n    <tr>\n      <td>3</td>\n      <td>130</td>\n      <td>Jerry Bruckheimer Films</td>\n      <td>285</td>\n      <td>Pirates of the Caribbean: At World's End</td>\n      <td>1</td>\n    </tr>\n    <tr>\n      <td>4</td>\n      <td>5</td>\n      <td>Columbia Pictures</td>\n      <td>206647</td>\n      <td>Spectre</td>\n      <td>0</td>\n    </tr>\n    <tr>\n      <td>5</td>\n      <td>10761</td>\n      <td>Danjaq</td>\n      <td>206647</td>\n      <td>Spectre</td>\n      <td>1</td>\n    </tr>\n    <tr>\n      <td>6</td>\n      <td>923</td>\n      <td>Legendary Pictures</td>\n      <td>49026</td>\n      <td>The Dark Knight Rises</td>\n      <td>0</td>\n    </tr>\n    <tr>\n      <td>7</td>\n      <td>6194</td>\n      <td>Warner Bros.</td>\n      <td>49026</td>\n      <td>The Dark Knight Rises</td>\n      <td>1</td>\n    </tr>\n    <tr>\n      <td>8</td>\n      <td>2</td>\n      <td>Walt Disney Pictures</td>\n      <td>49529</td>\n      <td>John Carter</td>\n      <td>0</td>\n    </tr>\n    <tr>\n      <td>9</td>\n      <td>5</td>\n      <td>Columbia Pictures</td>\n      <td>559</td>\n      <td>Spider-Man 3</td>\n      <td>0</td>\n    </tr>\n    <tr>\n      <td>10</td>\n      <td>326</td>\n      <td>Laura Ziskin Productions</td>\n      <td>559</td>\n      <td>Spider-Man 3</td>\n      <td>1</td>\n    </tr>\n    <tr>\n      <td>11</td>\n      <td>2</td>\n      <td>Walt Disney Pictures</td>\n      <td>38757</td>\n      <td>Tangled</td>\n      <td>0</td>\n    </tr>\n    <tr>\n      <td>12</td>\n      <td>6125</td>\n      <td>Walt Disney Animation Studios</td>\n      <td>38757</td>\n      <td>Tangled</td>\n      <td>1</td>\n    </tr>\n    <tr>\n      <td>13</td>\n      <td>420</td>\n      <td>Marvel Studios</td>\n      <td>99861</td>\n      <td>Avengers: Age of Ultron</td>\n      <td>0</td>\n    </tr>\n    <tr>\n      <td>14</td>\n      <td>15357</td>\n      <td>Prime Focus</td>\n      <td>99861</td>\n      <td>Avengers: Age of Ultron</td>\n      <td>1</td>\n    </tr>\n  </tbody>\n</table>\n</div>"
     },
     "metadata": {},
     "output_type": "execute_result",
     "execution_count": 37
    }
   ],
   "source": [
    "pro_com_df = pro_com_df[['id', 'name', 'movie_id', 'title', 'production_company']]\n",
    "pro_com_df.head(15)"
   ]
  },
  {
   "cell_type": "code",
   "execution_count": 38,
   "metadata": {
    "pycharm": {
     "is_executing": false
    }
   },
   "outputs": [
    {
     "data": {
      "text/plain": "name\nEsparza / Katz Productions                2\nHSX Films                                 2\nBritish Broadcasting Corporation (BBC)    2\nIgnite Entertainment                      2\n3 Arts Entertainment                      2\nAnonymous Content                         2\nAutomatik Entertainment                   2\nFrance 2 Cinéma                           2\nFocus Features                            1\nFocus Films                               1\nName: id, dtype: int64"
     },
     "metadata": {},
     "output_type": "execute_result",
     "execution_count": 38
    }
   ],
   "source": [
    "pro_com_df.groupby('name')['id'].nunique().sort_values(ascending=False).head(10)"
   ]
  },
  {
   "cell_type": "code",
   "execution_count": 39,
   "metadata": {
    "pycharm": {
     "is_executing": false
    }
   },
   "outputs": [
    {
     "data": {
      "text/plain": "         id                        name  movie_id       title  \\\n3546  26560  Esparza / Katz Productions     10655  Gettysburg   \n3907   9313  Esparza / Katz Productions     16052      Selena   \n\n      production_company  \n3546                   1  \n3907                   1  ",
      "text/html": "<div>\n<style scoped>\n    .dataframe tbody tr th:only-of-type {\n        vertical-align: middle;\n    }\n\n    .dataframe tbody tr th {\n        vertical-align: top;\n    }\n\n    .dataframe thead th {\n        text-align: right;\n    }\n</style>\n<table border=\"1\" class=\"dataframe\">\n  <thead>\n    <tr style=\"text-align: right;\">\n      <th></th>\n      <th>id</th>\n      <th>name</th>\n      <th>movie_id</th>\n      <th>title</th>\n      <th>production_company</th>\n    </tr>\n  </thead>\n  <tbody>\n    <tr>\n      <td>3546</td>\n      <td>26560</td>\n      <td>Esparza / Katz Productions</td>\n      <td>10655</td>\n      <td>Gettysburg</td>\n      <td>1</td>\n    </tr>\n    <tr>\n      <td>3907</td>\n      <td>9313</td>\n      <td>Esparza / Katz Productions</td>\n      <td>16052</td>\n      <td>Selena</td>\n      <td>1</td>\n    </tr>\n  </tbody>\n</table>\n</div>"
     },
     "metadata": {},
     "output_type": "execute_result",
     "execution_count": 39
    }
   ],
   "source": [
    "pro_com_df[pro_com_df['name']=='Esparza / Katz Productions']"
   ]
  },
  {
   "cell_type": "code",
   "execution_count": 40,
   "metadata": {
    "pycharm": {
     "is_executing": false
    }
   },
   "outputs": [
    {
     "data": {
      "text/plain": "         id       name  movie_id                  title  production_company\n6404  15461  HSX Films     41730            Desert Blue                   1\n6979   4714  HSX Films     78373  Dancer, Texas Pop. 81                   0\n7077   4714  HSX Films     24746     Six-String Samurai                   0",
      "text/html": "<div>\n<style scoped>\n    .dataframe tbody tr th:only-of-type {\n        vertical-align: middle;\n    }\n\n    .dataframe tbody tr th {\n        vertical-align: top;\n    }\n\n    .dataframe thead th {\n        text-align: right;\n    }\n</style>\n<table border=\"1\" class=\"dataframe\">\n  <thead>\n    <tr style=\"text-align: right;\">\n      <th></th>\n      <th>id</th>\n      <th>name</th>\n      <th>movie_id</th>\n      <th>title</th>\n      <th>production_company</th>\n    </tr>\n  </thead>\n  <tbody>\n    <tr>\n      <td>6404</td>\n      <td>15461</td>\n      <td>HSX Films</td>\n      <td>41730</td>\n      <td>Desert Blue</td>\n      <td>1</td>\n    </tr>\n    <tr>\n      <td>6979</td>\n      <td>4714</td>\n      <td>HSX Films</td>\n      <td>78373</td>\n      <td>Dancer, Texas Pop. 81</td>\n      <td>0</td>\n    </tr>\n    <tr>\n      <td>7077</td>\n      <td>4714</td>\n      <td>HSX Films</td>\n      <td>24746</td>\n      <td>Six-String Samurai</td>\n      <td>0</td>\n    </tr>\n  </tbody>\n</table>\n</div>"
     },
     "metadata": {},
     "output_type": "execute_result",
     "execution_count": 40
    }
   ],
   "source": [
    "pro_com_df[pro_com_df['name']=='HSX Films']"
   ]
  },
  {
   "cell_type": "code",
   "execution_count": 41,
   "metadata": {
    "pycharm": {
     "is_executing": false
    }
   },
   "outputs": [
    {
     "data": {
      "text/plain": "         id                                    name  movie_id  \\\n5846   3324  British Broadcasting Corporation (BBC)    153397   \n6015  15278  British Broadcasting Corporation (BBC)     24985   \n6519   3324  British Broadcasting Corporation (BBC)     47452   \n6614   3324  British Broadcasting Corporation (BBC)    125123   \n\n                              title  production_company  \n5846                       Restless                   0  \n6015                The Heart of Me                   0  \n6519  Love and Death on Long Island                   1  \n6614                   Among Giants                   1  ",
      "text/html": "<div>\n<style scoped>\n    .dataframe tbody tr th:only-of-type {\n        vertical-align: middle;\n    }\n\n    .dataframe tbody tr th {\n        vertical-align: top;\n    }\n\n    .dataframe thead th {\n        text-align: right;\n    }\n</style>\n<table border=\"1\" class=\"dataframe\">\n  <thead>\n    <tr style=\"text-align: right;\">\n      <th></th>\n      <th>id</th>\n      <th>name</th>\n      <th>movie_id</th>\n      <th>title</th>\n      <th>production_company</th>\n    </tr>\n  </thead>\n  <tbody>\n    <tr>\n      <td>5846</td>\n      <td>3324</td>\n      <td>British Broadcasting Corporation (BBC)</td>\n      <td>153397</td>\n      <td>Restless</td>\n      <td>0</td>\n    </tr>\n    <tr>\n      <td>6015</td>\n      <td>15278</td>\n      <td>British Broadcasting Corporation (BBC)</td>\n      <td>24985</td>\n      <td>The Heart of Me</td>\n      <td>0</td>\n    </tr>\n    <tr>\n      <td>6519</td>\n      <td>3324</td>\n      <td>British Broadcasting Corporation (BBC)</td>\n      <td>47452</td>\n      <td>Love and Death on Long Island</td>\n      <td>1</td>\n    </tr>\n    <tr>\n      <td>6614</td>\n      <td>3324</td>\n      <td>British Broadcasting Corporation (BBC)</td>\n      <td>125123</td>\n      <td>Among Giants</td>\n      <td>1</td>\n    </tr>\n  </tbody>\n</table>\n</div>"
     },
     "metadata": {},
     "output_type": "execute_result",
     "execution_count": 41
    }
   ],
   "source": [
    "pro_com_df[pro_com_df['name']=='British Broadcasting Corporation (BBC)']"
   ]
  },
  {
   "cell_type": "code",
   "execution_count": 42,
   "metadata": {
    "pycharm": {
     "is_executing": false
    }
   },
   "outputs": [],
   "source": [
    "pro_com_df.to_csv('output/production_company.csv', index=False)"
   ]
  },
  {
   "cell_type": "markdown",
   "metadata": {},
   "source": [
    "### Uniqueness of Production Countries"
   ]
  },
  {
   "cell_type": "code",
   "execution_count": 43,
   "metadata": {
    "scrolled": false,
    "pycharm": {
     "is_executing": false
    }
   },
   "outputs": [
    {
     "data": {
      "text/plain": "          id                                     title  \\\n0      19995                                    Avatar   \n1        285  Pirates of the Caribbean: At World's End   \n2     206647                                   Spectre   \n3      49026                     The Dark Knight Rises   \n4      49529                               John Carter   \n...      ...                                       ...   \n4786    9367                               El Mariachi   \n4787   72766                                 Newlyweds   \n4788  231617                 Signed, Sealed, Delivered   \n4789  126186                          Shanghai Calling   \n4790   25975                         My Date with Drew   \n\n     production_country_code   production_country_name  \n0                         US  United States of America  \n1                         US  United States of America  \n2                         GB            United Kingdom  \n3                         US  United States of America  \n4                         US  United States of America  \n...                      ...                       ...  \n4786                      MX                    Mexico  \n4787                     NaN                       NaN  \n4788                      US  United States of America  \n4789                      US  United States of America  \n4790                      US  United States of America  \n\n[4791 rows x 4 columns]",
      "text/html": "<div>\n<style scoped>\n    .dataframe tbody tr th:only-of-type {\n        vertical-align: middle;\n    }\n\n    .dataframe tbody tr th {\n        vertical-align: top;\n    }\n\n    .dataframe thead th {\n        text-align: right;\n    }\n</style>\n<table border=\"1\" class=\"dataframe\">\n  <thead>\n    <tr style=\"text-align: right;\">\n      <th></th>\n      <th>id</th>\n      <th>title</th>\n      <th>production_country_code</th>\n      <th>production_country_name</th>\n    </tr>\n  </thead>\n  <tbody>\n    <tr>\n      <td>0</td>\n      <td>19995</td>\n      <td>Avatar</td>\n      <td>US</td>\n      <td>United States of America</td>\n    </tr>\n    <tr>\n      <td>1</td>\n      <td>285</td>\n      <td>Pirates of the Caribbean: At World's End</td>\n      <td>US</td>\n      <td>United States of America</td>\n    </tr>\n    <tr>\n      <td>2</td>\n      <td>206647</td>\n      <td>Spectre</td>\n      <td>GB</td>\n      <td>United Kingdom</td>\n    </tr>\n    <tr>\n      <td>3</td>\n      <td>49026</td>\n      <td>The Dark Knight Rises</td>\n      <td>US</td>\n      <td>United States of America</td>\n    </tr>\n    <tr>\n      <td>4</td>\n      <td>49529</td>\n      <td>John Carter</td>\n      <td>US</td>\n      <td>United States of America</td>\n    </tr>\n    <tr>\n      <td>...</td>\n      <td>...</td>\n      <td>...</td>\n      <td>...</td>\n      <td>...</td>\n    </tr>\n    <tr>\n      <td>4786</td>\n      <td>9367</td>\n      <td>El Mariachi</td>\n      <td>MX</td>\n      <td>Mexico</td>\n    </tr>\n    <tr>\n      <td>4787</td>\n      <td>72766</td>\n      <td>Newlyweds</td>\n      <td>NaN</td>\n      <td>NaN</td>\n    </tr>\n    <tr>\n      <td>4788</td>\n      <td>231617</td>\n      <td>Signed, Sealed, Delivered</td>\n      <td>US</td>\n      <td>United States of America</td>\n    </tr>\n    <tr>\n      <td>4789</td>\n      <td>126186</td>\n      <td>Shanghai Calling</td>\n      <td>US</td>\n      <td>United States of America</td>\n    </tr>\n    <tr>\n      <td>4790</td>\n      <td>25975</td>\n      <td>My Date with Drew</td>\n      <td>US</td>\n      <td>United States of America</td>\n    </tr>\n  </tbody>\n</table>\n<p>4791 rows × 4 columns</p>\n</div>"
     },
     "metadata": {},
     "output_type": "execute_result",
     "execution_count": 43
    }
   ],
   "source": [
    "pro_coun_columns = ['production_country_code', 'production_country_name']\n",
    "\n",
    "tmdb_df_pro_coun = tmdb_df[['id', 'title']+pro_coun_columns].copy()\n",
    "tmdb_df_pro_coun"
   ]
  },
  {
   "cell_type": "code",
   "execution_count": 44,
   "metadata": {
    "scrolled": true,
    "pycharm": {
     "is_executing": false
    }
   },
   "outputs": [
    {
     "data": {
      "text/plain": "production_country_name\nAfghanistan                 1\nJamaica                     1\nJapan                       1\nKenya                       1\nKyrgyz Republic             1\n                           ..\nFiji                        1\nEcuador                     1\nDominican Republic          1\nGreece                      1\nUnited States of America    1\nName: production_country_code, Length: 70, dtype: int64"
     },
     "metadata": {},
     "output_type": "execute_result",
     "execution_count": 44
    }
   ],
   "source": [
    "tmdb_df_pro_coun.groupby('production_country_name')['production_country_code'].nunique().sort_values()"
   ]
  },
  {
   "cell_type": "code",
   "execution_count": 45,
   "metadata": {
    "scrolled": false,
    "pycharm": {
     "is_executing": false
    }
   },
   "outputs": [
    {
     "data": {
      "text/plain": "   code                      name  movie_id  \\\n0    US  United States of America     19995   \n1    US  United States of America       285   \n2    GB            United Kingdom    206647   \n3    US  United States of America     49026   \n4    US  United States of America     49529   \n5    US  United States of America       559   \n6    US  United States of America     38757   \n7    US  United States of America     99861   \n8    GB            United Kingdom       767   \n9    US  United States of America    209112   \n10   US  United States of America      1452   \n11   GB            United Kingdom     10764   \n12   JM                   Jamaica        58   \n13   US  United States of America     57201   \n14   GB            United Kingdom     49521   \n\n                                         title  \n0                                       Avatar  \n1     Pirates of the Caribbean: At World's End  \n2                                      Spectre  \n3                        The Dark Knight Rises  \n4                                  John Carter  \n5                                 Spider-Man 3  \n6                                      Tangled  \n7                      Avengers: Age of Ultron  \n8       Harry Potter and the Half-Blood Prince  \n9           Batman v Superman: Dawn of Justice  \n10                            Superman Returns  \n11                           Quantum of Solace  \n12  Pirates of the Caribbean: Dead Man's Chest  \n13                             The Lone Ranger  \n14                                Man of Steel  ",
      "text/html": "<div>\n<style scoped>\n    .dataframe tbody tr th:only-of-type {\n        vertical-align: middle;\n    }\n\n    .dataframe tbody tr th {\n        vertical-align: top;\n    }\n\n    .dataframe thead th {\n        text-align: right;\n    }\n</style>\n<table border=\"1\" class=\"dataframe\">\n  <thead>\n    <tr style=\"text-align: right;\">\n      <th></th>\n      <th>code</th>\n      <th>name</th>\n      <th>movie_id</th>\n      <th>title</th>\n    </tr>\n  </thead>\n  <tbody>\n    <tr>\n      <td>0</td>\n      <td>US</td>\n      <td>United States of America</td>\n      <td>19995</td>\n      <td>Avatar</td>\n    </tr>\n    <tr>\n      <td>1</td>\n      <td>US</td>\n      <td>United States of America</td>\n      <td>285</td>\n      <td>Pirates of the Caribbean: At World's End</td>\n    </tr>\n    <tr>\n      <td>2</td>\n      <td>GB</td>\n      <td>United Kingdom</td>\n      <td>206647</td>\n      <td>Spectre</td>\n    </tr>\n    <tr>\n      <td>3</td>\n      <td>US</td>\n      <td>United States of America</td>\n      <td>49026</td>\n      <td>The Dark Knight Rises</td>\n    </tr>\n    <tr>\n      <td>4</td>\n      <td>US</td>\n      <td>United States of America</td>\n      <td>49529</td>\n      <td>John Carter</td>\n    </tr>\n    <tr>\n      <td>5</td>\n      <td>US</td>\n      <td>United States of America</td>\n      <td>559</td>\n      <td>Spider-Man 3</td>\n    </tr>\n    <tr>\n      <td>6</td>\n      <td>US</td>\n      <td>United States of America</td>\n      <td>38757</td>\n      <td>Tangled</td>\n    </tr>\n    <tr>\n      <td>7</td>\n      <td>US</td>\n      <td>United States of America</td>\n      <td>99861</td>\n      <td>Avengers: Age of Ultron</td>\n    </tr>\n    <tr>\n      <td>8</td>\n      <td>GB</td>\n      <td>United Kingdom</td>\n      <td>767</td>\n      <td>Harry Potter and the Half-Blood Prince</td>\n    </tr>\n    <tr>\n      <td>9</td>\n      <td>US</td>\n      <td>United States of America</td>\n      <td>209112</td>\n      <td>Batman v Superman: Dawn of Justice</td>\n    </tr>\n    <tr>\n      <td>10</td>\n      <td>US</td>\n      <td>United States of America</td>\n      <td>1452</td>\n      <td>Superman Returns</td>\n    </tr>\n    <tr>\n      <td>11</td>\n      <td>GB</td>\n      <td>United Kingdom</td>\n      <td>10764</td>\n      <td>Quantum of Solace</td>\n    </tr>\n    <tr>\n      <td>12</td>\n      <td>JM</td>\n      <td>Jamaica</td>\n      <td>58</td>\n      <td>Pirates of the Caribbean: Dead Man's Chest</td>\n    </tr>\n    <tr>\n      <td>13</td>\n      <td>US</td>\n      <td>United States of America</td>\n      <td>57201</td>\n      <td>The Lone Ranger</td>\n    </tr>\n    <tr>\n      <td>14</td>\n      <td>GB</td>\n      <td>United Kingdom</td>\n      <td>49521</td>\n      <td>Man of Steel</td>\n    </tr>\n  </tbody>\n</table>\n</div>"
     },
     "metadata": {},
     "output_type": "execute_result",
     "execution_count": 45
    }
   ],
   "source": [
    "pro_coun_df = tmdb_df_pro_coun[['production_country_code', 'production_country_name', 'id', 'title']]\n",
    "pro_coun_df = pro_coun_df.rename(columns={'production_country_code':'code', 'production_country_name':'name', 'id':'movie_id'})\n",
    "pro_coun_df.head(15)"
   ]
  },
  {
   "cell_type": "code",
   "execution_count": 46,
   "metadata": {
    "pycharm": {
     "is_executing": false
    }
   },
   "outputs": [],
   "source": [
    "pro_coun_df.to_csv('output/production_country.csv', index=False)"
   ]
  },
  {
   "cell_type": "code",
   "execution_count": 47,
   "metadata": {
    "pycharm": {
     "is_executing": false
    }
   },
   "outputs": [],
   "source": [
    "tmdb_df.drop(['production_country_name'], axis=1, inplace=True)"
   ]
  },
  {
   "cell_type": "markdown",
   "metadata": {},
   "source": [
    "### Uniqueness of Spoken Language"
   ]
  },
  {
   "cell_type": "code",
   "execution_count": 48,
   "metadata": {
    "scrolled": false,
    "pycharm": {
     "is_executing": false
    }
   },
   "outputs": [
    {
     "data": {
      "text/plain": "          id                                     title spoken_language_code  \\\n0      19995                                    Avatar                   en   \n1        285  Pirates of the Caribbean: At World's End                   en   \n2     206647                                   Spectre                   fr   \n3      49026                     The Dark Knight Rises                   en   \n4      49529                               John Carter                   en   \n...      ...                                       ...                  ...   \n4786    9367                               El Mariachi                   es   \n4787   72766                                 Newlyweds                  NaN   \n4788  231617                 Signed, Sealed, Delivered                   en   \n4789  126186                          Shanghai Calling                   en   \n4790   25975                         My Date with Drew                   en   \n\n     spoken_language_name  \n0                 English  \n1                 English  \n2                Français  \n3                 English  \n4                 English  \n...                   ...  \n4786              Español  \n4787                  NaN  \n4788              English  \n4789              English  \n4790              English  \n\n[4791 rows x 4 columns]",
      "text/html": "<div>\n<style scoped>\n    .dataframe tbody tr th:only-of-type {\n        vertical-align: middle;\n    }\n\n    .dataframe tbody tr th {\n        vertical-align: top;\n    }\n\n    .dataframe thead th {\n        text-align: right;\n    }\n</style>\n<table border=\"1\" class=\"dataframe\">\n  <thead>\n    <tr style=\"text-align: right;\">\n      <th></th>\n      <th>id</th>\n      <th>title</th>\n      <th>spoken_language_code</th>\n      <th>spoken_language_name</th>\n    </tr>\n  </thead>\n  <tbody>\n    <tr>\n      <td>0</td>\n      <td>19995</td>\n      <td>Avatar</td>\n      <td>en</td>\n      <td>English</td>\n    </tr>\n    <tr>\n      <td>1</td>\n      <td>285</td>\n      <td>Pirates of the Caribbean: At World's End</td>\n      <td>en</td>\n      <td>English</td>\n    </tr>\n    <tr>\n      <td>2</td>\n      <td>206647</td>\n      <td>Spectre</td>\n      <td>fr</td>\n      <td>Français</td>\n    </tr>\n    <tr>\n      <td>3</td>\n      <td>49026</td>\n      <td>The Dark Knight Rises</td>\n      <td>en</td>\n      <td>English</td>\n    </tr>\n    <tr>\n      <td>4</td>\n      <td>49529</td>\n      <td>John Carter</td>\n      <td>en</td>\n      <td>English</td>\n    </tr>\n    <tr>\n      <td>...</td>\n      <td>...</td>\n      <td>...</td>\n      <td>...</td>\n      <td>...</td>\n    </tr>\n    <tr>\n      <td>4786</td>\n      <td>9367</td>\n      <td>El Mariachi</td>\n      <td>es</td>\n      <td>Español</td>\n    </tr>\n    <tr>\n      <td>4787</td>\n      <td>72766</td>\n      <td>Newlyweds</td>\n      <td>NaN</td>\n      <td>NaN</td>\n    </tr>\n    <tr>\n      <td>4788</td>\n      <td>231617</td>\n      <td>Signed, Sealed, Delivered</td>\n      <td>en</td>\n      <td>English</td>\n    </tr>\n    <tr>\n      <td>4789</td>\n      <td>126186</td>\n      <td>Shanghai Calling</td>\n      <td>en</td>\n      <td>English</td>\n    </tr>\n    <tr>\n      <td>4790</td>\n      <td>25975</td>\n      <td>My Date with Drew</td>\n      <td>en</td>\n      <td>English</td>\n    </tr>\n  </tbody>\n</table>\n<p>4791 rows × 4 columns</p>\n</div>"
     },
     "metadata": {},
     "output_type": "execute_result",
     "execution_count": 48
    }
   ],
   "source": [
    "spoken_lang_columns = ['spoken_language_code', 'spoken_language_name']\n",
    "\n",
    "tmdb_df_spoken_lang = tmdb_df[['id', 'title']+spoken_lang_columns].copy()\n",
    "tmdb_df_spoken_lang"
   ]
  },
  {
   "cell_type": "code",
   "execution_count": 49,
   "metadata": {
    "scrolled": false,
    "pycharm": {
     "is_executing": false
    }
   },
   "outputs": [
    {
     "data": {
      "text/plain": "spoken_language_name\n??????              1\nSrpski              1\nTiếng Việt          1\nshqip               1\nsvenska             1\nÍslenska            1\nČeský               1\nελληνικά            1\nУкраїнський         1\nбългарски език      1\nעִבְרִית            1\nاردو                1\nالعربية             1\nفارسی               1\nहिन्दी              1\nবাংলা               1\nதமிழ்               1\nภาษาไทย             1\n广州话 / 廣州話           1\n日本語                 1\nRomână              1\nPусский             1\nPortuguês           1\nPolski              1\nAfrikaans           1\nBahasa indonesia    1\nBosanski            1\nDansk               1\nDeutsch             1\nEesti               1\nEnglish             1\nEspañol             1\nEsperanto           1\n普通话                 1\nFrançais            1\nGalego              1\nHrvatski            1\nItaliano            1\nKiswahili           1\nLatin               1\nMagyar              1\nNederlands          1\nNo Language         1\nNorsk               1\nGaeilge             1\n한국어/조선말             1\nName: spoken_language_code, dtype: int64"
     },
     "metadata": {},
     "output_type": "execute_result",
     "execution_count": 49
    }
   ],
   "source": [
    "tmdb_df_spoken_lang.groupby('spoken_language_name')['spoken_language_code'].nunique().sort_values()"
   ]
  },
  {
   "cell_type": "code",
   "execution_count": 50,
   "metadata": {
    "scrolled": false,
    "pycharm": {
     "is_executing": false
    }
   },
   "outputs": [
    {
     "data": {
      "text/plain": "   code      name  movie_id                                       title\n0    en   English     19995                                      Avatar\n1    en   English       285    Pirates of the Caribbean: At World's End\n2    fr  Français    206647                                     Spectre\n3    en   English     49026                       The Dark Knight Rises\n4    en   English     49529                                 John Carter\n5    en   English       559                                Spider-Man 3\n6    en   English     38757                                     Tangled\n7    en   English     99861                     Avengers: Age of Ultron\n8    en   English       767      Harry Potter and the Half-Blood Prince\n9    en   English    209112          Batman v Superman: Dawn of Justice\n10   en   English      1452                            Superman Returns\n11   en   English     10764                           Quantum of Solace\n12   en   English        58  Pirates of the Caribbean: Dead Man's Chest\n13   en   English     57201                             The Lone Ranger\n14   en   English     49521                                Man of Steel",
      "text/html": "<div>\n<style scoped>\n    .dataframe tbody tr th:only-of-type {\n        vertical-align: middle;\n    }\n\n    .dataframe tbody tr th {\n        vertical-align: top;\n    }\n\n    .dataframe thead th {\n        text-align: right;\n    }\n</style>\n<table border=\"1\" class=\"dataframe\">\n  <thead>\n    <tr style=\"text-align: right;\">\n      <th></th>\n      <th>code</th>\n      <th>name</th>\n      <th>movie_id</th>\n      <th>title</th>\n    </tr>\n  </thead>\n  <tbody>\n    <tr>\n      <td>0</td>\n      <td>en</td>\n      <td>English</td>\n      <td>19995</td>\n      <td>Avatar</td>\n    </tr>\n    <tr>\n      <td>1</td>\n      <td>en</td>\n      <td>English</td>\n      <td>285</td>\n      <td>Pirates of the Caribbean: At World's End</td>\n    </tr>\n    <tr>\n      <td>2</td>\n      <td>fr</td>\n      <td>Français</td>\n      <td>206647</td>\n      <td>Spectre</td>\n    </tr>\n    <tr>\n      <td>3</td>\n      <td>en</td>\n      <td>English</td>\n      <td>49026</td>\n      <td>The Dark Knight Rises</td>\n    </tr>\n    <tr>\n      <td>4</td>\n      <td>en</td>\n      <td>English</td>\n      <td>49529</td>\n      <td>John Carter</td>\n    </tr>\n    <tr>\n      <td>5</td>\n      <td>en</td>\n      <td>English</td>\n      <td>559</td>\n      <td>Spider-Man 3</td>\n    </tr>\n    <tr>\n      <td>6</td>\n      <td>en</td>\n      <td>English</td>\n      <td>38757</td>\n      <td>Tangled</td>\n    </tr>\n    <tr>\n      <td>7</td>\n      <td>en</td>\n      <td>English</td>\n      <td>99861</td>\n      <td>Avengers: Age of Ultron</td>\n    </tr>\n    <tr>\n      <td>8</td>\n      <td>en</td>\n      <td>English</td>\n      <td>767</td>\n      <td>Harry Potter and the Half-Blood Prince</td>\n    </tr>\n    <tr>\n      <td>9</td>\n      <td>en</td>\n      <td>English</td>\n      <td>209112</td>\n      <td>Batman v Superman: Dawn of Justice</td>\n    </tr>\n    <tr>\n      <td>10</td>\n      <td>en</td>\n      <td>English</td>\n      <td>1452</td>\n      <td>Superman Returns</td>\n    </tr>\n    <tr>\n      <td>11</td>\n      <td>en</td>\n      <td>English</td>\n      <td>10764</td>\n      <td>Quantum of Solace</td>\n    </tr>\n    <tr>\n      <td>12</td>\n      <td>en</td>\n      <td>English</td>\n      <td>58</td>\n      <td>Pirates of the Caribbean: Dead Man's Chest</td>\n    </tr>\n    <tr>\n      <td>13</td>\n      <td>en</td>\n      <td>English</td>\n      <td>57201</td>\n      <td>The Lone Ranger</td>\n    </tr>\n    <tr>\n      <td>14</td>\n      <td>en</td>\n      <td>English</td>\n      <td>49521</td>\n      <td>Man of Steel</td>\n    </tr>\n  </tbody>\n</table>\n</div>"
     },
     "metadata": {},
     "output_type": "execute_result",
     "execution_count": 50
    }
   ],
   "source": [
    "spoken_lang_df = tmdb_df_spoken_lang[['spoken_language_code', 'spoken_language_name', 'id', 'title']]\n",
    "spoken_lang_df = spoken_lang_df.rename(columns={'spoken_language_code':'code', 'spoken_language_name':'name', 'id':'movie_id'})\n",
    "spoken_lang_df.head(15)"
   ]
  },
  {
   "cell_type": "code",
   "execution_count": 51,
   "metadata": {
    "pycharm": {
     "is_executing": false
    }
   },
   "outputs": [],
   "source": [
    "spoken_lang_df.to_csv('output/spoken_language.csv', index=False)"
   ]
  },
  {
   "cell_type": "code",
   "execution_count": 52,
   "metadata": {
    "pycharm": {
     "is_executing": false
    }
   },
   "outputs": [],
   "source": [
    "tmdb_df.drop(['spoken_language_name'], axis=1, inplace=True)"
   ]
  },
  {
   "cell_type": "markdown",
   "metadata": {},
   "source": [
    "### Necessity of Gender"
   ]
  },
  {
   "cell_type": "code",
   "execution_count": 53,
   "metadata": {
    "pycharm": {
     "is_executing": false
    }
   },
   "outputs": [
    {
     "data": {
      "text/plain": "2.0    8510\n1.0    4596\n0.0    1122\nName: gender, dtype: int64"
     },
     "metadata": {},
     "output_type": "execute_result",
     "execution_count": 53
    }
   ],
   "source": [
    "cast_df['gender'].value_counts()"
   ]
  },
  {
   "cell_type": "code",
   "execution_count": 54,
   "metadata": {
    "pycharm": {
     "is_executing": false
    }
   },
   "outputs": [
    {
     "data": {
      "text/plain": "1508"
     },
     "metadata": {},
     "output_type": "execute_result",
     "execution_count": 54
    }
   ],
   "source": [
    "np.sum(tmdb_df['cast_gender_na']>0.5*(tmdb_df['cast_gender_f']+tmdb_df['cast_gender_m']))"
   ]
  },
  {
   "cell_type": "code",
   "execution_count": 55,
   "metadata": {
    "pycharm": {
     "is_executing": false
    }
   },
   "outputs": [],
   "source": [
    "tmdb_df.drop(['cast_gender_na', 'cast_gender_f', 'cast_gender_m'], axis=1, inplace=True)"
   ]
  },
  {
   "cell_type": "markdown",
   "metadata": {},
   "source": [
    "### Necessity of Cast ID"
   ]
  },
  {
   "cell_type": "code",
   "execution_count": 56,
   "metadata": {
    "scrolled": false,
    "pycharm": {
     "is_executing": false
    }
   },
   "outputs": [
    {
     "data": {
      "text/plain": "id                                                                       14275\ntitle                                                              Hoop Dreams\noriginal_language                                                           en\noverview                     This documentary follows two inner-city Chicag...\npopularity                                                             9.18843\nrelease_date                                                        1994-09-12\nruntime                                                                    171\nvote_average                                                               7.7\nvote_count                                                                  87\ncast_num                                                                     3\ncast_0_id                                                               134119\ncast_0_name                                                      William Gates\ncast_0_gender                                                                2\ncast_1_id                                                               134120\ncast_1_name                                                        Arthur Agee\ncast_1_gender                                                                2\ncast_2_id                                                               122449\ncast_2_name                                                        Steve James\ncast_2_gender                                                                2\ncrew_num                                                                     3\ndirector_name                                                      Steve James\ngenre_0_name                                                       Documentary\ngenre_1_name                                                               NaN\ngenre_2_name                                                               NaN\nkeyword_0_name                                                         chicago\nkeyword_1_name                                                     sports team\nkeyword_2_name                                                          ghetto\nkeyword_3_name                                                       narration\nkeyword_4_name                                                         college\nproduction_companies_num                                                     2\nproduction_company_0_id                                                      8\nproduction_company_0_name                                   Fine Line Features\nproduction_company_1_id                                                  13042\nproduction_company_1_name                                     Kartemquin Films\nproduction_countries_num                                                     1\nproduction_country_code                                                     US\nspoken_languages_num                                                         1\nspoken_language_code                                                        en\nName: 4472, dtype: object"
     },
     "metadata": {},
     "output_type": "execute_result",
     "execution_count": 56
    }
   ],
   "source": [
    "tmdb_df[tmdb_df['id']==14275].iloc[0]"
   ]
  },
  {
   "cell_type": "code",
   "execution_count": 57,
   "metadata": {
    "pycharm": {
     "is_executing": false
    }
   },
   "outputs": [
    {
     "data": {
      "text/plain": "id                                                                       25678\ntitle                                      American Ninja 2: The Confrontation\noriginal_language                                                           en\noverview                     On a remote Caribbean island, Army Ranger Joe ...\npopularity                                                             5.06111\nrelease_date                                                        1987-05-01\nruntime                                                                     90\nvote_average                                                               4.9\nvote_count                                                                  49\ncast_num                                                                    15\ncast_0_id                                                                21259\ncast_0_name                                                   Michael Dudikoff\ncast_0_gender                                                                2\ncast_1_id                                                                55271\ncast_1_name                                                        Steve James\ncast_1_gender                                                                2\ncast_2_id                                                                25944\ncast_2_name                                                   Larry Poindexter\ncast_2_gender                                                                2\ncrew_num                                                                    17\ndirector_name                                                  Sam Firstenberg\ngenre_0_name                                                            Action\ngenre_1_name                                                         Adventure\ngenre_2_name                                                             Drama\nkeyword_0_name                                                    marine corps\nkeyword_1_name                                                            army\nkeyword_2_name                                                           ninja\nkeyword_3_name                                                             NaN\nkeyword_4_name                                                             NaN\nproduction_companies_num                                                     2\nproduction_company_0_id                                                   1444\nproduction_company_0_name                                         Cannon Group\nproduction_company_1_id                                                   1445\nproduction_company_1_name                                         Golan-Globus\nproduction_countries_num                                                     1\nproduction_country_code                                                     US\nspoken_languages_num                                                         1\nspoken_language_code                                                        en\nName: 4589, dtype: object"
     },
     "metadata": {},
     "output_type": "execute_result",
     "execution_count": 57
    }
   ],
   "source": [
    "tmdb_df[tmdb_df['id']==25678].iloc[0]"
   ]
  },
  {
   "cell_type": "code",
   "execution_count": 58,
   "metadata": {
    "pycharm": {
     "is_executing": false
    }
   },
   "outputs": [],
   "source": [
    "tmdb_df = tmdb_df.drop([4589])\n",
    "tmdb_df.drop(['cast_0_id','cast_1_id','cast_2_id'], axis=1, inplace=True)"
   ]
  },
  {
   "cell_type": "code",
   "execution_count": 59,
   "metadata": {
    "scrolled": true,
    "pycharm": {
     "is_executing": false
    }
   },
   "outputs": [
    {
     "data": {
      "text/plain": "(4790, 35)"
     },
     "metadata": {},
     "output_type": "execute_result",
     "execution_count": 59
    }
   ],
   "source": [
    "tmdb_df.shape"
   ]
  },
  {
   "cell_type": "markdown",
   "metadata": {},
   "source": [
    "### Necessity of Other Features"
   ]
  },
  {
   "cell_type": "code",
   "execution_count": 60,
   "metadata": {
    "pycharm": {
     "is_executing": false
    }
   },
   "outputs": [],
   "source": [
    "tmdb_df.drop(['production_companies_num', 'production_company_0_id', 'production_company_1_id',\n",
    "              'production_countries_num','spoken_languages_num', 'spoken_language_code'], axis=1, inplace=True)"
   ]
  },
  {
   "cell_type": "code",
   "execution_count": 61,
   "metadata": {
    "pycharm": {
     "is_executing": false
    }
   },
   "outputs": [
    {
     "data": {
      "text/plain": "(4790, 29)"
     },
     "metadata": {},
     "output_type": "execute_result",
     "execution_count": 61
    }
   ],
   "source": [
    "tmdb_df.shape"
   ]
  },
  {
   "cell_type": "markdown",
   "metadata": {},
   "source": [
    "### Final Pitch"
   ]
  },
  {
   "cell_type": "code",
   "execution_count": 62,
   "metadata": {
    "pycharm": {
     "is_executing": false
    }
   },
   "outputs": [
    {
     "data": {
      "text/plain": "Index(['id', 'title', 'original_language', 'overview', 'popularity',\n       'release_date', 'runtime', 'vote_average', 'vote_count', 'cast_num',\n       'cast_0_name', 'cast_0_gender', 'cast_1_name', 'cast_1_gender',\n       'cast_2_name', 'cast_2_gender', 'crew_num', 'director_name',\n       'genre_0_name', 'genre_1_name', 'genre_2_name', 'keyword_0_name',\n       'keyword_1_name', 'keyword_2_name', 'keyword_3_name', 'keyword_4_name',\n       'production_company_0_name', 'production_company_1_name',\n       'production_country_code'],\n      dtype='object')"
     },
     "metadata": {},
     "output_type": "execute_result",
     "execution_count": 62
    }
   ],
   "source": [
    "tmdb_df.columns"
   ]
  },
  {
   "cell_type": "code",
   "execution_count": 63,
   "metadata": {
    "pycharm": {
     "is_executing": false
    }
   },
   "outputs": [],
   "source": [
    "tmdb_df = tmdb_df.rename(columns={'original_language':'language',\n",
    "                                  'cast_0_name':'cast_0', 'cast_1_name':'cast_1', 'cast_2_name':'cast_2',\n",
    "                                  'director_name':'director',\n",
    "                                  'genre_0_name':'genre_0', 'genre_1_name':'genre_1', 'genre_2_name':'genre_2',\n",
    "                                  'keyword_0_name':'keyword_0','keyword_1_name':'keyword_1',\n",
    "                                  'keyword_2_name':'keyword_2','keyword_3_name':'keyword_3',\n",
    "                                  'keyword_4_name':'keyword_4',\n",
    "                                  'production_company_0_name':'company_0', 'production_company_1_name':'company_1',\n",
    "                                  'production_country_code':'country'})"
   ]
  },
  {
   "cell_type": "code",
   "execution_count": 64,
   "metadata": {
    "pycharm": {
     "is_executing": false
    }
   },
   "outputs": [
    {
     "data": {
      "text/plain": "Index(['id', 'title', 'language', 'overview', 'popularity', 'release_date',\n       'runtime', 'vote_average', 'vote_count', 'cast_num', 'cast_0',\n       'cast_0_gender', 'cast_1', 'cast_1_gender', 'cast_2', 'cast_2_gender',\n       'crew_num', 'director', 'genre_0', 'genre_1', 'genre_2', 'keyword_0',\n       'keyword_1', 'keyword_2', 'keyword_3', 'keyword_4', 'company_0',\n       'company_1', 'country'],\n      dtype='object')"
     },
     "metadata": {},
     "output_type": "execute_result",
     "execution_count": 64
    }
   ],
   "source": [
    "tmdb_df.columns"
   ]
  },
  {
   "cell_type": "code",
   "execution_count": 65,
   "metadata": {
    "pycharm": {
     "is_executing": false
    }
   },
   "outputs": [],
   "source": [
    "tmdb_df.to_csv('data/tmdb_5000_features.csv', index=False)"
   ]
  }
 ],
 "metadata": {
  "kernelspec": {
   "display_name": "Python 3",
   "language": "python",
   "name": "python3"
  },
  "language_info": {
   "codemirror_mode": {
    "name": "ipython",
    "version": 3
   },
   "file_extension": ".py",
   "mimetype": "text/x-python",
   "name": "python",
   "nbconvert_exporter": "python",
   "pygments_lexer": "ipython3",
   "version": "3.7.2"
  },
  "pycharm": {
   "stem_cell": {
    "cell_type": "raw",
    "source": [],
    "metadata": {
     "collapsed": false
    }
   }
  }
 },
 "nbformat": 4,
 "nbformat_minor": 2
}