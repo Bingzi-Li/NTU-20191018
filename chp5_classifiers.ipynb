{
 "cells": [
  {
   "cell_type": "raw",
   "metadata": {},
   "source": [
    "# Class sklarn.neural_network.MLPClassifier\n",
    "\n",
    "parameters:\n",
    "    \n",
    "    hidden_layer_sizes : tuple, length = n_layers - 2, default (100, the no. of our features input)\n",
    "\n",
    "    activation : ‘relu’\n",
    "    ‘relu’, the rectified linear unit function, returns f(x) = max(0, x)\n",
    "    \n",
    "    solver : ‘adam’\n",
    "\n",
    "    alpha : float, optional, default 0.0001\n",
    "    L2 penalty (regularization term) parameter.\n",
    "\n",
    "    batch_size : int, optional, default ‘auto’\n",
    "    When set to “auto”, batch_size=min(200, n_samples)\n",
    "\n",
    "    learning_rate : default ‘constant’\n",
    "\n",
    "    learning_rate_init : double, optional, default 0.001\n",
    "\n",
    "    power_t : double, optional, default 0.5\n",
    "\n",
    "    max_iter : int, optional, default 200\n",
    "        \n",
    "    shuffle : bool, optional, default True\n",
    "\n",
    "    random_state : int, RandomState instance or None, optional, default None\n",
    "\n",
    "    tol : float, optional, default 1e-4\n",
    "\n",
    "    verbose : bool, optional, default False\n",
    "        \n",
    "    warm_start : bool, optional, default False\n",
    "\n",
    "    momentum : float, default 0.9\n",
    "\n",
    "    nesterovs_momentum : boolean, default True\n",
    "\n",
    "    early_stopping : bool, default False -> True\n",
    "    validation_fraction : float, optional, default 0.1\n",
    "\n",
    "    beta_1 : float, optional, default 0.9\n",
    "    Exponential decay rate for estimates of first moment vector in adam, should be in [0, 1). Only used when solver=’adam’\n",
    "    beta_2 : float, optional, default 0.999\n",
    "\n",
    "    epsilon : float, optional, default 1e-8\n",
    "\n",
    "    n_iter_no_change : int, optional, default 10 -> depends\n",
    "\n",
    "\n",
    "\n",
    "Attributes:\t\n",
    "                                                                                       \n",
    "    classes_ : array or list of array of shape (n_classes,)\n",
    "    Class labels for each output.\n",
    "\n",
    "    loss_ : float\n",
    "    The current loss computed with the loss function.\n",
    "\n",
    "    coefs_ : list, length n_layers - 1\n",
    "    The ith element in the list represents the weight matrix corresponding to layer i.\n",
    "\n",
    "    intercepts_ : list, length n_layers - 1\n",
    "    The ith element in the list represents the bias vector corresponding to layer i + 1.\n",
    "\n",
    "    n_iter_ : int,\n",
    "    The number of iterations the solver has ran.\n",
    "\n",
    "    n_layers_ : int\n",
    "    Number of layers.\n",
    "\n",
    "    n_outputs_ : int\n",
    "    Number of outputs.\n",
    "\n",
    "    out_activation_ : string\n",
    "    Name of the output activation function."
   ]
  },
  {
   "cell_type": "code",
   "execution_count": 1,
   "metadata": {},
   "outputs": [],
   "source": [
    "from sklearn.neural_network import MLPClassifier"
   ]
  },
  {
   "cell_type": "code",
   "execution_count": 2,
   "metadata": {},
   "outputs": [],
   "source": [
    "# Array of movies consists of features selected as input\n",
    "X = [[0., 0.], [1., 1.]]"
   ]
  },
  {
   "cell_type": "code",
   "execution_count": 3,
   "metadata": {},
   "outputs": [],
   "source": [
    "# Popularity label of sample data 0-unpopular 1-popular\n",
    "y = [0, 1]"
   ]
  },
  {
   "cell_type": "code",
   "execution_count": 6,
   "metadata": {},
   "outputs": [],
   "source": [
    "clf = MLPClassifier(hidden_layer_sizes=(5, 2), solver='adam', max_iter=2000)"
   ]
  },
  {
   "cell_type": "code",
   "execution_count": 7,
   "metadata": {},
   "outputs": [
    {
     "data": {
      "text/plain": [
       "MLPClassifier(activation='relu', alpha=0.0001, batch_size='auto', beta_1=0.9,\n",
       "       beta_2=0.999, early_stopping=False, epsilon=1e-08,\n",
       "       hidden_layer_sizes=(5, 2), learning_rate='constant',\n",
       "       learning_rate_init=0.001, max_iter=2000, momentum=0.9,\n",
       "       n_iter_no_change=10, nesterovs_momentum=True, power_t=0.5,\n",
       "       random_state=None, shuffle=True, solver='adam', tol=0.0001,\n",
       "       validation_fraction=0.1, verbose=False, warm_start=False)"
      ]
     },
     "execution_count": 7,
     "metadata": {},
     "output_type": "execute_result"
    }
   ],
   "source": [
    "clf.fit(X, y)"
   ]
  },
  {
   "cell_type": "code",
   "execution_count": 8,
   "metadata": {},
   "outputs": [
    {
     "data": {
      "text/plain": [
       "array([0, 0])"
      ]
     },
     "execution_count": 8,
     "metadata": {},
     "output_type": "execute_result"
    }
   ],
   "source": [
    "clf.predict([[0.1, 0.2], [1, 2]])"
   ]
  },
  {
   "cell_type": "code",
   "execution_count": null,
   "metadata": {},
   "outputs": [],
   "source": []
  }
 ],
 "metadata": {
  "kernelspec": {
   "display_name": "Python 3",
   "language": "python",
   "name": "python3"
  },
  "language_info": {
   "codemirror_mode": {
    "name": "ipython",
    "version": 3
   },
   "file_extension": ".py",
   "mimetype": "text/x-python",
   "name": "python",
   "nbconvert_exporter": "python",
   "pygments_lexer": "ipython3",
   "version": "3.7.3"
  }
 },
 "nbformat": 4,
 "nbformat_minor": 2
}
