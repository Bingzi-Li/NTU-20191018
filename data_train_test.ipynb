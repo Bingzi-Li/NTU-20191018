{
 "cells": [
  {
   "cell_type": "markdown",
   "metadata": {},
   "source": [
    "# Training and Testing Data "
   ]
  },
  {
   "cell_type": "markdown",
   "metadata": {},
   "source": [
    "Here to do preprocessing of data and split raw data into two sets, training set & testing set (Holdout 1/3)"
   ]
  },
  {
   "cell_type": "code",
   "execution_count": 29,
   "metadata": {},
   "outputs": [],
   "source": [
    "import numpy as np\n",
    "import pandas as pd\n",
    "import matplotlib.pyplot as plt"
   ]
  },
  {
   "cell_type": "code",
   "execution_count": 30,
   "metadata": {},
   "outputs": [],
   "source": [
    "# Read in csv file of raw traffic record\n",
    "rec_df_raw = pd.read_csv(\"./data/tmdb_5000_features.csv\")\n",
    "buk_df_raw = pd.read_csv(\"./output/classification/cast_bucket.csv\")"
   ]
  },
  {
   "cell_type": "code",
   "execution_count": 31,
   "metadata": {},
   "outputs": [
    {
     "data": {
      "text/html": [
       "<div>\n",
       "<style scoped>\n",
       "    .dataframe tbody tr th:only-of-type {\n",
       "        vertical-align: middle;\n",
       "    }\n",
       "\n",
       "    .dataframe tbody tr th {\n",
       "        vertical-align: top;\n",
       "    }\n",
       "\n",
       "    .dataframe thead th {\n",
       "        text-align: right;\n",
       "    }\n",
       "</style>\n",
       "<table border=\"1\" class=\"dataframe\">\n",
       "  <thead>\n",
       "    <tr style=\"text-align: right;\">\n",
       "      <th></th>\n",
       "      <th>cast_bucket</th>\n",
       "    </tr>\n",
       "  </thead>\n",
       "  <tbody>\n",
       "    <tr>\n",
       "      <th>0</th>\n",
       "      <td>3</td>\n",
       "    </tr>\n",
       "    <tr>\n",
       "      <th>1</th>\n",
       "      <td>1</td>\n",
       "    </tr>\n",
       "    <tr>\n",
       "      <th>2</th>\n",
       "      <td>3</td>\n",
       "    </tr>\n",
       "    <tr>\n",
       "      <th>3</th>\n",
       "      <td>3</td>\n",
       "    </tr>\n",
       "    <tr>\n",
       "      <th>4</th>\n",
       "      <td>1</td>\n",
       "    </tr>\n",
       "  </tbody>\n",
       "</table>\n",
       "</div>"
      ],
      "text/plain": [
       "   cast_bucket\n",
       "0            3\n",
       "1            1\n",
       "2            3\n",
       "3            3\n",
       "4            1"
      ]
     },
     "execution_count": 31,
     "metadata": {},
     "output_type": "execute_result"
    }
   ],
   "source": [
    "buk_df = buk_df_raw[['cast_bucket']]\n",
    "buk_df.head()"
   ]
  },
  {
   "cell_type": "code",
   "execution_count": 32,
   "metadata": {},
   "outputs": [
    {
     "data": {
      "text/html": [
       "<div>\n",
       "<style scoped>\n",
       "    .dataframe tbody tr th:only-of-type {\n",
       "        vertical-align: middle;\n",
       "    }\n",
       "\n",
       "    .dataframe tbody tr th {\n",
       "        vertical-align: top;\n",
       "    }\n",
       "\n",
       "    .dataframe thead th {\n",
       "        text-align: right;\n",
       "    }\n",
       "</style>\n",
       "<table border=\"1\" class=\"dataframe\">\n",
       "  <thead>\n",
       "    <tr style=\"text-align: right;\">\n",
       "      <th></th>\n",
       "      <th>language</th>\n",
       "      <th>cast_num</th>\n",
       "      <th>new_cast_num</th>\n",
       "      <th>cast_0</th>\n",
       "      <th>crew_num</th>\n",
       "      <th>director</th>\n",
       "      <th>genre_0</th>\n",
       "      <th>company_0</th>\n",
       "      <th>country</th>\n",
       "      <th>popularity</th>\n",
       "    </tr>\n",
       "  </thead>\n",
       "  <tbody>\n",
       "    <tr>\n",
       "      <th>0</th>\n",
       "      <td>en</td>\n",
       "      <td>83</td>\n",
       "      <td>3</td>\n",
       "      <td>Sam Worthington</td>\n",
       "      <td>153</td>\n",
       "      <td>James Cameron</td>\n",
       "      <td>Action</td>\n",
       "      <td>Ingenious Film Partners</td>\n",
       "      <td>US</td>\n",
       "      <td>150.437577</td>\n",
       "    </tr>\n",
       "    <tr>\n",
       "      <th>1</th>\n",
       "      <td>en</td>\n",
       "      <td>34</td>\n",
       "      <td>1</td>\n",
       "      <td>Johnny Depp</td>\n",
       "      <td>32</td>\n",
       "      <td>Gore Verbinski</td>\n",
       "      <td>Adventure</td>\n",
       "      <td>Walt Disney Pictures</td>\n",
       "      <td>US</td>\n",
       "      <td>139.082615</td>\n",
       "    </tr>\n",
       "    <tr>\n",
       "      <th>2</th>\n",
       "      <td>en</td>\n",
       "      <td>83</td>\n",
       "      <td>3</td>\n",
       "      <td>Daniel Craig</td>\n",
       "      <td>155</td>\n",
       "      <td>Sam Mendes</td>\n",
       "      <td>Action</td>\n",
       "      <td>Columbia Pictures</td>\n",
       "      <td>GB</td>\n",
       "      <td>107.376788</td>\n",
       "    </tr>\n",
       "    <tr>\n",
       "      <th>3</th>\n",
       "      <td>en</td>\n",
       "      <td>158</td>\n",
       "      <td>3</td>\n",
       "      <td>Christian Bale</td>\n",
       "      <td>217</td>\n",
       "      <td>Christopher Nolan</td>\n",
       "      <td>Action</td>\n",
       "      <td>Legendary Pictures</td>\n",
       "      <td>US</td>\n",
       "      <td>112.312950</td>\n",
       "    </tr>\n",
       "    <tr>\n",
       "      <th>4</th>\n",
       "      <td>en</td>\n",
       "      <td>27</td>\n",
       "      <td>1</td>\n",
       "      <td>Taylor Kitsch</td>\n",
       "      <td>132</td>\n",
       "      <td>Andrew Stanton</td>\n",
       "      <td>Action</td>\n",
       "      <td>Walt Disney Pictures</td>\n",
       "      <td>US</td>\n",
       "      <td>43.926995</td>\n",
       "    </tr>\n",
       "  </tbody>\n",
       "</table>\n",
       "</div>"
      ],
      "text/plain": [
       "  language  cast_num  new_cast_num           cast_0  crew_num  \\\n",
       "0       en        83             3  Sam Worthington       153   \n",
       "1       en        34             1      Johnny Depp        32   \n",
       "2       en        83             3     Daniel Craig       155   \n",
       "3       en       158             3   Christian Bale       217   \n",
       "4       en        27             1    Taylor Kitsch       132   \n",
       "\n",
       "            director    genre_0                company_0 country  popularity  \n",
       "0      James Cameron     Action  Ingenious Film Partners      US  150.437577  \n",
       "1     Gore Verbinski  Adventure     Walt Disney Pictures      US  139.082615  \n",
       "2         Sam Mendes     Action        Columbia Pictures      GB  107.376788  \n",
       "3  Christopher Nolan     Action       Legendary Pictures      US  112.312950  \n",
       "4     Andrew Stanton     Action     Walt Disney Pictures      US   43.926995  "
      ]
     },
     "execution_count": 32,
     "metadata": {},
     "output_type": "execute_result"
    }
   ],
   "source": [
    "# Delete unwanted features, features: language cast_num cast_0 crew_num director genre_0 campany_0 country\n",
    "rec_df =  rec_df_raw[['language', 'cast_num', 'cast_0', 'crew_num', 'director', 'genre_0', 'company_0', 'country','popularity']]\n",
    "rec_df.insert(2, 'new_cast_num', buk_df['cast_bucket'])\n",
    "rec_df.head()"
   ]
  },
  {
   "cell_type": "markdown",
   "metadata": {},
   "source": [
    "# Data Visualization"
   ]
  },
  {
   "cell_type": "markdown",
   "metadata": {},
   "source": [
    "# Visualization for attribute/label class popularity"
   ]
  },
  {
   "cell_type": "code",
   "execution_count": 34,
   "metadata": {},
   "outputs": [
    {
     "data": {
      "text/html": [
       "<div>\n",
       "<style scoped>\n",
       "    .dataframe tbody tr th:only-of-type {\n",
       "        vertical-align: middle;\n",
       "    }\n",
       "\n",
       "    .dataframe tbody tr th {\n",
       "        vertical-align: top;\n",
       "    }\n",
       "\n",
       "    .dataframe thead th {\n",
       "        text-align: right;\n",
       "    }\n",
       "</style>\n",
       "<table border=\"1\" class=\"dataframe\">\n",
       "  <thead>\n",
       "    <tr style=\"text-align: right;\">\n",
       "      <th></th>\n",
       "      <th>popularity</th>\n",
       "    </tr>\n",
       "  </thead>\n",
       "  <tbody>\n",
       "    <tr>\n",
       "      <th>0</th>\n",
       "      <td>150.437577</td>\n",
       "    </tr>\n",
       "    <tr>\n",
       "      <th>1</th>\n",
       "      <td>139.082615</td>\n",
       "    </tr>\n",
       "    <tr>\n",
       "      <th>2</th>\n",
       "      <td>107.376788</td>\n",
       "    </tr>\n",
       "    <tr>\n",
       "      <th>3</th>\n",
       "      <td>112.312950</td>\n",
       "    </tr>\n",
       "    <tr>\n",
       "      <th>4</th>\n",
       "      <td>43.926995</td>\n",
       "    </tr>\n",
       "  </tbody>\n",
       "</table>\n",
       "</div>"
      ],
      "text/plain": [
       "   popularity\n",
       "0  150.437577\n",
       "1  139.082615\n",
       "2  107.376788\n",
       "3  112.312950\n",
       "4   43.926995"
      ]
     },
     "execution_count": 34,
     "metadata": {},
     "output_type": "execute_result"
    }
   ],
   "source": [
    "popl_df = rec_df[['popularity']]\n",
    "popl_ary = np.array(popl_df)\n",
    "popl_df.head()"
   ]
  },
  {
   "cell_type": "markdown",
   "metadata": {},
   "source": [
    "Box Plot"
   ]
  },
  {
   "cell_type": "markdown",
   "metadata": {},
   "source": [
    "To evaluate the distribution of data, and decide how to transfer contineous attributes into categorical"
   ]
  },
  {
   "cell_type": "code",
   "execution_count": 35,
   "metadata": {},
   "outputs": [
    {
     "data": {
      "image/png": "[encoded data removed]",
      "text/plain": [
       "<Figure size 432x288 with 1 Axes>"
      ]
     },
     "metadata": {
      "needs_background": "light"
     },
     "output_type": "display_data"
    }
   ],
   "source": [
    "boxplot = popl_df.boxplot(column=['popularity'])"
   ]
  },
  {
   "cell_type": "code",
   "execution_count": 36,
   "metadata": {},
   "outputs": [
    {
     "data": {
      "text/plain": [
       "0.00037200000000000004"
      ]
     },
     "execution_count": 36,
     "metadata": {},
     "output_type": "execute_result"
    }
   ],
   "source": [
    "# Find the minimum rate of popularity\n",
    "popl_ary.min()"
   ]
  },
  {
   "cell_type": "markdown",
   "metadata": {},
   "source": [
    "Assume that the rate of popularity in reviewers' perspective has a half-half percentage. The probability of a movie being regarded as popular equals that being regarded as unpopular. Thus, the median of popularity attribute is chosen to be the line which calssifies movies' popularity below median as unpopular, those above median as popular."
   ]
  },
  {
   "cell_type": "code",
   "execution_count": 37,
   "metadata": {},
   "outputs": [
    {
     "data": {
      "text/plain": [
       "12.976720499999999"
      ]
     },
     "execution_count": 37,
     "metadata": {},
     "output_type": "execute_result"
    }
   ],
   "source": [
    "# 50 percentile from 0 to 13 -> 0:unpopular above 13 -> 1:popular\n",
    "np.median(popl_ary)"
   ]
  },
  {
   "cell_type": "code",
   "execution_count": null,
   "metadata": {},
   "outputs": [],
   "source": [
    "# 75 percentile from 17 to 32 -> 2\n",
    "np.percentile(crew_ary, 75)"
   ]
  },
  {
   "cell_type": "code",
   "execution_count": 38,
   "metadata": {},
   "outputs": [],
   "source": [
    "for index, row in popl_df.iterrows():\n",
    "    popl = row[\"popularity\"]\n",
    "    if 0<=popl and popl<=13:\n",
    "        row['popularity'] = 0\n",
    "    else:\n",
    "        row['popularity'] = 1\n",
    "\n",
    "rec_df.insert(10, 'new_popl', popl_df['popularity'])"
   ]
  },
  {
   "cell_type": "code",
   "execution_count": 39,
   "metadata": {},
   "outputs": [
    {
     "data": {
      "text/html": [
       "<div>\n",
       "<style scoped>\n",
       "    .dataframe tbody tr th:only-of-type {\n",
       "        vertical-align: middle;\n",
       "    }\n",
       "\n",
       "    .dataframe tbody tr th {\n",
       "        vertical-align: top;\n",
       "    }\n",
       "\n",
       "    .dataframe thead th {\n",
       "        text-align: right;\n",
       "    }\n",
       "</style>\n",
       "<table border=\"1\" class=\"dataframe\">\n",
       "  <thead>\n",
       "    <tr style=\"text-align: right;\">\n",
       "      <th></th>\n",
       "      <th>language</th>\n",
       "      <th>cast_num</th>\n",
       "      <th>new_cast_num</th>\n",
       "      <th>cast_0</th>\n",
       "      <th>crew_num</th>\n",
       "      <th>director</th>\n",
       "      <th>genre_0</th>\n",
       "      <th>company_0</th>\n",
       "      <th>country</th>\n",
       "      <th>popularity</th>\n",
       "      <th>new_popl</th>\n",
       "    </tr>\n",
       "  </thead>\n",
       "  <tbody>\n",
       "    <tr>\n",
       "      <th>0</th>\n",
       "      <td>en</td>\n",
       "      <td>83</td>\n",
       "      <td>3</td>\n",
       "      <td>Sam Worthington</td>\n",
       "      <td>153</td>\n",
       "      <td>James Cameron</td>\n",
       "      <td>Action</td>\n",
       "      <td>Ingenious Film Partners</td>\n",
       "      <td>US</td>\n",
       "      <td>150.437577</td>\n",
       "      <td>1.0</td>\n",
       "    </tr>\n",
       "    <tr>\n",
       "      <th>1</th>\n",
       "      <td>en</td>\n",
       "      <td>34</td>\n",
       "      <td>1</td>\n",
       "      <td>Johnny Depp</td>\n",
       "      <td>32</td>\n",
       "      <td>Gore Verbinski</td>\n",
       "      <td>Adventure</td>\n",
       "      <td>Walt Disney Pictures</td>\n",
       "      <td>US</td>\n",
       "      <td>139.082615</td>\n",
       "      <td>1.0</td>\n",
       "    </tr>\n",
       "    <tr>\n",
       "      <th>2</th>\n",
       "      <td>en</td>\n",
       "      <td>83</td>\n",
       "      <td>3</td>\n",
       "      <td>Daniel Craig</td>\n",
       "      <td>155</td>\n",
       "      <td>Sam Mendes</td>\n",
       "      <td>Action</td>\n",
       "      <td>Columbia Pictures</td>\n",
       "      <td>GB</td>\n",
       "      <td>107.376788</td>\n",
       "      <td>1.0</td>\n",
       "    </tr>\n",
       "    <tr>\n",
       "      <th>3</th>\n",
       "      <td>en</td>\n",
       "      <td>158</td>\n",
       "      <td>3</td>\n",
       "      <td>Christian Bale</td>\n",
       "      <td>217</td>\n",
       "      <td>Christopher Nolan</td>\n",
       "      <td>Action</td>\n",
       "      <td>Legendary Pictures</td>\n",
       "      <td>US</td>\n",
       "      <td>112.312950</td>\n",
       "      <td>1.0</td>\n",
       "    </tr>\n",
       "    <tr>\n",
       "      <th>4</th>\n",
       "      <td>en</td>\n",
       "      <td>27</td>\n",
       "      <td>1</td>\n",
       "      <td>Taylor Kitsch</td>\n",
       "      <td>132</td>\n",
       "      <td>Andrew Stanton</td>\n",
       "      <td>Action</td>\n",
       "      <td>Walt Disney Pictures</td>\n",
       "      <td>US</td>\n",
       "      <td>43.926995</td>\n",
       "      <td>1.0</td>\n",
       "    </tr>\n",
       "  </tbody>\n",
       "</table>\n",
       "</div>"
      ],
      "text/plain": [
       "  language  cast_num  new_cast_num           cast_0  crew_num  \\\n",
       "0       en        83             3  Sam Worthington       153   \n",
       "1       en        34             1      Johnny Depp        32   \n",
       "2       en        83             3     Daniel Craig       155   \n",
       "3       en       158             3   Christian Bale       217   \n",
       "4       en        27             1    Taylor Kitsch       132   \n",
       "\n",
       "            director    genre_0                company_0 country  popularity  \\\n",
       "0      James Cameron     Action  Ingenious Film Partners      US  150.437577   \n",
       "1     Gore Verbinski  Adventure     Walt Disney Pictures      US  139.082615   \n",
       "2         Sam Mendes     Action        Columbia Pictures      GB  107.376788   \n",
       "3  Christopher Nolan     Action       Legendary Pictures      US  112.312950   \n",
       "4     Andrew Stanton     Action     Walt Disney Pictures      US   43.926995   \n",
       "\n",
       "   new_popl  \n",
       "0       1.0  \n",
       "1       1.0  \n",
       "2       1.0  \n",
       "3       1.0  \n",
       "4       1.0  "
      ]
     },
     "execution_count": 39,
     "metadata": {},
     "output_type": "execute_result"
    }
   ],
   "source": [
    "rec_df.head()"
   ]
  },
  {
   "cell_type": "markdown",
   "metadata": {},
   "source": [
    "# Visualization for attribute crew_num"
   ]
  },
  {
   "cell_type": "code",
   "execution_count": 40,
   "metadata": {},
   "outputs": [
    {
     "data": {
      "text/html": [
       "<div>\n",
       "<style scoped>\n",
       "    .dataframe tbody tr th:only-of-type {\n",
       "        vertical-align: middle;\n",
       "    }\n",
       "\n",
       "    .dataframe tbody tr th {\n",
       "        vertical-align: top;\n",
       "    }\n",
       "\n",
       "    .dataframe thead th {\n",
       "        text-align: right;\n",
       "    }\n",
       "</style>\n",
       "<table border=\"1\" class=\"dataframe\">\n",
       "  <thead>\n",
       "    <tr style=\"text-align: right;\">\n",
       "      <th></th>\n",
       "      <th>crew_num</th>\n",
       "    </tr>\n",
       "  </thead>\n",
       "  <tbody>\n",
       "    <tr>\n",
       "      <th>0</th>\n",
       "      <td>153</td>\n",
       "    </tr>\n",
       "    <tr>\n",
       "      <th>1</th>\n",
       "      <td>32</td>\n",
       "    </tr>\n",
       "    <tr>\n",
       "      <th>2</th>\n",
       "      <td>155</td>\n",
       "    </tr>\n",
       "    <tr>\n",
       "      <th>3</th>\n",
       "      <td>217</td>\n",
       "    </tr>\n",
       "    <tr>\n",
       "      <th>4</th>\n",
       "      <td>132</td>\n",
       "    </tr>\n",
       "  </tbody>\n",
       "</table>\n",
       "</div>"
      ],
      "text/plain": [
       "   crew_num\n",
       "0       153\n",
       "1        32\n",
       "2       155\n",
       "3       217\n",
       "4       132"
      ]
     },
     "execution_count": 40,
     "metadata": {},
     "output_type": "execute_result"
    }
   ],
   "source": [
    "crew_num = rec_df[['crew_num']]\n",
    "crew_ary = np.array(crew_num)\n",
    "crew_num.head()"
   ]
  },
  {
   "cell_type": "markdown",
   "metadata": {},
   "source": [
    "Box Plot"
   ]
  },
  {
   "cell_type": "markdown",
   "metadata": {},
   "source": [
    "To evaluate the distribution of data, and decide how to transfer contineous attributes into categorical"
   ]
  },
  {
   "cell_type": "code",
   "execution_count": 41,
   "metadata": {},
   "outputs": [
    {
     "data": {
      "image/png": "[encoded data removed]",
      "text/plain": [
       "<Figure size 432x288 with 1 Axes>"
      ]
     },
     "metadata": {
      "needs_background": "light"
     },
     "output_type": "display_data"
    }
   ],
   "source": [
    "boxplot = crew_num.boxplot(column=['crew_num'])"
   ]
  },
  {
   "cell_type": "code",
   "execution_count": 42,
   "metadata": {},
   "outputs": [
    {
     "data": {
      "text/plain": [
       "8.0"
      ]
     },
     "execution_count": 42,
     "metadata": {},
     "output_type": "execute_result"
    }
   ],
   "source": [
    "# 25 percentile from 0 to 8 -> 0\n",
    "np.percentile(crew_ary, 25)"
   ]
  },
  {
   "cell_type": "code",
   "execution_count": 43,
   "metadata": {},
   "outputs": [
    {
     "data": {
      "text/plain": [
       "16.0"
      ]
     },
     "execution_count": 43,
     "metadata": {},
     "output_type": "execute_result"
    }
   ],
   "source": [
    "# 50 percentile from 9 to 16 -> 1\n",
    "np.median(crew_ary)"
   ]
  },
  {
   "cell_type": "code",
   "execution_count": 44,
   "metadata": {},
   "outputs": [
    {
     "data": {
      "text/plain": [
       "32.0"
      ]
     },
     "execution_count": 44,
     "metadata": {},
     "output_type": "execute_result"
    }
   ],
   "source": [
    "# 75 percentile from 17 to 32 -> 2\n",
    "np.percentile(crew_ary, 75)"
   ]
  },
  {
   "cell_type": "code",
   "execution_count": 45,
   "metadata": {},
   "outputs": [
    {
     "data": {
      "text/plain": [
       "435.0"
      ]
     },
     "execution_count": 45,
     "metadata": {},
     "output_type": "execute_result"
    }
   ],
   "source": [
    "# 100 percentile from 32 to 435 -> 3\n",
    "np.percentile(crew_ary, 100)"
   ]
  },
  {
   "cell_type": "code",
   "execution_count": 46,
   "metadata": {},
   "outputs": [],
   "source": [
    "for index, row in crew_num.iterrows():\n",
    "    num = row[\"crew_num\"]\n",
    "    if 0<=num and num<=8:\n",
    "        row['crew_num'] = 0\n",
    "    elif 8<num and num<=16:\n",
    "        row['crew_num'] = 1\n",
    "    elif 17<num and num<=32:\n",
    "        row['crew_num'] = 2\n",
    "    else:\n",
    "        row['crew_num'] = 3\n",
    "\n",
    "rec_df.insert(5, 'new_crew_num', crew_num['crew_num'])"
   ]
  },
  {
   "cell_type": "code",
   "execution_count": 47,
   "metadata": {},
   "outputs": [
    {
     "data": {
      "text/html": [
       "<div>\n",
       "<style scoped>\n",
       "    .dataframe tbody tr th:only-of-type {\n",
       "        vertical-align: middle;\n",
       "    }\n",
       "\n",
       "    .dataframe tbody tr th {\n",
       "        vertical-align: top;\n",
       "    }\n",
       "\n",
       "    .dataframe thead th {\n",
       "        text-align: right;\n",
       "    }\n",
       "</style>\n",
       "<table border=\"1\" class=\"dataframe\">\n",
       "  <thead>\n",
       "    <tr style=\"text-align: right;\">\n",
       "      <th></th>\n",
       "      <th>language</th>\n",
       "      <th>cast_num</th>\n",
       "      <th>new_cast_num</th>\n",
       "      <th>cast_0</th>\n",
       "      <th>crew_num</th>\n",
       "      <th>new_crew_num</th>\n",
       "      <th>director</th>\n",
       "      <th>genre_0</th>\n",
       "      <th>company_0</th>\n",
       "      <th>country</th>\n",
       "      <th>popularity</th>\n",
       "      <th>new_popl</th>\n",
       "    </tr>\n",
       "  </thead>\n",
       "  <tbody>\n",
       "    <tr>\n",
       "      <th>0</th>\n",
       "      <td>en</td>\n",
       "      <td>83</td>\n",
       "      <td>3</td>\n",
       "      <td>Sam Worthington</td>\n",
       "      <td>153</td>\n",
       "      <td>3</td>\n",
       "      <td>James Cameron</td>\n",
       "      <td>Action</td>\n",
       "      <td>Ingenious Film Partners</td>\n",
       "      <td>US</td>\n",
       "      <td>150.437577</td>\n",
       "      <td>1.0</td>\n",
       "    </tr>\n",
       "    <tr>\n",
       "      <th>1</th>\n",
       "      <td>en</td>\n",
       "      <td>34</td>\n",
       "      <td>1</td>\n",
       "      <td>Johnny Depp</td>\n",
       "      <td>32</td>\n",
       "      <td>2</td>\n",
       "      <td>Gore Verbinski</td>\n",
       "      <td>Adventure</td>\n",
       "      <td>Walt Disney Pictures</td>\n",
       "      <td>US</td>\n",
       "      <td>139.082615</td>\n",
       "      <td>1.0</td>\n",
       "    </tr>\n",
       "    <tr>\n",
       "      <th>2</th>\n",
       "      <td>en</td>\n",
       "      <td>83</td>\n",
       "      <td>3</td>\n",
       "      <td>Daniel Craig</td>\n",
       "      <td>155</td>\n",
       "      <td>3</td>\n",
       "      <td>Sam Mendes</td>\n",
       "      <td>Action</td>\n",
       "      <td>Columbia Pictures</td>\n",
       "      <td>GB</td>\n",
       "      <td>107.376788</td>\n",
       "      <td>1.0</td>\n",
       "    </tr>\n",
       "    <tr>\n",
       "      <th>3</th>\n",
       "      <td>en</td>\n",
       "      <td>158</td>\n",
       "      <td>3</td>\n",
       "      <td>Christian Bale</td>\n",
       "      <td>217</td>\n",
       "      <td>3</td>\n",
       "      <td>Christopher Nolan</td>\n",
       "      <td>Action</td>\n",
       "      <td>Legendary Pictures</td>\n",
       "      <td>US</td>\n",
       "      <td>112.312950</td>\n",
       "      <td>1.0</td>\n",
       "    </tr>\n",
       "    <tr>\n",
       "      <th>4</th>\n",
       "      <td>en</td>\n",
       "      <td>27</td>\n",
       "      <td>1</td>\n",
       "      <td>Taylor Kitsch</td>\n",
       "      <td>132</td>\n",
       "      <td>3</td>\n",
       "      <td>Andrew Stanton</td>\n",
       "      <td>Action</td>\n",
       "      <td>Walt Disney Pictures</td>\n",
       "      <td>US</td>\n",
       "      <td>43.926995</td>\n",
       "      <td>1.0</td>\n",
       "    </tr>\n",
       "  </tbody>\n",
       "</table>\n",
       "</div>"
      ],
      "text/plain": [
       "  language  cast_num  new_cast_num           cast_0  crew_num  new_crew_num  \\\n",
       "0       en        83             3  Sam Worthington       153             3   \n",
       "1       en        34             1      Johnny Depp        32             2   \n",
       "2       en        83             3     Daniel Craig       155             3   \n",
       "3       en       158             3   Christian Bale       217             3   \n",
       "4       en        27             1    Taylor Kitsch       132             3   \n",
       "\n",
       "            director    genre_0                company_0 country  popularity  \\\n",
       "0      James Cameron     Action  Ingenious Film Partners      US  150.437577   \n",
       "1     Gore Verbinski  Adventure     Walt Disney Pictures      US  139.082615   \n",
       "2         Sam Mendes     Action        Columbia Pictures      GB  107.376788   \n",
       "3  Christopher Nolan     Action       Legendary Pictures      US  112.312950   \n",
       "4     Andrew Stanton     Action     Walt Disney Pictures      US   43.926995   \n",
       "\n",
       "   new_popl  \n",
       "0       1.0  \n",
       "1       1.0  \n",
       "2       1.0  \n",
       "3       1.0  \n",
       "4       1.0  "
      ]
     },
     "execution_count": 47,
     "metadata": {},
     "output_type": "execute_result"
    }
   ],
   "source": [
    "rec_df.head()"
   ]
  },
  {
   "cell_type": "markdown",
   "metadata": {},
   "source": [
    "# Categorical data vectorize"
   ]
  },
  {
   "cell_type": "code",
   "execution_count": 49,
   "metadata": {},
   "outputs": [
    {
     "data": {
      "text/html": [
       "<div>\n",
       "<style scoped>\n",
       "    .dataframe tbody tr th:only-of-type {\n",
       "        vertical-align: middle;\n",
       "    }\n",
       "\n",
       "    .dataframe tbody tr th {\n",
       "        vertical-align: top;\n",
       "    }\n",
       "\n",
       "    .dataframe thead th {\n",
       "        text-align: right;\n",
       "    }\n",
       "</style>\n",
       "<table border=\"1\" class=\"dataframe\">\n",
       "  <thead>\n",
       "    <tr style=\"text-align: right;\">\n",
       "      <th></th>\n",
       "      <th>language</th>\n",
       "      <th>cast_0</th>\n",
       "      <th>director</th>\n",
       "      <th>genre_0</th>\n",
       "      <th>company_0</th>\n",
       "      <th>country</th>\n",
       "      <th>cast_num</th>\n",
       "      <th>crew_num</th>\n",
       "      <th>popularity</th>\n",
       "    </tr>\n",
       "  </thead>\n",
       "  <tbody>\n",
       "    <tr>\n",
       "      <th>0</th>\n",
       "      <td>0</td>\n",
       "      <td>0</td>\n",
       "      <td>0</td>\n",
       "      <td>0</td>\n",
       "      <td>0</td>\n",
       "      <td>0</td>\n",
       "      <td>3</td>\n",
       "      <td>3</td>\n",
       "      <td>1.0</td>\n",
       "    </tr>\n",
       "    <tr>\n",
       "      <th>1</th>\n",
       "      <td>0</td>\n",
       "      <td>1</td>\n",
       "      <td>1</td>\n",
       "      <td>1</td>\n",
       "      <td>1</td>\n",
       "      <td>0</td>\n",
       "      <td>1</td>\n",
       "      <td>2</td>\n",
       "      <td>1.0</td>\n",
       "    </tr>\n",
       "    <tr>\n",
       "      <th>2</th>\n",
       "      <td>0</td>\n",
       "      <td>2</td>\n",
       "      <td>2</td>\n",
       "      <td>0</td>\n",
       "      <td>2</td>\n",
       "      <td>1</td>\n",
       "      <td>3</td>\n",
       "      <td>3</td>\n",
       "      <td>1.0</td>\n",
       "    </tr>\n",
       "    <tr>\n",
       "      <th>3</th>\n",
       "      <td>0</td>\n",
       "      <td>3</td>\n",
       "      <td>3</td>\n",
       "      <td>0</td>\n",
       "      <td>3</td>\n",
       "      <td>0</td>\n",
       "      <td>3</td>\n",
       "      <td>3</td>\n",
       "      <td>1.0</td>\n",
       "    </tr>\n",
       "    <tr>\n",
       "      <th>4</th>\n",
       "      <td>0</td>\n",
       "      <td>4</td>\n",
       "      <td>4</td>\n",
       "      <td>0</td>\n",
       "      <td>1</td>\n",
       "      <td>0</td>\n",
       "      <td>1</td>\n",
       "      <td>3</td>\n",
       "      <td>1.0</td>\n",
       "    </tr>\n",
       "  </tbody>\n",
       "</table>\n",
       "</div>"
      ],
      "text/plain": [
       "   language  cast_0  director  genre_0  company_0  country  cast_num  \\\n",
       "0         0       0         0        0          0        0         3   \n",
       "1         0       1         1        1          1        0         1   \n",
       "2         0       2         2        0          2        1         3   \n",
       "3         0       3         3        0          3        0         3   \n",
       "4         0       4         4        0          1        0         1   \n",
       "\n",
       "   crew_num  popularity  \n",
       "0         3         1.0  \n",
       "1         2         1.0  \n",
       "2         3         1.0  \n",
       "3         3         1.0  \n",
       "4         3         1.0  "
      ]
     },
     "execution_count": 49,
     "metadata": {},
     "output_type": "execute_result"
    }
   ],
   "source": [
    "columns = ['language', 'cast_0', 'director', 'genre_0', 'company_0', 'country']\n",
    "\n",
    "vectors = {}\n",
    "# for each col\n",
    "for col in columns:\n",
    "    count = 0\n",
    "    dic = {}\n",
    "    result = []\n",
    "    for cell in rec_df[col]:\n",
    "        # find a match in dictionary\n",
    "        if cell not in dic.keys():\n",
    "            dic[cell] = count\n",
    "            result.append(count)\n",
    "            count += 1\n",
    "        else:\n",
    "            result.append(dic[cell])\n",
    "    # insert each column into dictionary (for new dataframe)\n",
    "    vectors[col] = result\n",
    "        \n",
    "# create a new dataframe\n",
    "vector_df = pd.DataFrame(vectors)\n",
    "# add the numeric columns\n",
    "vector_df['cast_num'] = rec_df['new_cast_num']\n",
    "vector_df['crew_num'] = rec_df['new_crew_num']\n",
    "vector_df['popularity'] = rec_df['new_popl']\n",
    "vector_df.head()"
   ]
  },
  {
   "cell_type": "code",
   "execution_count": 88,
   "metadata": {},
   "outputs": [],
   "source": [
    "# export the vector data to csv, not shuffled, every time run should export original version\n",
    "vector_df.to_csv('output/classification/vector_data.csv', index=False)"
   ]
  },
  {
   "cell_type": "code",
   "execution_count": 89,
   "metadata": {},
   "outputs": [
    {
     "data": {
      "text/html": [
       "<div>\n",
       "<style scoped>\n",
       "    .dataframe tbody tr th:only-of-type {\n",
       "        vertical-align: middle;\n",
       "    }\n",
       "\n",
       "    .dataframe tbody tr th {\n",
       "        vertical-align: top;\n",
       "    }\n",
       "\n",
       "    .dataframe thead th {\n",
       "        text-align: right;\n",
       "    }\n",
       "</style>\n",
       "<table border=\"1\" class=\"dataframe\">\n",
       "  <thead>\n",
       "    <tr style=\"text-align: right;\">\n",
       "      <th></th>\n",
       "      <th>language</th>\n",
       "      <th>cast_0</th>\n",
       "      <th>director</th>\n",
       "      <th>genre_0</th>\n",
       "      <th>company_0</th>\n",
       "      <th>country</th>\n",
       "      <th>cast_num</th>\n",
       "      <th>crew_num</th>\n",
       "      <th>popularity</th>\n",
       "    </tr>\n",
       "  </thead>\n",
       "  <tbody>\n",
       "    <tr>\n",
       "      <th>404</th>\n",
       "      <td>0</td>\n",
       "      <td>202</td>\n",
       "      <td>13</td>\n",
       "      <td>5</td>\n",
       "      <td>31</td>\n",
       "      <td>0</td>\n",
       "      <td>0</td>\n",
       "      <td>1</td>\n",
       "      <td>1.0</td>\n",
       "    </tr>\n",
       "    <tr>\n",
       "      <th>2803</th>\n",
       "      <td>0</td>\n",
       "      <td>371</td>\n",
       "      <td>1212</td>\n",
       "      <td>13</td>\n",
       "      <td>584</td>\n",
       "      <td>6</td>\n",
       "      <td>0</td>\n",
       "      <td>0</td>\n",
       "      <td>0.0</td>\n",
       "    </tr>\n",
       "    <tr>\n",
       "      <th>4203</th>\n",
       "      <td>26</td>\n",
       "      <td>1690</td>\n",
       "      <td>1956</td>\n",
       "      <td>5</td>\n",
       "      <td>1051</td>\n",
       "      <td>9</td>\n",
       "      <td>0</td>\n",
       "      <td>0</td>\n",
       "      <td>0.0</td>\n",
       "    </tr>\n",
       "    <tr>\n",
       "      <th>1995</th>\n",
       "      <td>0</td>\n",
       "      <td>32</td>\n",
       "      <td>135</td>\n",
       "      <td>6</td>\n",
       "      <td>344</td>\n",
       "      <td>0</td>\n",
       "      <td>0</td>\n",
       "      <td>3</td>\n",
       "      <td>1.0</td>\n",
       "    </tr>\n",
       "    <tr>\n",
       "      <th>3942</th>\n",
       "      <td>0</td>\n",
       "      <td>518</td>\n",
       "      <td>1793</td>\n",
       "      <td>8</td>\n",
       "      <td>942</td>\n",
       "      <td>0</td>\n",
       "      <td>0</td>\n",
       "      <td>1</td>\n",
       "      <td>0.0</td>\n",
       "    </tr>\n",
       "  </tbody>\n",
       "</table>\n",
       "</div>"
      ],
      "text/plain": [
       "      language  cast_0  director  genre_0  company_0  country  cast_num  \\\n",
       "404          0     202        13        5         31        0         0   \n",
       "2803         0     371      1212       13        584        6         0   \n",
       "4203        26    1690      1956        5       1051        9         0   \n",
       "1995         0      32       135        6        344        0         0   \n",
       "3942         0     518      1793        8        942        0         0   \n",
       "\n",
       "      crew_num  popularity  \n",
       "404          1         1.0  \n",
       "2803         0         0.0  \n",
       "4203         0         0.0  \n",
       "1995         3         1.0  \n",
       "3942         1         0.0  "
      ]
     },
     "execution_count": 89,
     "metadata": {},
     "output_type": "execute_result"
    }
   ],
   "source": [
    "vector_df.head()"
   ]
  },
  {
   "cell_type": "markdown",
   "metadata": {},
   "source": [
    "# Split data into training sets and test sets (Holdout)"
   ]
  },
  {
   "cell_type": "markdown",
   "metadata": {},
   "source": [
    "# Notice:"
   ]
  },
  {
   "cell_type": "markdown",
   "metadata": {},
   "source": [
    "Below are the data shuffling part, every time run up to here shall change a file name of the exported csv. Otherwise the data used before will be lost every time run following part!!!"
   ]
  },
  {
   "cell_type": "code",
   "execution_count": 90,
   "metadata": {},
   "outputs": [
    {
     "data": {
      "text/html": [
       "<div>\n",
       "<style scoped>\n",
       "    .dataframe tbody tr th:only-of-type {\n",
       "        vertical-align: middle;\n",
       "    }\n",
       "\n",
       "    .dataframe tbody tr th {\n",
       "        vertical-align: top;\n",
       "    }\n",
       "\n",
       "    .dataframe thead th {\n",
       "        text-align: right;\n",
       "    }\n",
       "</style>\n",
       "<table border=\"1\" class=\"dataframe\">\n",
       "  <thead>\n",
       "    <tr style=\"text-align: right;\">\n",
       "      <th></th>\n",
       "      <th>language</th>\n",
       "      <th>cast_0</th>\n",
       "      <th>director</th>\n",
       "      <th>genre_0</th>\n",
       "      <th>company_0</th>\n",
       "      <th>country</th>\n",
       "      <th>cast_num</th>\n",
       "      <th>crew_num</th>\n",
       "      <th>popularity</th>\n",
       "    </tr>\n",
       "  </thead>\n",
       "  <tbody>\n",
       "    <tr>\n",
       "      <th>2120</th>\n",
       "      <td>0</td>\n",
       "      <td>741</td>\n",
       "      <td>440</td>\n",
       "      <td>15</td>\n",
       "      <td>168</td>\n",
       "      <td>6</td>\n",
       "      <td>0</td>\n",
       "      <td>2</td>\n",
       "      <td>1.0</td>\n",
       "    </tr>\n",
       "    <tr>\n",
       "      <th>257</th>\n",
       "      <td>0</td>\n",
       "      <td>23</td>\n",
       "      <td>80</td>\n",
       "      <td>0</td>\n",
       "      <td>31</td>\n",
       "      <td>13</td>\n",
       "      <td>3</td>\n",
       "      <td>3</td>\n",
       "      <td>1.0</td>\n",
       "    </tr>\n",
       "    <tr>\n",
       "      <th>926</th>\n",
       "      <td>0</td>\n",
       "      <td>313</td>\n",
       "      <td>437</td>\n",
       "      <td>3</td>\n",
       "      <td>18</td>\n",
       "      <td>0</td>\n",
       "      <td>0</td>\n",
       "      <td>1</td>\n",
       "      <td>1.0</td>\n",
       "    </tr>\n",
       "    <tr>\n",
       "      <th>4431</th>\n",
       "      <td>32</td>\n",
       "      <td>1839</td>\n",
       "      <td>2109</td>\n",
       "      <td>5</td>\n",
       "      <td>1157</td>\n",
       "      <td>9</td>\n",
       "      <td>0</td>\n",
       "      <td>0</td>\n",
       "      <td>0.0</td>\n",
       "    </tr>\n",
       "    <tr>\n",
       "      <th>3028</th>\n",
       "      <td>0</td>\n",
       "      <td>191</td>\n",
       "      <td>180</td>\n",
       "      <td>0</td>\n",
       "      <td>15</td>\n",
       "      <td>0</td>\n",
       "      <td>0</td>\n",
       "      <td>2</td>\n",
       "      <td>1.0</td>\n",
       "    </tr>\n",
       "  </tbody>\n",
       "</table>\n",
       "</div>"
      ],
      "text/plain": [
       "      language  cast_0  director  genre_0  company_0  country  cast_num  \\\n",
       "2120         0     741       440       15        168        6         0   \n",
       "257          0      23        80        0         31       13         3   \n",
       "926          0     313       437        3         18        0         0   \n",
       "4431        32    1839      2109        5       1157        9         0   \n",
       "3028         0     191       180        0         15        0         0   \n",
       "\n",
       "      crew_num  popularity  \n",
       "2120         2         1.0  \n",
       "257          3         1.0  \n",
       "926          1         1.0  \n",
       "4431         0         0.0  \n",
       "3028         2         1.0  "
      ]
     },
     "execution_count": 90,
     "metadata": {},
     "output_type": "execute_result"
    }
   ],
   "source": [
    "# Shuffe vector dataframe to make data saperate randomly, index maintained the same -> or .reset_index(drop=True)\n",
    "vector_df = vector_df.sample(frac=1)\n",
    "vector_df.head()"
   ]
  },
  {
   "cell_type": "code",
   "execution_count": 91,
   "metadata": {},
   "outputs": [],
   "source": [
    "# Raw 4790 movies, training 3194, testing 1596\n",
    "train_df = vector_df.head(3194)\n",
    "test_df = vector_df.tail(1596)"
   ]
  },
  {
   "cell_type": "code",
   "execution_count": 92,
   "metadata": {},
   "outputs": [
    {
     "data": {
      "text/html": [
       "<div>\n",
       "<style scoped>\n",
       "    .dataframe tbody tr th:only-of-type {\n",
       "        vertical-align: middle;\n",
       "    }\n",
       "\n",
       "    .dataframe tbody tr th {\n",
       "        vertical-align: top;\n",
       "    }\n",
       "\n",
       "    .dataframe thead th {\n",
       "        text-align: right;\n",
       "    }\n",
       "</style>\n",
       "<table border=\"1\" class=\"dataframe\">\n",
       "  <thead>\n",
       "    <tr style=\"text-align: right;\">\n",
       "      <th></th>\n",
       "      <th>language</th>\n",
       "      <th>cast_0</th>\n",
       "      <th>director</th>\n",
       "      <th>genre_0</th>\n",
       "      <th>company_0</th>\n",
       "      <th>country</th>\n",
       "      <th>cast_num</th>\n",
       "      <th>crew_num</th>\n",
       "      <th>popularity</th>\n",
       "    </tr>\n",
       "  </thead>\n",
       "  <tbody>\n",
       "    <tr>\n",
       "      <th>2120</th>\n",
       "      <td>0</td>\n",
       "      <td>741</td>\n",
       "      <td>440</td>\n",
       "      <td>15</td>\n",
       "      <td>168</td>\n",
       "      <td>6</td>\n",
       "      <td>0</td>\n",
       "      <td>2</td>\n",
       "      <td>1.0</td>\n",
       "    </tr>\n",
       "    <tr>\n",
       "      <th>257</th>\n",
       "      <td>0</td>\n",
       "      <td>23</td>\n",
       "      <td>80</td>\n",
       "      <td>0</td>\n",
       "      <td>31</td>\n",
       "      <td>13</td>\n",
       "      <td>3</td>\n",
       "      <td>3</td>\n",
       "      <td>1.0</td>\n",
       "    </tr>\n",
       "    <tr>\n",
       "      <th>926</th>\n",
       "      <td>0</td>\n",
       "      <td>313</td>\n",
       "      <td>437</td>\n",
       "      <td>3</td>\n",
       "      <td>18</td>\n",
       "      <td>0</td>\n",
       "      <td>0</td>\n",
       "      <td>1</td>\n",
       "      <td>1.0</td>\n",
       "    </tr>\n",
       "    <tr>\n",
       "      <th>4431</th>\n",
       "      <td>32</td>\n",
       "      <td>1839</td>\n",
       "      <td>2109</td>\n",
       "      <td>5</td>\n",
       "      <td>1157</td>\n",
       "      <td>9</td>\n",
       "      <td>0</td>\n",
       "      <td>0</td>\n",
       "      <td>0.0</td>\n",
       "    </tr>\n",
       "    <tr>\n",
       "      <th>3028</th>\n",
       "      <td>0</td>\n",
       "      <td>191</td>\n",
       "      <td>180</td>\n",
       "      <td>0</td>\n",
       "      <td>15</td>\n",
       "      <td>0</td>\n",
       "      <td>0</td>\n",
       "      <td>2</td>\n",
       "      <td>1.0</td>\n",
       "    </tr>\n",
       "  </tbody>\n",
       "</table>\n",
       "</div>"
      ],
      "text/plain": [
       "      language  cast_0  director  genre_0  company_0  country  cast_num  \\\n",
       "2120         0     741       440       15        168        6         0   \n",
       "257          0      23        80        0         31       13         3   \n",
       "926          0     313       437        3         18        0         0   \n",
       "4431        32    1839      2109        5       1157        9         0   \n",
       "3028         0     191       180        0         15        0         0   \n",
       "\n",
       "      crew_num  popularity  \n",
       "2120         2         1.0  \n",
       "257          3         1.0  \n",
       "926          1         1.0  \n",
       "4431         0         0.0  \n",
       "3028         2         1.0  "
      ]
     },
     "execution_count": 92,
     "metadata": {},
     "output_type": "execute_result"
    }
   ],
   "source": [
    "train_df.head()"
   ]
  },
  {
   "cell_type": "code",
   "execution_count": 93,
   "metadata": {},
   "outputs": [
    {
     "data": {
      "text/html": [
       "<div>\n",
       "<style scoped>\n",
       "    .dataframe tbody tr th:only-of-type {\n",
       "        vertical-align: middle;\n",
       "    }\n",
       "\n",
       "    .dataframe tbody tr th {\n",
       "        vertical-align: top;\n",
       "    }\n",
       "\n",
       "    .dataframe thead th {\n",
       "        text-align: right;\n",
       "    }\n",
       "</style>\n",
       "<table border=\"1\" class=\"dataframe\">\n",
       "  <thead>\n",
       "    <tr style=\"text-align: right;\">\n",
       "      <th></th>\n",
       "      <th>language</th>\n",
       "      <th>cast_0</th>\n",
       "      <th>director</th>\n",
       "      <th>genre_0</th>\n",
       "      <th>company_0</th>\n",
       "      <th>country</th>\n",
       "      <th>cast_num</th>\n",
       "      <th>crew_num</th>\n",
       "      <th>popularity</th>\n",
       "    </tr>\n",
       "  </thead>\n",
       "  <tbody>\n",
       "    <tr>\n",
       "      <th>2273</th>\n",
       "      <td>0</td>\n",
       "      <td>155</td>\n",
       "      <td>967</td>\n",
       "      <td>5</td>\n",
       "      <td>433</td>\n",
       "      <td>43</td>\n",
       "      <td>0</td>\n",
       "      <td>0</td>\n",
       "      <td>0.0</td>\n",
       "    </tr>\n",
       "    <tr>\n",
       "      <th>2027</th>\n",
       "      <td>0</td>\n",
       "      <td>342</td>\n",
       "      <td>869</td>\n",
       "      <td>5</td>\n",
       "      <td>13</td>\n",
       "      <td>0</td>\n",
       "      <td>1</td>\n",
       "      <td>3</td>\n",
       "      <td>1.0</td>\n",
       "    </tr>\n",
       "    <tr>\n",
       "      <th>3414</th>\n",
       "      <td>0</td>\n",
       "      <td>469</td>\n",
       "      <td>1515</td>\n",
       "      <td>0</td>\n",
       "      <td>762</td>\n",
       "      <td>18</td>\n",
       "      <td>0</td>\n",
       "      <td>0</td>\n",
       "      <td>0.0</td>\n",
       "    </tr>\n",
       "    <tr>\n",
       "      <th>683</th>\n",
       "      <td>0</td>\n",
       "      <td>79</td>\n",
       "      <td>341</td>\n",
       "      <td>0</td>\n",
       "      <td>100</td>\n",
       "      <td>0</td>\n",
       "      <td>0</td>\n",
       "      <td>1</td>\n",
       "      <td>0.0</td>\n",
       "    </tr>\n",
       "    <tr>\n",
       "      <th>4348</th>\n",
       "      <td>0</td>\n",
       "      <td>1784</td>\n",
       "      <td>1468</td>\n",
       "      <td>0</td>\n",
       "      <td>416</td>\n",
       "      <td>6</td>\n",
       "      <td>0</td>\n",
       "      <td>3</td>\n",
       "      <td>1.0</td>\n",
       "    </tr>\n",
       "  </tbody>\n",
       "</table>\n",
       "</div>"
      ],
      "text/plain": [
       "      language  cast_0  director  genre_0  company_0  country  cast_num  \\\n",
       "2273         0     155       967        5        433       43         0   \n",
       "2027         0     342       869        5         13        0         1   \n",
       "3414         0     469      1515        0        762       18         0   \n",
       "683          0      79       341        0        100        0         0   \n",
       "4348         0    1784      1468        0        416        6         0   \n",
       "\n",
       "      crew_num  popularity  \n",
       "2273         0         0.0  \n",
       "2027         3         1.0  \n",
       "3414         0         0.0  \n",
       "683          1         0.0  \n",
       "4348         3         1.0  "
      ]
     },
     "execution_count": 93,
     "metadata": {},
     "output_type": "execute_result"
    }
   ],
   "source": [
    "test_df.head()"
   ]
  },
  {
   "cell_type": "code",
   "execution_count": 94,
   "metadata": {},
   "outputs": [],
   "source": [
    "# Export the vector training and test data with label class to csv, the shuffled version every time run will be different, as backup\n",
    "train_df.to_csv('output/classification/version_X/train_set.csv', index=False) # change to XXXX.csv\n",
    "test_df.to_csv('output/classification/version_X/test_set_with_popularity.csv', index=False) # change to XXXX.csv"
   ]
  },
  {
   "cell_type": "code",
   "execution_count": 95,
   "metadata": {},
   "outputs": [
    {
     "data": {
      "text/html": [
       "<div>\n",
       "<style scoped>\n",
       "    .dataframe tbody tr th:only-of-type {\n",
       "        vertical-align: middle;\n",
       "    }\n",
       "\n",
       "    .dataframe tbody tr th {\n",
       "        vertical-align: top;\n",
       "    }\n",
       "\n",
       "    .dataframe thead th {\n",
       "        text-align: right;\n",
       "    }\n",
       "</style>\n",
       "<table border=\"1\" class=\"dataframe\">\n",
       "  <thead>\n",
       "    <tr style=\"text-align: right;\">\n",
       "      <th></th>\n",
       "      <th>language</th>\n",
       "      <th>cast_0</th>\n",
       "      <th>director</th>\n",
       "      <th>genre_0</th>\n",
       "      <th>company_0</th>\n",
       "      <th>country</th>\n",
       "      <th>cast_num</th>\n",
       "      <th>crew_num</th>\n",
       "    </tr>\n",
       "  </thead>\n",
       "  <tbody>\n",
       "    <tr>\n",
       "      <th>2273</th>\n",
       "      <td>0</td>\n",
       "      <td>155</td>\n",
       "      <td>967</td>\n",
       "      <td>5</td>\n",
       "      <td>433</td>\n",
       "      <td>43</td>\n",
       "      <td>0</td>\n",
       "      <td>0</td>\n",
       "    </tr>\n",
       "    <tr>\n",
       "      <th>2027</th>\n",
       "      <td>0</td>\n",
       "      <td>342</td>\n",
       "      <td>869</td>\n",
       "      <td>5</td>\n",
       "      <td>13</td>\n",
       "      <td>0</td>\n",
       "      <td>1</td>\n",
       "      <td>3</td>\n",
       "    </tr>\n",
       "    <tr>\n",
       "      <th>3414</th>\n",
       "      <td>0</td>\n",
       "      <td>469</td>\n",
       "      <td>1515</td>\n",
       "      <td>0</td>\n",
       "      <td>762</td>\n",
       "      <td>18</td>\n",
       "      <td>0</td>\n",
       "      <td>0</td>\n",
       "    </tr>\n",
       "    <tr>\n",
       "      <th>683</th>\n",
       "      <td>0</td>\n",
       "      <td>79</td>\n",
       "      <td>341</td>\n",
       "      <td>0</td>\n",
       "      <td>100</td>\n",
       "      <td>0</td>\n",
       "      <td>0</td>\n",
       "      <td>1</td>\n",
       "    </tr>\n",
       "    <tr>\n",
       "      <th>4348</th>\n",
       "      <td>0</td>\n",
       "      <td>1784</td>\n",
       "      <td>1468</td>\n",
       "      <td>0</td>\n",
       "      <td>416</td>\n",
       "      <td>6</td>\n",
       "      <td>0</td>\n",
       "      <td>3</td>\n",
       "    </tr>\n",
       "  </tbody>\n",
       "</table>\n",
       "</div>"
      ],
      "text/plain": [
       "      language  cast_0  director  genre_0  company_0  country  cast_num  \\\n",
       "2273         0     155       967        5        433       43         0   \n",
       "2027         0     342       869        5         13        0         1   \n",
       "3414         0     469      1515        0        762       18         0   \n",
       "683          0      79       341        0        100        0         0   \n",
       "4348         0    1784      1468        0        416        6         0   \n",
       "\n",
       "      crew_num  \n",
       "2273         0  \n",
       "2027         3  \n",
       "3414         0  \n",
       "683          1  \n",
       "4348         3  "
      ]
     },
     "execution_count": 95,
     "metadata": {},
     "output_type": "execute_result"
    }
   ],
   "source": [
    "# Remove label class popularity from test data\n",
    "test_set = test_df.drop(columns=['popularity'])\n",
    "test_set.head()"
   ]
  },
  {
   "cell_type": "code",
   "execution_count": 96,
   "metadata": {},
   "outputs": [],
   "source": [
    "# Export the test data after removing label class, the shuffled version every time run will be different, as backup\n",
    "test_set.to_csv('output/classification/version_X/test_set.csv', index=False) # change to XXXX.csv"
   ]
  }
 ],
 "metadata": {
  "kernelspec": {
   "display_name": "Python 3",
   "language": "python",
   "name": "python3"
  },
  "language_info": {
   "codemirror_mode": {
    "name": "ipython",
    "version": 3
   },
   "file_extension": ".py",
   "mimetype": "text/x-python",
   "name": "python",
   "nbconvert_exporter": "python",
   "pygments_lexer": "ipython3",
   "version": "3.7.2"
  }
 },
 "nbformat": 4,
 "nbformat_minor": 2
}
